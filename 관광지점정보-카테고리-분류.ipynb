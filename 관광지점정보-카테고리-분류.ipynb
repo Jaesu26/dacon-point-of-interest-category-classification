{
  "cells": [
    {
      "cell_type": "markdown",
      "metadata": {
        "id": "view-in-github",
        "colab_type": "text"
      },
      "source": [
        "<a href=\"https://colab.research.google.com/github/Jaesu26/dacon-point-of-interest-category-classification/blob/main/%EA%B4%80%EA%B4%91%EC%A7%80%EC%A0%90%EC%A0%95%EB%B3%B4-%EC%B9%B4%ED%85%8C%EA%B3%A0%EB%A6%AC-%EB%B6%84%EB%A5%98.ipynb\" target=\"_parent\"><img src=\"https://colab.research.google.com/assets/colab-badge.svg\" alt=\"Open In Colab\"/></a>"
      ]
    },
    {
      "cell_type": "markdown",
      "metadata": {
        "id": "75xRhMA-ZZ4g"
      },
      "source": [
        "# 2022 관광데이터 AI 경진대회"
      ]
    },
    {
      "cell_type": "code",
      "source": [
        "!nvidia-smi"
      ],
      "metadata": {
        "id": "X67UtKqIc0VQ",
        "outputId": "a7ecbf73-511d-4b83-a96f-de8471c86436",
        "colab": {
          "base_uri": "https://localhost:8080/"
        }
      },
      "execution_count": null,
      "outputs": [
        {
          "output_type": "stream",
          "name": "stdout",
          "text": [
            "Sun Oct 16 14:31:08 2022       \n",
            "+-----------------------------------------------------------------------------+\n",
            "| NVIDIA-SMI 460.32.03    Driver Version: 460.32.03    CUDA Version: 11.2     |\n",
            "|-------------------------------+----------------------+----------------------+\n",
            "| GPU  Name        Persistence-M| Bus-Id        Disp.A | Volatile Uncorr. ECC |\n",
            "| Fan  Temp  Perf  Pwr:Usage/Cap|         Memory-Usage | GPU-Util  Compute M. |\n",
            "|                               |                      |               MIG M. |\n",
            "|===============================+======================+======================|\n",
            "|   0  Tesla T4            Off  | 00000000:00:04.0 Off |                    0 |\n",
            "| N/A   47C    P8     9W /  70W |      0MiB / 15109MiB |      0%      Default |\n",
            "|                               |                      |                  N/A |\n",
            "+-------------------------------+----------------------+----------------------+\n",
            "                                                                               \n",
            "+-----------------------------------------------------------------------------+\n",
            "| Processes:                                                                  |\n",
            "|  GPU   GI   CI        PID   Type   Process name                  GPU Memory |\n",
            "|        ID   ID                                                   Usage      |\n",
            "|=============================================================================|\n",
            "|  No running processes found                                                 |\n",
            "+-----------------------------------------------------------------------------+\n"
          ]
        }
      ]
    },
    {
      "cell_type": "code",
      "source": [
        "!sudo apt-get install -y fonts-nanum\n",
        "!sudo fc-cache -fv\n",
        "!rm ~/.cache/matplotlib -rf"
      ],
      "metadata": {
        "id": "CcdrPaqtO1bU"
      },
      "execution_count": null,
      "outputs": []
    },
    {
      "cell_type": "code",
      "source": [
        "!pip install git+https://github.com/Jaesu26/text-augmentation.git\n",
        "!pip install transformers==4.8.2"
      ],
      "metadata": {
        "id": "RBBHr3XTBuEV"
      },
      "execution_count": null,
      "outputs": []
    },
    {
      "cell_type": "markdown",
      "metadata": {
        "id": "_P6pjIkRBeFZ"
      },
      "source": [
        "`-` 런타임 재시작"
      ]
    },
    {
      "cell_type": "markdown",
      "metadata": {
        "id": "68xM6jF0ZchA"
      },
      "source": [
        "## 데이터 불러오기"
      ]
    },
    {
      "cell_type": "code",
      "execution_count": null,
      "metadata": {
        "id": "zJnLWFhmMGG4"
      },
      "outputs": [],
      "source": [
        "import numpy as np\n",
        "import pandas as pd\n",
        "import seaborn as sns\n",
        "import matplotlib.pyplot as plt\n",
        "import warnings\n",
        "import random\n",
        "import copy\n",
        "import re\n",
        "import os\n",
        "import gc\n",
        "\n",
        "from sklearn.model_selection import StratifiedKFold\n",
        "from sklearn.preprocessing import LabelEncoder\n",
        "from sklearn.metrics import f1_score, accuracy_score \n",
        "\n",
        "from typing import Any, Callable, Dict, List, Optional, Sequence, Tuple, Union\n",
        "from numpy.typing import NDArray\n",
        "\n",
        "from tqdm.auto import tqdm\n",
        "from glob import glob\n",
        "\n",
        "warnings.filterwarnings('ignore')"
      ]
    },
    {
      "cell_type": "code",
      "execution_count": null,
      "metadata": {
        "colab": {
          "base_uri": "https://localhost:8080/"
        },
        "id": "GjvmmVOVMW_P",
        "outputId": "a094711f-a721-43af-c98f-7e00bba18b6b"
      },
      "outputs": [
        {
          "output_type": "stream",
          "name": "stdout",
          "text": [
            "Mounted at /content/drive\n"
          ]
        }
      ],
      "source": [
        "from google.colab import drive\n",
        "\n",
        "drive.mount('/content/drive')  ## 구글코랩과 구글드라이브 연결"
      ]
    },
    {
      "cell_type": "code",
      "execution_count": null,
      "metadata": {
        "colab": {
          "base_uri": "https://localhost:8080/"
        },
        "id": "eVxuuFzhM72P",
        "outputId": "7d67a697-a9e2-4477-fae0-3165c17d1d23"
      },
      "outputs": [
        {
          "output_type": "stream",
          "name": "stdout",
          "text": [
            "/content/drive/MyDrive/Colab Notebooks/관광지점정보-카테고리-분류/Data\n"
          ]
        }
      ],
      "source": [
        "%cd  '/content/drive/MyDrive/Colab Notebooks/관광지점정보-카테고리-분류/data'"
      ]
    },
    {
      "cell_type": "code",
      "execution_count": null,
      "metadata": {
        "id": "FAfo2QqwNKNu"
      },
      "outputs": [],
      "source": [
        "# !unzip -qq '/content/drive/MyDrive/Colab Notebooks/관광지점정보-카테고리-분류/Data/open.zip'"
      ]
    },
    {
      "cell_type": "code",
      "source": [
        "%cd  '/content/drive/MyDrive/Colab Notebooks/관광지점정보-카테고리-분류'"
      ],
      "metadata": {
        "id": "j_Erv_mq_cv6"
      },
      "execution_count": null,
      "outputs": []
    },
    {
      "cell_type": "markdown",
      "metadata": {
        "id": "MRrJ4A5RKC4B"
      },
      "source": [
        "- 데이터 불러오기"
      ]
    },
    {
      "cell_type": "markdown",
      "source": [
        "`-` data는 현재 디렉토리에 존재해야 함\n",
        "\n",
        "`-` 현재 디렉토리가 어디든지 간에 해당 디렉토리에 data가 존재하면 된다"
      ],
      "metadata": {
        "id": "nSXMNhBkAZAF"
      }
    },
    {
      "cell_type": "code",
      "execution_count": null,
      "metadata": {
        "id": "1BkDYIOCNk4m"
      },
      "outputs": [],
      "source": [
        "df = pd.read_csv('./data/train.csv')\n",
        "test = pd.read_csv('./data/test.csv')\n",
        "submission = pd.read_csv('./data/sample_submission.csv') "
      ]
    },
    {
      "cell_type": "code",
      "execution_count": null,
      "metadata": {
        "id": "0060RPH7jgSz"
      },
      "outputs": [],
      "source": [
        "target = df['cat3'].values  ## 최종적으로 예측해야할 카테고리"
      ]
    },
    {
      "cell_type": "markdown",
      "source": [
        "`-` target 라벨 인코딩"
      ],
      "metadata": {
        "id": "Xi1ZIddwLjtc"
      }
    },
    {
      "cell_type": "code",
      "source": [
        "le = LabelEncoder()\n",
        "target = le.fit_transform(target)"
      ],
      "metadata": {
        "id": "M94Ra0SuLVTV"
      },
      "execution_count": null,
      "outputs": []
    },
    {
      "cell_type": "markdown",
      "metadata": {
        "id": "NN7RHXuYr88l"
      },
      "source": [
        "- 하이퍼파라미터 (텍스트)"
      ]
    },
    {
      "cell_type": "code",
      "execution_count": null,
      "metadata": {
        "id": "ZBe2gEgzr-q1"
      },
      "outputs": [],
      "source": [
        "MODEL_PATHS = {'electra':'kykim/electra-kor-base', \n",
        "               'bert':'kykim/bert-kor-base',\n",
        "               'funnel':'kykim/funnel-kor-base', \n",
        "               'roberta':'klue/roberta-base',}\n",
        "\n",
        "MODEL_NAME = 'bert'\n",
        "MODEL_DEFAULT_WEIGHT_PATH = f'{MODEL_NAME}_default_weight.pt' \n",
        "SAVE_PATH = './weight'\n",
        "NUM_CLASSES = len(np.unique(target))  ## 128개\n",
        "NUM_FOLDS = 5\n",
        "NUM_EPOCHS = 30\n",
        "MAX_LEN = 200\n",
        "BATCH_SIZE = 64\n",
        "LEARNING_RATE = 5e-5\n",
        "LABEL_SMOOTHING = 0.1  ## 잘못 라벨링된 데이터가 존재\n",
        "SEED = 2022"
      ]
    },
    {
      "cell_type": "markdown",
      "metadata": {
        "id": "II2XMQAVsAQt"
      },
      "source": [
        "- 가중치 저장폴더"
      ]
    },
    {
      "cell_type": "code",
      "execution_count": null,
      "metadata": {
        "id": "YnpAfBHMsCb1"
      },
      "outputs": [],
      "source": [
        "def create_folder(path: str) -> None:\n",
        "    try:\n",
        "        if not os.path.exists(path):\n",
        "            os.makedirs(path)\n",
        "    except OSError as error:\n",
        "        print(error)"
      ]
    },
    {
      "cell_type": "code",
      "execution_count": null,
      "metadata": {
        "id": "WRCnOvxlsE2F"
      },
      "outputs": [],
      "source": [
        "create_folder(SAVE_PATH)"
      ]
    },
    {
      "cell_type": "markdown",
      "metadata": {
        "id": "bvB62nkihj3a"
      },
      "source": [
        "## 시각화"
      ]
    },
    {
      "cell_type": "code",
      "source": [
        "plt.rc('font', family='NanumBarunGothic') "
      ],
      "metadata": {
        "id": "1T9EO4NRPV9r"
      },
      "execution_count": null,
      "outputs": []
    },
    {
      "cell_type": "markdown",
      "metadata": {
        "id": "5HSm1gzTxO0e"
      },
      "source": [
        "### 라벨"
      ]
    },
    {
      "cell_type": "code",
      "source": [
        "df.groupby(['cat1', 'cat2']).agg({'cat3':[np.unique, lambda x: len(np.unique(x)), len]})"
      ],
      "metadata": {
        "colab": {
          "base_uri": "https://localhost:8080/",
          "height": 676
        },
        "id": "fjkVYELWok2K",
        "outputId": "d9e7a3b5-6073-4fbe-eeb1-fd0a706b4a3c"
      },
      "execution_count": null,
      "outputs": [
        {
          "output_type": "execute_result",
          "data": {
            "text/plain": [
              "                                                                  cat3  \\\n",
              "                                                                unique   \n",
              "cat1         cat2                                                        \n",
              "레포츠          레포츠소개                                               수상레포츠   \n",
              "             복합 레포츠                                             복합 레포츠   \n",
              "             수상 레포츠  [래프팅, 민물낚시, 바다낚시, 수영, 스노쿨링/스킨스쿠버다이빙, 요트, 윈드서핑/...   \n",
              "             육상 레포츠  [ATV, MTB, 골프, 번지점프, 빙벽등반, 사격장, 수련시설, 스케이트, 스키...   \n",
              "             항공 레포츠                             [스카이다이빙, 헹글라이딩/패러글라이딩]   \n",
              "쇼핑           쇼핑             [5일장, 공예,공방, 면세점, 백화점, 상설시장, 전문상가, 특산물판매점]   \n",
              "숙박           숙박시설    [게스트하우스, 모텔, 민박, 서비스드레지던스, 유스호스텔, 콘도미니엄, 펜션, 한...   \n",
              "음식           음식점           [바/까페, 서양식, 일식, 중식, 채식전문점, 클럽, 패밀리레스토랑, 한식]   \n",
              "인문(문화/예술/역사) 건축/조형물             [기념탑/기념비/전망대, 다리/대교, 동상, 분수, 유명건물, 터널]   \n",
              "             공연/행사      [기타행사, 대중콘서트, 뮤지컬, 박람회, 연극, 전통공연, 컨벤션, 클래식음악회]   \n",
              "             문화시설    [공연장, 기념관, 대형서점, 도서관, 문화원, 문화전수시설, 미술관/화랑, 박물관...   \n",
              "             산업관광지                                      [기타, 발전소, 식음료]   \n",
              "             역사관광지   [고궁, 고택, 문, 민속마을, 사찰, 생가, 성, 안보관광, 유적지/사적지, 종교성지]   \n",
              "             체험관광지                             [농.산.어촌 체험, 이색거리, 이색체험]   \n",
              "             축제                                         [문화관광축제, 일반축제]   \n",
              "             휴양관광지   [공원, 관광단지, 온천/욕장/스파, 유람선/잠수함관광, 유원지, 이색찜질방, 테마...   \n",
              "자연           관광자원                                       [기암괴석, 희귀동.식물]   \n",
              "             자연관광지   [강, 계곡, 국립공원, 군립공원, 도립공원, 동굴, 등대, 산, 섬, 수목원, 약...   \n",
              "\n",
              "                                      \n",
              "                    <lambda_0>   len  \n",
              "cat1         cat2                     \n",
              "레포츠          레포츠소개           1    11  \n",
              "             복합 레포츠          1    24  \n",
              "             수상 레포츠          8   277  \n",
              "             육상 레포츠         19  2288  \n",
              "             항공 레포츠          2    11  \n",
              "쇼핑           쇼핑              7   696  \n",
              "숙박           숙박시설            9  1434  \n",
              "음식           음식점             8  4912  \n",
              "인문(문화/예술/역사) 건축/조형물          6   328  \n",
              "             공연/행사           8   139  \n",
              "             문화시설           13  1220  \n",
              "             산업관광지           3    93  \n",
              "             역사관광지          10  1571  \n",
              "             체험관광지           3   805  \n",
              "             축제              2   569  \n",
              "             휴양관광지           8   889  \n",
              "자연           관광자원            2   141  \n",
              "             자연관광지          18  1578  "
            ],
            "text/html": [
              "\n",
              "  <div id=\"df-a5c84813-2997-4145-840a-74ee07e42d58\">\n",
              "    <div class=\"colab-df-container\">\n",
              "      <div>\n",
              "<style scoped>\n",
              "    .dataframe tbody tr th:only-of-type {\n",
              "        vertical-align: middle;\n",
              "    }\n",
              "\n",
              "    .dataframe tbody tr th {\n",
              "        vertical-align: top;\n",
              "    }\n",
              "\n",
              "    .dataframe thead tr th {\n",
              "        text-align: left;\n",
              "    }\n",
              "\n",
              "    .dataframe thead tr:last-of-type th {\n",
              "        text-align: right;\n",
              "    }\n",
              "</style>\n",
              "<table border=\"1\" class=\"dataframe\">\n",
              "  <thead>\n",
              "    <tr>\n",
              "      <th></th>\n",
              "      <th></th>\n",
              "      <th colspan=\"3\" halign=\"left\">cat3</th>\n",
              "    </tr>\n",
              "    <tr>\n",
              "      <th></th>\n",
              "      <th></th>\n",
              "      <th>unique</th>\n",
              "      <th>&lt;lambda_0&gt;</th>\n",
              "      <th>len</th>\n",
              "    </tr>\n",
              "    <tr>\n",
              "      <th>cat1</th>\n",
              "      <th>cat2</th>\n",
              "      <th></th>\n",
              "      <th></th>\n",
              "      <th></th>\n",
              "    </tr>\n",
              "  </thead>\n",
              "  <tbody>\n",
              "    <tr>\n",
              "      <th rowspan=\"5\" valign=\"top\">레포츠</th>\n",
              "      <th>레포츠소개</th>\n",
              "      <td>수상레포츠</td>\n",
              "      <td>1</td>\n",
              "      <td>11</td>\n",
              "    </tr>\n",
              "    <tr>\n",
              "      <th>복합 레포츠</th>\n",
              "      <td>복합 레포츠</td>\n",
              "      <td>1</td>\n",
              "      <td>24</td>\n",
              "    </tr>\n",
              "    <tr>\n",
              "      <th>수상 레포츠</th>\n",
              "      <td>[래프팅, 민물낚시, 바다낚시, 수영, 스노쿨링/스킨스쿠버다이빙, 요트, 윈드서핑/...</td>\n",
              "      <td>8</td>\n",
              "      <td>277</td>\n",
              "    </tr>\n",
              "    <tr>\n",
              "      <th>육상 레포츠</th>\n",
              "      <td>[ATV, MTB, 골프, 번지점프, 빙벽등반, 사격장, 수련시설, 스케이트, 스키...</td>\n",
              "      <td>19</td>\n",
              "      <td>2288</td>\n",
              "    </tr>\n",
              "    <tr>\n",
              "      <th>항공 레포츠</th>\n",
              "      <td>[스카이다이빙, 헹글라이딩/패러글라이딩]</td>\n",
              "      <td>2</td>\n",
              "      <td>11</td>\n",
              "    </tr>\n",
              "    <tr>\n",
              "      <th>쇼핑</th>\n",
              "      <th>쇼핑</th>\n",
              "      <td>[5일장, 공예,공방, 면세점, 백화점, 상설시장, 전문상가, 특산물판매점]</td>\n",
              "      <td>7</td>\n",
              "      <td>696</td>\n",
              "    </tr>\n",
              "    <tr>\n",
              "      <th>숙박</th>\n",
              "      <th>숙박시설</th>\n",
              "      <td>[게스트하우스, 모텔, 민박, 서비스드레지던스, 유스호스텔, 콘도미니엄, 펜션, 한...</td>\n",
              "      <td>9</td>\n",
              "      <td>1434</td>\n",
              "    </tr>\n",
              "    <tr>\n",
              "      <th>음식</th>\n",
              "      <th>음식점</th>\n",
              "      <td>[바/까페, 서양식, 일식, 중식, 채식전문점, 클럽, 패밀리레스토랑, 한식]</td>\n",
              "      <td>8</td>\n",
              "      <td>4912</td>\n",
              "    </tr>\n",
              "    <tr>\n",
              "      <th rowspan=\"8\" valign=\"top\">인문(문화/예술/역사)</th>\n",
              "      <th>건축/조형물</th>\n",
              "      <td>[기념탑/기념비/전망대, 다리/대교, 동상, 분수, 유명건물, 터널]</td>\n",
              "      <td>6</td>\n",
              "      <td>328</td>\n",
              "    </tr>\n",
              "    <tr>\n",
              "      <th>공연/행사</th>\n",
              "      <td>[기타행사, 대중콘서트, 뮤지컬, 박람회, 연극, 전통공연, 컨벤션, 클래식음악회]</td>\n",
              "      <td>8</td>\n",
              "      <td>139</td>\n",
              "    </tr>\n",
              "    <tr>\n",
              "      <th>문화시설</th>\n",
              "      <td>[공연장, 기념관, 대형서점, 도서관, 문화원, 문화전수시설, 미술관/화랑, 박물관...</td>\n",
              "      <td>13</td>\n",
              "      <td>1220</td>\n",
              "    </tr>\n",
              "    <tr>\n",
              "      <th>산업관광지</th>\n",
              "      <td>[기타, 발전소, 식음료]</td>\n",
              "      <td>3</td>\n",
              "      <td>93</td>\n",
              "    </tr>\n",
              "    <tr>\n",
              "      <th>역사관광지</th>\n",
              "      <td>[고궁, 고택, 문, 민속마을, 사찰, 생가, 성, 안보관광, 유적지/사적지, 종교성지]</td>\n",
              "      <td>10</td>\n",
              "      <td>1571</td>\n",
              "    </tr>\n",
              "    <tr>\n",
              "      <th>체험관광지</th>\n",
              "      <td>[농.산.어촌 체험, 이색거리, 이색체험]</td>\n",
              "      <td>3</td>\n",
              "      <td>805</td>\n",
              "    </tr>\n",
              "    <tr>\n",
              "      <th>축제</th>\n",
              "      <td>[문화관광축제, 일반축제]</td>\n",
              "      <td>2</td>\n",
              "      <td>569</td>\n",
              "    </tr>\n",
              "    <tr>\n",
              "      <th>휴양관광지</th>\n",
              "      <td>[공원, 관광단지, 온천/욕장/스파, 유람선/잠수함관광, 유원지, 이색찜질방, 테마...</td>\n",
              "      <td>8</td>\n",
              "      <td>889</td>\n",
              "    </tr>\n",
              "    <tr>\n",
              "      <th rowspan=\"2\" valign=\"top\">자연</th>\n",
              "      <th>관광자원</th>\n",
              "      <td>[기암괴석, 희귀동.식물]</td>\n",
              "      <td>2</td>\n",
              "      <td>141</td>\n",
              "    </tr>\n",
              "    <tr>\n",
              "      <th>자연관광지</th>\n",
              "      <td>[강, 계곡, 국립공원, 군립공원, 도립공원, 동굴, 등대, 산, 섬, 수목원, 약...</td>\n",
              "      <td>18</td>\n",
              "      <td>1578</td>\n",
              "    </tr>\n",
              "  </tbody>\n",
              "</table>\n",
              "</div>\n",
              "      <button class=\"colab-df-convert\" onclick=\"convertToInteractive('df-a5c84813-2997-4145-840a-74ee07e42d58')\"\n",
              "              title=\"Convert this dataframe to an interactive table.\"\n",
              "              style=\"display:none;\">\n",
              "        \n",
              "  <svg xmlns=\"http://www.w3.org/2000/svg\" height=\"24px\"viewBox=\"0 0 24 24\"\n",
              "       width=\"24px\">\n",
              "    <path d=\"M0 0h24v24H0V0z\" fill=\"none\"/>\n",
              "    <path d=\"M18.56 5.44l.94 2.06.94-2.06 2.06-.94-2.06-.94-.94-2.06-.94 2.06-2.06.94zm-11 1L8.5 8.5l.94-2.06 2.06-.94-2.06-.94L8.5 2.5l-.94 2.06-2.06.94zm10 10l.94 2.06.94-2.06 2.06-.94-2.06-.94-.94-2.06-.94 2.06-2.06.94z\"/><path d=\"M17.41 7.96l-1.37-1.37c-.4-.4-.92-.59-1.43-.59-.52 0-1.04.2-1.43.59L10.3 9.45l-7.72 7.72c-.78.78-.78 2.05 0 2.83L4 21.41c.39.39.9.59 1.41.59.51 0 1.02-.2 1.41-.59l7.78-7.78 2.81-2.81c.8-.78.8-2.07 0-2.86zM5.41 20L4 18.59l7.72-7.72 1.47 1.35L5.41 20z\"/>\n",
              "  </svg>\n",
              "      </button>\n",
              "      \n",
              "  <style>\n",
              "    .colab-df-container {\n",
              "      display:flex;\n",
              "      flex-wrap:wrap;\n",
              "      gap: 12px;\n",
              "    }\n",
              "\n",
              "    .colab-df-convert {\n",
              "      background-color: #E8F0FE;\n",
              "      border: none;\n",
              "      border-radius: 50%;\n",
              "      cursor: pointer;\n",
              "      display: none;\n",
              "      fill: #1967D2;\n",
              "      height: 32px;\n",
              "      padding: 0 0 0 0;\n",
              "      width: 32px;\n",
              "    }\n",
              "\n",
              "    .colab-df-convert:hover {\n",
              "      background-color: #E2EBFA;\n",
              "      box-shadow: 0px 1px 2px rgba(60, 64, 67, 0.3), 0px 1px 3px 1px rgba(60, 64, 67, 0.15);\n",
              "      fill: #174EA6;\n",
              "    }\n",
              "\n",
              "    [theme=dark] .colab-df-convert {\n",
              "      background-color: #3B4455;\n",
              "      fill: #D2E3FC;\n",
              "    }\n",
              "\n",
              "    [theme=dark] .colab-df-convert:hover {\n",
              "      background-color: #434B5C;\n",
              "      box-shadow: 0px 1px 3px 1px rgba(0, 0, 0, 0.15);\n",
              "      filter: drop-shadow(0px 1px 2px rgba(0, 0, 0, 0.3));\n",
              "      fill: #FFFFFF;\n",
              "    }\n",
              "  </style>\n",
              "\n",
              "      <script>\n",
              "        const buttonEl =\n",
              "          document.querySelector('#df-a5c84813-2997-4145-840a-74ee07e42d58 button.colab-df-convert');\n",
              "        buttonEl.style.display =\n",
              "          google.colab.kernel.accessAllowed ? 'block' : 'none';\n",
              "\n",
              "        async function convertToInteractive(key) {\n",
              "          const element = document.querySelector('#df-a5c84813-2997-4145-840a-74ee07e42d58');\n",
              "          const dataTable =\n",
              "            await google.colab.kernel.invokeFunction('convertToInteractive',\n",
              "                                                     [key], {});\n",
              "          if (!dataTable) return;\n",
              "\n",
              "          const docLinkHtml = 'Like what you see? Visit the ' +\n",
              "            '<a target=\"_blank\" href=https://colab.research.google.com/notebooks/data_table.ipynb>data table notebook</a>'\n",
              "            + ' to learn more about interactive tables.';\n",
              "          element.innerHTML = '';\n",
              "          dataTable['output_type'] = 'display_data';\n",
              "          await google.colab.output.renderOutput(dataTable, element);\n",
              "          const docLink = document.createElement('div');\n",
              "          docLink.innerHTML = docLinkHtml;\n",
              "          element.appendChild(docLink);\n",
              "        }\n",
              "      </script>\n",
              "    </div>\n",
              "  </div>\n",
              "  "
            ]
          },
          "metadata": {},
          "execution_count": 13
        }
      ]
    },
    {
      "cell_type": "markdown",
      "source": [
        "`-` 라벨 불균형이 매우 심하다\n",
        "\n",
        "`-` 항공 레포츠는 범주 2개에 총 11개의 데이터가 있는 반면, 음식점은 범주 8개에 총 4912개의 데이터가 있다\n",
        "\n",
        "`-` 하지만 평가산식은 `weighted f1 score`이므로 적은 클래스의 카테고리는 내다 버려도 좋은 점수를 얻을 수 있다\n",
        "\n",
        "`-` 그런데 train과 test의 분포가 다르다면?......\n",
        "\n",
        "`-` 무작위로 샘플링했다면 둘의 분포가 비슷할 것이다"
      ],
      "metadata": {
        "id": "sOeqzs7sslzg"
      }
    },
    {
      "cell_type": "markdown",
      "source": [
        "- 카테고리 3"
      ],
      "metadata": {
        "id": "IXC-iRBW05lc"
      }
    },
    {
      "cell_type": "code",
      "source": [
        "df['cat3'].value_counts().describe()"
      ],
      "metadata": {
        "colab": {
          "base_uri": "https://localhost:8080/"
        },
        "id": "2Jlp63RW02pc",
        "outputId": "36113533-fdd0-4b84-e313-c49eb7691605"
      },
      "execution_count": null,
      "outputs": [
        {
          "output_type": "execute_result",
          "data": {
            "text/plain": [
              "count     128.000000\n",
              "mean      132.703125\n",
              "std       349.099299\n",
              "min         2.000000\n",
              "25%        11.000000\n",
              "50%        36.000000\n",
              "75%       121.500000\n",
              "max      3438.000000\n",
              "Name: cat3, dtype: float64"
            ]
          },
          "metadata": {},
          "execution_count": 14
        }
      ]
    },
    {
      "cell_type": "markdown",
      "source": [
        "`-` 데이터가 2개 뿐인 범주가 존재한다\n",
        "\n",
        "`-` 3438개로 가장 많은 데이터를 가진 범주는 한식이다\n",
        "\n",
        "`-` 한식 카테고리를 잘 맞춰야 좋은 점수를 받을 수 있다\n",
        "\n",
        "`-` 적은 데이터를 가진 범주를 드랍하는 것도 고려해보자"
      ],
      "metadata": {
        "id": "tY-bUqx31Byk"
      }
    },
    {
      "cell_type": "code",
      "source": [
        "df['cat3'].value_counts().to_dict()"
      ],
      "metadata": {
        "colab": {
          "base_uri": "https://localhost:8080/"
        },
        "id": "jSXuTxYQEUK3",
        "outputId": "d5efa38a-0e90-4779-8b70-75de9a6c28ff"
      },
      "execution_count": null,
      "outputs": [
        {
          "output_type": "execute_result",
          "data": {
            "text/plain": [
              "{'한식': 3438,\n",
              " '야영장,오토캠핑장': 1558,\n",
              " '바/까페': 785,\n",
              " '유적지/사적지': 622,\n",
              " '일반축제': 549,\n",
              " '사찰': 495,\n",
              " '이색거리': 467,\n",
              " '펜션': 445,\n",
              " '한옥스테이': 404,\n",
              " '모텔': 340,\n",
              " '농.산.어촌 체험': 332,\n",
              " '박물관': 310,\n",
              " '공원': 271,\n",
              " '상설시장': 270,\n",
              " '트래킹': 246,\n",
              " '전시관': 243,\n",
              " '산': 239,\n",
              " '서양식': 226,\n",
              " '유원지': 211,\n",
              " '중식': 209,\n",
              " '자연생태관광지': 207,\n",
              " '해수욕장': 207,\n",
              " '미술관/화랑': 204,\n",
              " '골프': 179,\n",
              " '전문상가': 173,\n",
              " '테마공원': 172,\n",
              " '5일장': 165,\n",
              " '계곡': 160,\n",
              " '일식': 151,\n",
              " '기념탑/기념비/전망대': 148,\n",
              " '항구/포구': 134,\n",
              " '관광단지': 126,\n",
              " '공연장': 120,\n",
              " '민물낚시': 119,\n",
              " '자연휴양림': 118,\n",
              " '문화원': 113,\n",
              " '섬': 111,\n",
              " '유명건물': 105,\n",
              " '강': 104,\n",
              " '수목원': 95,\n",
              " '수련시설': 95,\n",
              " '도서관': 92,\n",
              " '고택': 92,\n",
              " '희귀동.식물': 88,\n",
              " '성': 85,\n",
              " '게스트하우스': 83,\n",
              " '기타': 79,\n",
              " '민속마을': 76,\n",
              " '기타행사': 71,\n",
              " '종교성지': 65,\n",
              " '기념관': 64,\n",
              " '패밀리레스토랑': 61,\n",
              " '스키(보드) 렌탈샵': 60,\n",
              " '바다낚시': 57,\n",
              " '홈스테이': 57,\n",
              " '기암괴석': 53,\n",
              " '온천/욕장/스파': 53,\n",
              " '생가': 43,\n",
              " '다리/대교': 41,\n",
              " '공예,공방': 41,\n",
              " '폭포': 40,\n",
              " '민박': 39,\n",
              " '특산물판매점': 37,\n",
              " '채식전문점': 36,\n",
              " '고궁': 36,\n",
              " '자동차경주': 35,\n",
              " '콘도미니엄': 34,\n",
              " '안보관광': 34,\n",
              " '호수': 30,\n",
              " '유람선/잠수함관광': 30,\n",
              " '박람회': 29,\n",
              " '수영': 27,\n",
              " '윈드서핑/제트스키': 27,\n",
              " '썰매장': 27,\n",
              " '문화전수시설': 26,\n",
              " '해안절경': 25,\n",
              " '복합 레포츠': 24,\n",
              " '등대': 24,\n",
              " '문': 23,\n",
              " '컨벤션': 22,\n",
              " '승마': 21,\n",
              " '국립공원': 21,\n",
              " '동굴': 20,\n",
              " '유스호스텔': 20,\n",
              " '문화관광축제': 20,\n",
              " '래프팅': 18,\n",
              " '동상': 18,\n",
              " '대형서점': 17,\n",
              " '약수터': 17,\n",
              " '도립공원': 15,\n",
              " '헬스투어': 15,\n",
              " '자전거하이킹': 13,\n",
              " '스케이트': 12,\n",
              " '요트': 12,\n",
              " '서비스드레지던스': 12,\n",
              " '이색찜질방': 11,\n",
              " '군립공원': 11,\n",
              " '수상레포츠': 11,\n",
              " '컨벤션센터': 11,\n",
              " '식음료': 10,\n",
              " '카약/카누': 10,\n",
              " '학교': 9,\n",
              " '헹글라이딩/패러글라이딩': 9,\n",
              " '사격장': 9,\n",
              " '분수': 8,\n",
              " '터널': 8,\n",
              " '스노쿨링/스킨스쿠버다이빙': 7,\n",
              " '외국문화원': 7,\n",
              " '카트': 7,\n",
              " '면세점': 6,\n",
              " '스키/스노보드': 6,\n",
              " '전통공연': 6,\n",
              " '클럽': 6,\n",
              " '이색체험': 6,\n",
              " '연극': 5,\n",
              " '백화점': 4,\n",
              " '번지점프': 4,\n",
              " '영화관': 4,\n",
              " '카지노': 4,\n",
              " 'ATV': 4,\n",
              " '빙벽등반': 4,\n",
              " '발전소': 4,\n",
              " '뮤지컬': 2,\n",
              " 'MTB': 2,\n",
              " '대중콘서트': 2,\n",
              " '인라인(실내 인라인 포함)': 2,\n",
              " '스카이다이빙': 2,\n",
              " '클래식음악회': 2}"
            ]
          },
          "metadata": {},
          "execution_count": 17
        }
      ]
    },
    {
      "cell_type": "markdown",
      "source": [
        "### 텍스트"
      ],
      "metadata": {
        "id": "lh9oPb8rZNef"
      }
    },
    {
      "cell_type": "code",
      "source": [
        "df['overview'].str.len().describe()"
      ],
      "metadata": {
        "colab": {
          "base_uri": "https://localhost:8080/"
        },
        "id": "Hb5qwbEwaQUi",
        "outputId": "b54b6a45-1902-4d3f-b98d-dff1df7dc72d"
      },
      "execution_count": null,
      "outputs": [
        {
          "output_type": "execute_result",
          "data": {
            "text/plain": [
              "count    16986.000000\n",
              "mean       334.291711\n",
              "std        283.720345\n",
              "min          7.000000\n",
              "25%        168.250000\n",
              "50%        274.000000\n",
              "75%        415.000000\n",
              "max       7972.000000\n",
              "Name: overview, dtype: float64"
            ]
          },
          "metadata": {},
          "execution_count": 14
        }
      ]
    },
    {
      "cell_type": "code",
      "source": [
        "df['overview'].str.len().plot.box()"
      ],
      "metadata": {
        "colab": {
          "base_uri": "https://localhost:8080/",
          "height": 283
        },
        "id": "ht4nnlSfZOaX",
        "outputId": "1a0e80cd-e8a5-4925-b8d4-7684ee1fdd10"
      },
      "execution_count": null,
      "outputs": [
        {
          "output_type": "execute_result",
          "data": {
            "text/plain": [
              "<matplotlib.axes._subplots.AxesSubplot at 0x7f3c8f4c6e10>"
            ]
          },
          "metadata": {},
          "execution_count": 15
        },
        {
          "output_type": "display_data",
          "data": {
            "text/plain": [
              "<Figure size 432x288 with 1 Axes>"
            ],
            "image/png": "[encoded data removed]"
          },
          "metadata": {
            "needs_background": "light"
          }
        }
      ]
    },
    {
      "cell_type": "markdown",
      "metadata": {
        "id": "3pLbxwaQEU9k"
      },
      "source": [
        "## 텍스트 전처리 함수"
      ]
    },
    {
      "cell_type": "markdown",
      "source": [
        "`-` 텍스트 전처리 part에서 사용할 함수를 구현해놓음\n",
        "\n",
        "`-` 텍스트 전처리 part를 먼저 읽어봐야 함"
      ],
      "metadata": {
        "id": "ku-ns5-GwS6l"
      }
    },
    {
      "cell_type": "markdown",
      "source": [
        "- 텍스트"
      ],
      "metadata": {
        "id": "v8YXTCniRfb-"
      }
    },
    {
      "cell_type": "markdown",
      "source": [
        "`-` 한글만 봐도 관광지점 카테고리를 구분할 수 있을 것 같다"
      ],
      "metadata": {
        "id": "hhRLioIvDPcU"
      }
    },
    {
      "cell_type": "code",
      "source": [
        "## 해당 단어의 유무가 라벨에 영향을 준다면 채택하자\n",
        "minor2major_dict = {'tv':'티비',\n",
        "                    'kbs':'티비',\n",
        "                    'sbs':'티비',\n",
        "                    'mbc':'티비',\n",
        "                    #'dmz':'비무장지대', \n",
        "                    'bbq':'바베큐',\n",
        "                    '바비큐':'바베큐',  \n",
        "                    #'led':'조명',\n",
        "                    #'sns':'소셜',\n",
        "                    'art':'미술',\n",
        "                    #'ktx':'기차',\n",
        "                    'vr':'가상 현실',\n",
        "                    'vrzone':'가상 현실 구역',\n",
        "                    'museum':'박물관',\n",
        "                    '뮤지엄':'박물관',\n",
        "                    'cafe':'카페',\n",
        "                    '까페':'카페',\n",
        "                    '5일장':'오일장',\n",
        "                    'dvd':'디비디',\n",
        "                    'dj':'디제이',\n",
        "                    'edm':'댄스 뮤직',\n",
        "                    'gallery':'갤러리',\n",
        "                    'steak':'스테이크',\n",
        "                    'golf':'골프',\n",
        "                    'festival':'페스티벌',\n",
        "                    'motel':'모텔',\n",
        "                    'hotel':'호텔',\n",
        "                    'shopping':'쇼핑',\n",
        "                    'camp':'캠프',\n",
        "                    '트래킹':'트레킹',\n",
        "                    '무언극':'연극',\n",
        "                    'coffee':'커피',   \n",
        "                    'bungee':'번지',\n",
        "                    'cinema':'영화관',\n",
        "                    'bread':'빵',\n",
        "                    'atv':'오토바이', \n",
        "                    'haccp':'해썹',    \n",
        "                    #'mtb':'산악자전거',  # 애매  \n",
        "                    }"
      ],
      "metadata": {
        "id": "jarwAMVKlDZn"
      },
      "execution_count": null,
      "outputs": []
    },
    {
      "cell_type": "code",
      "source": [
        "## 토큰화가 제대로 이루어지도록 다시 교체\n",
        "major2minor_dict = {'디비디':'dvd',\n",
        "                    '디제이':'dj',\n",
        "                    '모텔':'motel',\n",
        "                    }"
      ],
      "metadata": {
        "id": "EZHKqk56x5MN"
      },
      "execution_count": null,
      "outputs": []
    },
    {
      "cell_type": "code",
      "source": [
        "def clean_texts(texts: Sequence[str]) -> List[str]: \n",
        "    new_texts = [] \n",
        "    for text in texts: \n",
        "        text = text.lower()\n",
        "        text = re.sub(r'[^\\s.]*\\d+\\.\\d+[^\\s.]*', '', text)  ## 소수점을 포함한 숫자단어 제거\n",
        "        text = re.sub(r'[^\\s.]*\\d[^\\s.]*', '', text)  ## 숫자를 포함한 단어 제거\n",
        "        text = re.sub(r'[^\\uAC00-\\uD7A3\\s.]', ' ', text)  ## 한글 음절, 공백, 마침표 제외하고 모두 삭제\n",
        "        text = re.sub(r'\\s+', ' ', text)  ## 다중 공백 제거\n",
        "        text = text.strip()   \n",
        "        new_texts.append(text) \n",
        "    return new_texts"
      ],
      "metadata": {
        "id": "MB3G_7DTIwk2"
      },
      "execution_count": null,
      "outputs": []
    },
    {
      "cell_type": "code",
      "source": [
        "def minor2major(texts: Sequence[str], minor2major_dict: Dict[str, str]) -> List[str]:\n",
        "    new_texts = []\n",
        "    for text in texts:\n",
        "        for minor, major in minor2major_dict.items():\n",
        "            text = text.replace(minor, major)\n",
        "        new_texts.append(text)\n",
        "    return new_texts"
      ],
      "metadata": {
        "id": "gv0ziowK4L1h"
      },
      "execution_count": null,
      "outputs": []
    },
    {
      "cell_type": "code",
      "source": [
        "def major2minor(texts: Sequence[str], major2minor_dict: Dict[str, str]) -> List[str]:\n",
        "    new_texts = []\n",
        "    for text in texts:\n",
        "        for major, minor in major2minor_dict.items():\n",
        "            text = text.replace(major, minor)\n",
        "        new_texts.append(text)\n",
        "    return new_texts"
      ],
      "metadata": {
        "id": "GVJRKXVyyfF0"
      },
      "execution_count": null,
      "outputs": []
    },
    {
      "cell_type": "code",
      "source": [
        "def cut_texts(texts: Sequence[str], max_len: int = 550) -> List[str]:\n",
        "    \"\"\"문장은 마침표로 시작하지 않고 마침표로 끝나야 함\"\"\"\n",
        "    new_texts = []\n",
        "    for text in texts:\n",
        "        end_idx = len(text)\n",
        "        full_stop_idx = [idx for idx, char in enumerate(text) if char == '.']\n",
        "\n",
        "        if full_stop_idx:  ## 문장내에 마침표가 존재한다면\n",
        "            full_stop_idx = np.array(full_stop_idx)\n",
        "            end_idxes = full_stop_idx[full_stop_idx < max_len].tolist()  ## max_len을 넘지않는 마침표들의 위치\n",
        "            \n",
        "            if end_idxes:  ## max_len을 넘지않는 마침표가 존재한다면\n",
        "                end_idx = end_idxes[-1]  ## 마치막 마침표를 기준으로 cut\n",
        "            else:\n",
        "                end_idx = full_stop_idx[0]\n",
        "\n",
        "        new_texts.append(text[:end_idx].strip())\n",
        "    return new_texts"
      ],
      "metadata": {
        "id": "fAkPhrLNU4m4"
      },
      "execution_count": null,
      "outputs": []
    },
    {
      "cell_type": "code",
      "source": [
        "def delete_first_fullstops(texts: Sequence[str]) -> List[str]:\n",
        "    new_texts = []\n",
        "    for text in texts:\n",
        "        text = text.lstrip()\n",
        "        while text.startswith('.'):\n",
        "            text = text[1:]\n",
        "            text = text.lstrip()\n",
        "\n",
        "        new_texts.append(text)\n",
        "    return new_texts "
      ],
      "metadata": {
        "id": "Hh6n2sA9wZKk"
      },
      "execution_count": null,
      "outputs": []
    },
    {
      "cell_type": "code",
      "source": [
        "def delete_duplicate_fullstops(texts: Sequence[str]) -> List[str]:\n",
        "    new_texts = []\n",
        "    for text in texts:\n",
        "        text = re.sub(r'\\.+', '.', text) \n",
        "        new_texts.append(text)\n",
        "    return new_texts"
      ],
      "metadata": {
        "id": "MkN9sNkdU8Sn"
      },
      "execution_count": null,
      "outputs": []
    },
    {
      "cell_type": "code",
      "source": [
        "def delete_last_fullstops(texts: Sequence[str]) -> List[str]:\n",
        "    new_texts = []\n",
        "    for text in texts:\n",
        "        text = text.rstrip()\n",
        "        while text.endswith('.'):\n",
        "            text = text[:-1]\n",
        "            text = text.rstrip()\n",
        "\n",
        "        new_texts.append(text)\n",
        "    return new_texts "
      ],
      "metadata": {
        "id": "xGimAEccpGDL"
      },
      "execution_count": null,
      "outputs": []
    },
    {
      "cell_type": "code",
      "source": [
        "def delete_fullstops(texts: Sequence[str]) -> List[str]:\n",
        "    new_texts = []\n",
        "    for text in texts:\n",
        "        text = re.sub(r'\\.', ' ', text)   \n",
        "        text = re.sub(r'\\s+', ' ', text) \n",
        "        text = text.strip()     \n",
        "        new_texts.append(text)\n",
        "    return new_texts"
      ],
      "metadata": {
        "id": "SqKSndf9DgOH"
      },
      "execution_count": null,
      "outputs": []
    },
    {
      "cell_type": "code",
      "source": [
        "def delete_valueless_fullstops(texts: Sequence[str]) -> List[str]:\n",
        "    new_texts = []\n",
        "    for text in texts:\n",
        "        new_text = []\n",
        "        sentences = text.split('.')\n",
        "        for sentence in sentences:\n",
        "            if sentence.strip():\n",
        "                new_text.append(sentence.strip())\n",
        "        \n",
        "        new_texts.append('. '.join(new_text))\n",
        "    return new_texts"
      ],
      "metadata": {
        "id": "zaBdgSkTvjfB"
      },
      "execution_count": null,
      "outputs": []
    },
    {
      "cell_type": "code",
      "source": [
        "def add_last_fullstop(texts: Sequence[str]) -> List[str]:\n",
        "    new_texts = []\n",
        "    for text in texts:\n",
        "        if not text.endswith('.'):\n",
        "            text = text + '.'\n",
        "        new_texts.append(text)\n",
        "    return new_texts"
      ],
      "metadata": {
        "id": "ZXOsLQIJFIN0"
      },
      "execution_count": null,
      "outputs": []
    },
    {
      "cell_type": "markdown",
      "source": [
        "### 텍스트 길이와 토큰 길이"
      ],
      "metadata": {
        "id": "RHzBEFbVRYgW"
      }
    },
    {
      "cell_type": "code",
      "source": [
        "import torch\n",
        "from transformers import AutoTokenizer"
      ],
      "metadata": {
        "id": "FHdqWxeW-4ZV"
      },
      "execution_count": null,
      "outputs": []
    },
    {
      "cell_type": "code",
      "source": [
        "tokenizer = AutoTokenizer.from_pretrained(MODEL_PATHS[MODEL_NAME])  "
      ],
      "metadata": {
        "id": "ZbvYYzVWUdp0",
        "colab": {
          "base_uri": "https://localhost:8080/",
          "height": 113,
          "referenced_widgets": [
            "c034a9c46cb047389bc6acc890db12d6",
            "dba6412dc88d4e638663ac3495457550",
            "1df3cf9a34ae47be9fa080f768997a74",
            "86b7d523fb5e4b288b0e5cd4cf7b34dc",
            "12bae567ed3e49d6b40136e07449b4b0",
            "3970203683ec4408911af2279e891d41",
            "c7db4cfada1c4d2380da91ce0342d368",
            "25ca35a9e9f3416ea4c5613f7ebd68ce",
            "10110db5cc7b48acb5694bd215df5469",
            "ff133e73c72840e594ac1dbd840568e8",
            "4ff379b439c54c43820611d83594b50c",
            "0ccc8f7bdf4c4b3892e04ce90bf87007",
            "e1ee789d15744f628e77877c32672233",
            "70c91835c60b40d19a5cf429e8ea7984",
            "925202f0a50f417e897e6cd743aec722",
            "6176d188244341f0ac0a442c9601b097",
            "91a5348137f6470190f9981c9e11588b",
            "7803180de0754d42a852bde40d4dab41",
            "d34e5840c6bb4523ad3ba678b2172d61",
            "337b61b7aa84436bb01269013e3bdc2b",
            "8a32938de27d488391592257f5554cd5",
            "a12dffb7cd1b4143b3ee24b157910764",
            "482751de3b31443bb5bfef56d8f31207",
            "9413668019f0450dbd0b4cb69794d184",
            "ff1842dc47e444a58d58d6f42215ea80",
            "642c3408855d42fe90ac2b2eed33a468",
            "1a58ba90278e4a1ea3b916b215a7fee2",
            "47a97a8fc1c246cc8ebb1684cf211a59",
            "be1c12f475a3423491f65f2cedf4f907",
            "2bcbf322fe114e6dbade00a67c9d19fc",
            "2c1c518359b749e58e97a79f66c30039",
            "b327238be98048439357f1de0a8d4203",
            "66edd8cf19c94372ae5a71090b20603d"
          ]
        },
        "outputId": "24f7ba31-0327-48bf-f154-fdc366d02f62"
      },
      "execution_count": null,
      "outputs": [
        {
          "output_type": "display_data",
          "data": {
            "text/plain": [
              "Downloading:   0%|          | 0.00/80.0 [00:00<?, ?B/s]"
            ],
            "application/vnd.jupyter.widget-view+json": {
              "version_major": 2,
              "version_minor": 0,
              "model_id": "c034a9c46cb047389bc6acc890db12d6"
            }
          },
          "metadata": {}
        },
        {
          "output_type": "display_data",
          "data": {
            "text/plain": [
              "Downloading:   0%|          | 0.00/725 [00:00<?, ?B/s]"
            ],
            "application/vnd.jupyter.widget-view+json": {
              "version_major": 2,
              "version_minor": 0,
              "model_id": "0ccc8f7bdf4c4b3892e04ce90bf87007"
            }
          },
          "metadata": {}
        },
        {
          "output_type": "display_data",
          "data": {
            "text/plain": [
              "Downloading:   0%|          | 0.00/344k [00:00<?, ?B/s]"
            ],
            "application/vnd.jupyter.widget-view+json": {
              "version_major": 2,
              "version_minor": 0,
              "model_id": "482751de3b31443bb5bfef56d8f31207"
            }
          },
          "metadata": {}
        }
      ]
    },
    {
      "cell_type": "markdown",
      "source": [
        "### cut text 적용 X"
      ],
      "metadata": {
        "id": "_xYwEXyPT6R-"
      }
    },
    {
      "cell_type": "code",
      "source": [
        "train_texts = df['overview'].values\n",
        "train_texts = minor2major(train_texts, minor2major_dict)\n",
        "train_texts = delete_duplicate_fullstops(train_texts)\n",
        "train_texts = delete_first_fullstops(train_texts)\n",
        "train_texts = delete_last_fullstops(train_texts)\n",
        "train_texts = clean_texts(train_texts)\n",
        "train_texts = major2minor(train_texts, major2minor_dict)\n",
        "train_texts = delete_valueless_fullstops(train_texts)\n",
        "train_texts = add_last_fullstop(train_texts)\n",
        "# train_texts = cut_texts(train_texts, max_len=550)"
      ],
      "metadata": {
        "id": "Mt5vPZsNCm7U"
      },
      "execution_count": null,
      "outputs": []
    },
    {
      "cell_type": "markdown",
      "source": [
        "- 텍스트 길이"
      ],
      "metadata": {
        "id": "tW559dmLTeSl"
      }
    },
    {
      "cell_type": "code",
      "source": [
        "texts_len = list(map(len, train_texts))"
      ],
      "metadata": {
        "id": "e814DtteEhXB"
      },
      "execution_count": null,
      "outputs": []
    },
    {
      "cell_type": "code",
      "source": [
        "plt.boxplot(texts_len)\n",
        "print('25%: ', np.quantile(texts_len, q=0.25))\n",
        "print('50%: ', np.quantile(texts_len, q=0.5))\n",
        "print('75%: ', np.quantile(texts_len, q=0.75))\n",
        "print('85%: ', np.quantile(texts_len, q=0.85))\n",
        "print('90%: ', np.quantile(texts_len, q=0.9))\n",
        "print('95%: ', np.quantile(texts_len, q=0.95))\n",
        "print('99%: ', np.quantile(texts_len, q=0.99))\n",
        "plt.title('Text Length', fontsize=15)\n",
        "plt.show()"
      ],
      "metadata": {
        "colab": {
          "base_uri": "https://localhost:8080/",
          "height": 411
        },
        "id": "Yim33Nn-MYZ-",
        "outputId": "320ed49f-5cdf-4871-d602-91c6ca9ca4b5"
      },
      "execution_count": null,
      "outputs": [
        {
          "output_type": "stream",
          "name": "stdout",
          "text": [
            "25%:  154.0\n",
            "50%:  252.0\n",
            "75%:  376.0\n",
            "85%:  465.0\n",
            "90%:  547.0\n",
            "95%:  707.0\n",
            "99%:  1232.1500000000015\n"
          ]
        },
        {
          "output_type": "display_data",
          "data": {
            "text/plain": [
              "<Figure size 432x288 with 1 Axes>"
            ],
            "image/png": "[encoded data removed]"
          },
          "metadata": {
            "needs_background": "light"
          }
        }
      ]
    },
    {
      "cell_type": "markdown",
      "source": [
        "- 토큰 길이"
      ],
      "metadata": {
        "id": "w7v4Q5Y3UcEF"
      }
    },
    {
      "cell_type": "code",
      "source": [
        "tokens_len = []\n",
        "for text in tqdm(train_texts):\n",
        "    inputs = tokenizer(\n",
        "            text, \n",
        "            return_tensors='pt',\n",
        "            truncation=True,\n",
        "            max_length=2000,\n",
        "            pad_to_max_length=True,\n",
        "            add_special_tokens=True\n",
        "        )\n",
        "    inputs = torch.sum(inputs['attention_mask'])\n",
        "    tokens_len.append(inputs)"
      ],
      "metadata": {
        "colab": {
          "base_uri": "https://localhost:8080/",
          "height": 49,
          "referenced_widgets": [
            "c59043e7d73b4bc4875d96a2bed0bd33",
            "c35342c51aee49439a8aa02bfd27c3e3",
            "e504695b9f03442fb1c4cacb48956892",
            "81f7b3632bfa4f62adfb30658286130a",
            "2a5fe151b4954ba3810328a368af6a1d",
            "63d66fe09b8240c1984d90443c0acc3b",
            "a74f2a37686d49558072b5a3f6094b41",
            "0aabe352a2974790a31781427206f382",
            "4ba786b63ffb450eb9a3ccd87e8eec6b",
            "b2e846545b3d49f7916c2eaf2be3d1f8",
            "bfaafb85fab943d2a9562e6c35aefdb5"
          ]
        },
        "id": "bD_eSH3KUsM_",
        "outputId": "18d2e143-16f7-4c99-da86-781565af7d27"
      },
      "execution_count": null,
      "outputs": [
        {
          "output_type": "display_data",
          "data": {
            "text/plain": [
              "  0%|          | 0/16986 [00:00<?, ?it/s]"
            ],
            "application/vnd.jupyter.widget-view+json": {
              "version_major": 2,
              "version_minor": 0,
              "model_id": "c59043e7d73b4bc4875d96a2bed0bd33"
            }
          },
          "metadata": {}
        }
      ]
    },
    {
      "cell_type": "code",
      "source": [
        "plt.boxplot(tokens_len)\n",
        "print('25%: ', np.quantile(tokens_len, q=0.25))\n",
        "print('50%: ', np.quantile(tokens_len, q=0.5))\n",
        "print('75%: ', np.quantile(tokens_len, q=0.75))\n",
        "print('85%: ', np.quantile(tokens_len, q=0.85))\n",
        "print('90%: ', np.quantile(tokens_len, q=0.9))\n",
        "print('95%: ', np.quantile(tokens_len, q=0.95))\n",
        "print('99%: ', np.quantile(tokens_len, q=0.99))\n",
        "plt.title('Token Length', fontsize=15)\n",
        "plt.show()"
      ],
      "metadata": {
        "colab": {
          "base_uri": "https://localhost:8080/",
          "height": 411
        },
        "id": "FJDc_X4BMbmt",
        "outputId": "5975147e-e995-44ef-9aa5-0e193dbc9df7"
      },
      "execution_count": null,
      "outputs": [
        {
          "output_type": "stream",
          "name": "stdout",
          "text": [
            "25%:  67.0\n",
            "50%:  107.0\n",
            "75%:  163.0\n",
            "85%:  203.0\n",
            "90%:  241.5\n",
            "95%:  322.0\n",
            "99%:  556.0\n"
          ]
        },
        {
          "output_type": "display_data",
          "data": {
            "text/plain": [
              "<Figure size 432x288 with 1 Axes>"
            ],
            "image/png": "[encoded data removed]"
          },
          "metadata": {
            "needs_background": "light"
          }
        }
      ]
    },
    {
      "cell_type": "markdown",
      "source": [
        "- 산점도"
      ],
      "metadata": {
        "id": "IEhW_BBe2AcL"
      }
    },
    {
      "cell_type": "code",
      "source": [
        "plt.plot(texts_len, tokens_len, '.', alpha=0.05)"
      ],
      "metadata": {
        "colab": {
          "base_uri": "https://localhost:8080/",
          "height": 283
        },
        "id": "R9V-S7242BFS",
        "outputId": "1275fae4-bb0b-4f41-ff46-ff381dbc1a94"
      },
      "execution_count": null,
      "outputs": [
        {
          "output_type": "execute_result",
          "data": {
            "text/plain": [
              "[<matplotlib.lines.Line2D at 0x7f9b76bf4450>]"
            ]
          },
          "metadata": {},
          "execution_count": 187
        },
        {
          "output_type": "display_data",
          "data": {
            "text/plain": [
              "<Figure size 432x288 with 1 Axes>"
            ],
            "image/png": "[encoded data removed]"
          },
          "metadata": {
            "needs_background": "light"
          }
        }
      ]
    },
    {
      "cell_type": "markdown",
      "source": [
        "`-` $\\text{토큰 길이} \\times 2 \\approx \\text{텍스트 길이}$"
      ],
      "metadata": {
        "id": "OTtW53cR2haD"
      }
    },
    {
      "cell_type": "markdown",
      "source": [
        "### cut text 적용 O"
      ],
      "metadata": {
        "id": "WvHBD1s_UBgl"
      }
    },
    {
      "cell_type": "code",
      "source": [
        "train_texts = df['overview'].values\n",
        "train_texts = minor2major(train_texts, minor2major_dict)\n",
        "train_texts = delete_duplicate_fullstops(train_texts)\n",
        "train_texts = delete_first_fullstops(train_texts)\n",
        "train_texts = delete_last_fullstops(train_texts)\n",
        "train_texts = clean_texts(train_texts)\n",
        "train_texts = major2minor(train_texts, major2minor_dict)\n",
        "train_texts = delete_valueless_fullstops(train_texts)\n",
        "train_texts = add_last_fullstop(train_texts)\n",
        "train_texts = cut_texts(train_texts, max_len=600)"
      ],
      "metadata": {
        "id": "WB2cEB1wWuy9"
      },
      "execution_count": null,
      "outputs": []
    },
    {
      "cell_type": "markdown",
      "source": [
        "- 텍스트 길이"
      ],
      "metadata": {
        "id": "qw6Sr6RhV120"
      }
    },
    {
      "cell_type": "code",
      "source": [
        "texts_len = list(map(len, train_texts))"
      ],
      "metadata": {
        "id": "CmgsMuZtUNsN"
      },
      "execution_count": null,
      "outputs": []
    },
    {
      "cell_type": "code",
      "source": [
        "plt.boxplot(texts_len)\n",
        "print('25%: ', np.quantile(texts_len, q=0.25))\n",
        "print('50%: ', np.quantile(texts_len, q=0.5))\n",
        "print('75%: ', np.quantile(texts_len, q=0.75))\n",
        "print('85%: ', np.quantile(texts_len, q=0.85))\n",
        "print('90%: ', np.quantile(texts_len, q=0.9))\n",
        "print('95%: ', np.quantile(texts_len, q=0.95))\n",
        "print('99%: ', np.quantile(texts_len, q=0.99))\n",
        "plt.title('Text Length', fontsize=15)\n",
        "plt.show()"
      ],
      "metadata": {
        "colab": {
          "base_uri": "https://localhost:8080/",
          "height": 411
        },
        "id": "lnJIra50EhS6",
        "outputId": "bc61b5f6-d771-4134-9d9b-d3473f403e2f"
      },
      "execution_count": null,
      "outputs": [
        {
          "output_type": "stream",
          "name": "stdout",
          "text": [
            "25%:  153.0\n",
            "50%:  251.0\n",
            "75%:  375.0\n",
            "85%:  462.0\n",
            "90%:  522.5\n",
            "95%:  565.0\n",
            "99%:  593.0\n"
          ]
        },
        {
          "output_type": "display_data",
          "data": {
            "text/plain": [
              "<Figure size 432x288 with 1 Axes>"
            ],
            "image/png": "[encoded data removed]"
          },
          "metadata": {
            "needs_background": "light"
          }
        }
      ]
    },
    {
      "cell_type": "markdown",
      "source": [
        "- 토큰 길이"
      ],
      "metadata": {
        "id": "PEhfe7DpVxS0"
      }
    },
    {
      "cell_type": "code",
      "source": [
        "tokens_len = []\n",
        "for text in tqdm(train_texts):\n",
        "    inputs = tokenizer(\n",
        "            text, \n",
        "            return_tensors='pt',\n",
        "            truncation=True,\n",
        "            max_length=2000,\n",
        "            pad_to_max_length=True,\n",
        "            add_special_tokens=True\n",
        "        )\n",
        "    inputs = torch.sum(inputs['attention_mask'])\n",
        "    tokens_len.append(inputs)"
      ],
      "metadata": {
        "colab": {
          "base_uri": "https://localhost:8080/",
          "height": 49,
          "referenced_widgets": [
            "da42aa9771624bb9b8f84e9cf23d844f",
            "c71e757ffcd7438385df2a0d0543b3c5",
            "bf2fa2b919e1468b9caa0be9b1632ff5",
            "f10a10eb6e8541ffb6a5bf9a58636739",
            "d5550961afc141558996096f594e0f18",
            "59b8d1c6daf445b1b949eb91c14846de",
            "c9c915c2396946fcadfbc9ff18007d84",
            "f29ce8949c8d4db7adf3692322454514",
            "03859a86381a4a5a84ef5bbd52484688",
            "80c47c6837ec4720ac3d4c41368ba9c7",
            "f8645a2e419f48d3b36fbaec0b9ec7b7"
          ]
        },
        "id": "bfbX2oe5V3Qk",
        "outputId": "092039a3-b964-4f6a-ab5a-403a0aa9efc3"
      },
      "execution_count": null,
      "outputs": [
        {
          "output_type": "display_data",
          "data": {
            "text/plain": [
              "  0%|          | 0/16986 [00:00<?, ?it/s]"
            ],
            "application/vnd.jupyter.widget-view+json": {
              "version_major": 2,
              "version_minor": 0,
              "model_id": "da42aa9771624bb9b8f84e9cf23d844f"
            }
          },
          "metadata": {}
        }
      ]
    },
    {
      "cell_type": "code",
      "source": [
        "plt.boxplot(tokens_len)\n",
        "print('25%: ', np.quantile(tokens_len, q=0.25))\n",
        "print('50%: ', np.quantile(tokens_len, q=0.5))\n",
        "print('75%: ', np.quantile(tokens_len, q=0.75))\n",
        "print('85%: ', np.quantile(tokens_len, q=0.85))\n",
        "print('90%: ', np.quantile(tokens_len, q=0.9))\n",
        "print('95%: ', np.quantile(tokens_len, q=0.95))\n",
        "print('99%: ', np.quantile(tokens_len, q=0.99))\n",
        "plt.title('Token Length', fontsize=15)\n",
        "plt.show()"
      ],
      "metadata": {
        "colab": {
          "base_uri": "https://localhost:8080/",
          "height": 411
        },
        "id": "2Z7BeHoREnvS",
        "outputId": "4ff94e0b-b768-43b6-9c4a-8c24e3263320"
      },
      "execution_count": null,
      "outputs": [
        {
          "output_type": "stream",
          "name": "stdout",
          "text": [
            "25%:  66.0\n",
            "50%:  106.0\n",
            "75%:  162.0\n",
            "85%:  200.0\n",
            "90%:  229.0\n",
            "95%:  255.0\n",
            "99%:  283.0\n"
          ]
        },
        {
          "output_type": "display_data",
          "data": {
            "text/plain": [
              "<Figure size 432x288 with 1 Axes>"
            ],
            "image/png": "[encoded data removed]"
          },
          "metadata": {
            "needs_background": "light"
          }
        }
      ]
    },
    {
      "cell_type": "markdown",
      "source": [
        "- 산점도"
      ],
      "metadata": {
        "id": "m3S0TAZ5Dd13"
      }
    },
    {
      "cell_type": "code",
      "source": [
        "plt.plot(texts_len, tokens_len, '.', alpha=0.05)"
      ],
      "metadata": {
        "colab": {
          "base_uri": "https://localhost:8080/",
          "height": 283
        },
        "id": "fDm3jJBaDf7m",
        "outputId": "cd9b8352-af81-47c4-f985-e4d32dd7addb"
      },
      "execution_count": null,
      "outputs": [
        {
          "output_type": "execute_result",
          "data": {
            "text/plain": [
              "[<matplotlib.lines.Line2D at 0x7f9b06e45d10>]"
            ]
          },
          "metadata": {},
          "execution_count": 193
        },
        {
          "output_type": "display_data",
          "data": {
            "text/plain": [
              "<Figure size 432x288 with 1 Axes>"
            ],
            "image/png": "[encoded data removed]"
          },
          "metadata": {
            "needs_background": "light"
          }
        }
      ]
    },
    {
      "cell_type": "markdown",
      "source": [
        "`-` $\\text{토큰 길이} \\times 2 \\approx \\text{텍스트 길이}$"
      ],
      "metadata": {
        "id": "pPPjNqYLDpoe"
      }
    },
    {
      "cell_type": "markdown",
      "source": [
        "## 텍스트 전처리"
      ],
      "metadata": {
        "id": "4HVPoUOvd5g8"
      }
    },
    {
      "cell_type": "markdown",
      "source": [
        "`-` html 태그 제거해야 함\n",
        "\n",
        "`-` yyyy년 mm월 dd일, n층, $m^2$ 제거해야 함\n",
        "\n",
        "`-` 숫자 단어 제거하면 안되는 경우: 5일장"
      ],
      "metadata": {
        "id": "MF19oJ5DZ0Sv"
      }
    },
    {
      "cell_type": "markdown",
      "source": [
        "`-` 공공기관 데이터라 그런지 글의 띄어쓰기, 맞춤법 상태가 나쁘지 않은 편이다"
      ],
      "metadata": {
        "id": "Sev45X0HZdF4"
      }
    },
    {
      "cell_type": "markdown",
      "source": [
        "`-` 개요가 8천글자......\n",
        "\n",
        "`-` 굳이 설명을 다 읽을 필요가 있을까?\n",
        "\n",
        "`-` 일반적으로 주요 내용을 앞에서 설명하고 뒤의 설명은 부가적이다\n",
        "\n",
        "`-` 그러면 굳이 개요 전부를 읽지말고 중간 부근까지만 읽어보자\n",
        "\n",
        "`-` 짧은 글은 전체를 다 읽고 긴 글은 다 읽지 말자\n",
        "\n",
        "`-` 문장은 마침표를 기준으로 구분되어 있다\n",
        "\n",
        "`-` cutting할 때는 마침표 위치를 찾고 원하는 지점에 가장 가까운 마침표를 기준으로 잘라내자"
      ],
      "metadata": {
        "id": "SRxALkG_lqiw"
      }
    },
    {
      "cell_type": "markdown",
      "source": [
        "`-` **적은 클래스를 오버샘플링 해보자** \n",
        "\n",
        "`-` 내가 임의로 텍스트를 살짝 변경하면 될 듯\n",
        "\n",
        "`-` 아니면 마침표를 기준으로 문장을 추출한 후 문장을 랜덤셔플하여 텍스트를 생성해보자\n",
        "\n",
        "`-` 또한, 임의의 문장을 드랍할 수 도 있다 (단 2문장 이상일 때만)\n",
        "\n",
        "`-` agumentation class를 만들자 (마침표를 기준으로 문장 추출, 랜덤 셔플, 드랍)\n",
        "\n",
        "`-` 잘못 라벨링된 텍스트가 존재한다, 이를 찾아내는 함수를 만들고 수기 라벨링 해보자"
      ],
      "metadata": {
        "id": "ECkeS3S-8Y_O"
      }
    },
    {
      "cell_type": "markdown",
      "source": [
        "#### 소수 클래스 개요 확인\n",
        "\n",
        "`-` 몇개 확인해봤는데 맞추기 쉽거나 거의 못 맞추거나 둘 중 하나인 듯하다"
      ],
      "metadata": {
        "id": "K9dhm2ml69_W"
      }
    },
    {
      "cell_type": "code",
      "source": [
        "minor_classes = df['cat3'].value_counts()[-30:].reset_index()['index'].to_numpy()\n",
        "minor_classes"
      ],
      "metadata": {
        "id": "oZ4Q2MDs7OWu",
        "colab": {
          "base_uri": "https://localhost:8080/"
        },
        "outputId": "160dfc55-cd53-41fe-b19d-b8f9696500dd"
      },
      "execution_count": null,
      "outputs": [
        {
          "output_type": "execute_result",
          "data": {
            "text/plain": [
              "array(['컨벤션센터', '식음료', '카약/카누', '학교', '헹글라이딩/패러글라이딩', '사격장', '분수', '터널',\n",
              "       '스노쿨링/스킨스쿠버다이빙', '외국문화원', '카트', '면세점', '스키/스노보드', '전통공연', '클럽',\n",
              "       '이색체험', '연극', '백화점', '번지점프', '영화관', '카지노', 'ATV', '빙벽등반', '발전소',\n",
              "       '뮤지컬', 'MTB', '대중콘서트', '인라인(실내 인라인 포함)', '스카이다이빙', '클래식음악회'],\n",
              "      dtype=object)"
            ]
          },
          "metadata": {},
          "execution_count": 309
        }
      ]
    },
    {
      "cell_type": "markdown",
      "source": [
        "- 컨벤션센터\n",
        "\n",
        "`-` 컨벤션이 있고 컨벤션센터가 있다 ㅋㅋㅋ\n",
        "\n",
        "`-` 범주가 컨벤션센터인 텍스트는 11개이고 그 중 2개 텍스트에는 컨벤션센터라는 단어가 들어있지 않다"
      ],
      "metadata": {
        "id": "gq3PNArcDD8k"
      }
    },
    {
      "cell_type": "markdown",
      "source": [
        "- 식음료\n",
        "\n",
        "`-` 음식 + 관광지\n",
        "\n",
        "`-` 주류(와인)이 많이 언급됨"
      ],
      "metadata": {
        "id": "MET2o4XXE78L"
      }
    },
    {
      "cell_type": "markdown",
      "source": [
        "- 클럽\n",
        "\n",
        "`-` 음식점으로 분류됨......"
      ],
      "metadata": {
        "id": "4jjt8DKtGeIy"
      }
    },
    {
      "cell_type": "markdown",
      "source": [
        "#### 단어 대체\n",
        "\n",
        "`-` 단어를 다른 단어로 대체할 필요가 있음\n",
        "\n",
        "`-` 예컨대 cate -> 카페\n",
        "\n",
        "`-` 까페 -> 카페\n",
        "\n",
        "`-` ATV -> 오토바이"
      ],
      "metadata": {
        "id": "lyZ9ihe6IIJi"
      }
    },
    {
      "cell_type": "markdown",
      "source": [
        "`-` 일정개수 이상 등장하는 영어단어에 `check_word_counts` 함수를 적용하자"
      ],
      "metadata": {
        "id": "R6QIq0BBbF_d"
      }
    },
    {
      "cell_type": "code",
      "source": [
        "def check_word_counts(word: str, texts: Sequence[str], labels: NDArray[np.str_]) -> Dict[str, int]:\n",
        "    count_dict = {}\n",
        "    for idx, text in enumerate(texts):\n",
        "        text = text.lower()\n",
        "        label = labels[idx]\n",
        "        if word in text:  ## text 대신 text.split()을 사용하면 더 타이트하게 검출\n",
        "            if label not in count_dict:\n",
        "                count_dict[label] = 1\n",
        "            else:\n",
        "                count_dict[label] += 1\n",
        "\n",
        "    all_counts = sum([np.sum(labels == key) for key in list(count_dict.keys())])\n",
        "    count_dict.update({'합계':sum(count_dict.values())})\n",
        "    count_list = list(count_dict.items())\n",
        "    count_list = list(map(list, count_list))\n",
        "\n",
        "    for item in count_list:\n",
        "        if item[0] == '합계':\n",
        "            item.append(all_counts)\n",
        "        else:\n",
        "            item.append(np.sum(labels == item[0]))\n",
        "\n",
        "    count_list = sorted(count_list, key=lambda item: (-item[1], -item[2]))\n",
        "    return count_list"
      ],
      "metadata": {
        "id": "a1mZ7n8G6T5z"
      },
      "execution_count": null,
      "outputs": []
    },
    {
      "cell_type": "code",
      "source": [
        "def check_english_df(texts: Sequence[str]) -> Dict[str, int]:\n",
        "    \"\"\"영단어별 document frequency를 계산\"\"\"\n",
        "    eng_dict = {}\n",
        "    for text in texts:\n",
        "        text = text.lower()\n",
        "        words = text.split()\n",
        "        duplicate = {}\n",
        "        for word in words:\n",
        "            if word.encode().isalpha() and word not in duplicate:\n",
        "                if word not in eng_dict:\n",
        "                    eng_dict[word] = 1\n",
        "                else:\n",
        "                    eng_dict[word] += 1\n",
        "                duplicate[word] = True\n",
        "\n",
        "    eng_dict.update({'고유한 영단어 개수':len(eng_dict)})\n",
        "    eng_dict = sorted(eng_dict.items(), key=lambda item: item[1], reverse=True)\n",
        "    return eng_dict"
      ],
      "metadata": {
        "id": "UZZDCGie8u5x"
      },
      "execution_count": null,
      "outputs": []
    },
    {
      "cell_type": "code",
      "source": [
        "# check_english_df(df['overview'].values)"
      ],
      "metadata": {
        "id": "Px2TMM0MMT20"
      },
      "execution_count": null,
      "outputs": []
    },
    {
      "cell_type": "code",
      "source": [
        "check_word_counts('haccp', df['overview'].values, df['cat3'].values)"
      ],
      "metadata": {
        "colab": {
          "base_uri": "https://localhost:8080/"
        },
        "id": "OcvZXpMGjaSq",
        "outputId": "3fc74f6b-cead-460e-88cd-19fc9b2987a4"
      },
      "execution_count": null,
      "outputs": [
        {
          "output_type": "execute_result",
          "data": {
            "text/plain": [
              "[['합계', 7, 5356],\n",
              " ['한식', 1, 3438],\n",
              " ['바/까페', 1, 785],\n",
              " ['일반축제', 1, 549],\n",
              " ['이색거리', 1, 467],\n",
              " ['패밀리레스토랑', 1, 61],\n",
              " ['채식전문점', 1, 36],\n",
              " ['문화관광축제', 1, 20]]"
            ]
          },
          "metadata": {},
          "execution_count": 66
        }
      ]
    },
    {
      "cell_type": "markdown",
      "source": [
        "### 라벨링\n",
        "\n",
        "`-` 라벨이 잘못 부여된 텍스트가 존재한다\n",
        "\n",
        "`-` 데이터가 많이 존재하는 경우에는 괜찮을 수 있으나 데이터가 적은 경우 모델이 잘못 학습할 수 있다\n",
        "\n",
        "`-` 모델의 일반화 성능 향상을 위해 제대로 라벨링 해주자\n",
        "\n",
        "`-` 적은 데이터를 가진 클래스의 경우 일일이 확인할 수 있다\n",
        "\n",
        "`-` 하지만 한식 클래스와 같이 데이터가 많은 경우 일일이 확인할 수 없다\n",
        "\n",
        "- 어떻게 찾아낼 것인가?\n",
        "\n",
        "`-` 같은 클래스에서 거의 사용되지 않은 단어가 사용됐다면 이상치일 가능성이 존재한다"
      ],
      "metadata": {
        "id": "ODUMOl03s7kf"
      }
    },
    {
      "cell_type": "code",
      "source": [
        "minor_classes"
      ],
      "metadata": {
        "colab": {
          "base_uri": "https://localhost:8080/"
        },
        "id": "qTLUetXGSRlh",
        "outputId": "6a91ad4c-9fa5-4955-919b-6e5ab7b3d1e7"
      },
      "execution_count": null,
      "outputs": [
        {
          "output_type": "execute_result",
          "data": {
            "text/plain": [
              "array(['컨벤션센터', '식음료', '카약/카누', '학교', '헹글라이딩/패러글라이딩', '사격장', '분수', '터널',\n",
              "       '스노쿨링/스킨스쿠버다이빙', '외국문화원', '카트', '면세점', '스키/스노보드', '전통공연', '클럽',\n",
              "       '이색체험', '연극', '백화점', '번지점프', '영화관', '카지노', 'ATV', '빙벽등반', '발전소',\n",
              "       '뮤지컬', 'MTB', '대중콘서트', '인라인(실내 인라인 포함)', '스카이다이빙', '클래식음악회'],\n",
              "      dtype=object)"
            ]
          },
          "metadata": {},
          "execution_count": 404
        }
      ]
    },
    {
      "cell_type": "code",
      "source": [
        "def get_overview(texts: NDArray[np.str_], label: str, labels: NDArray[np.str_]) -> Tuple[int, NDArray[np.str_]]:\n",
        "    idx = [i for i, target in enumerate(labels) if target == label]\n",
        "    return idx, texts[idx]"
      ],
      "metadata": {
        "id": "jUzp8ajiSSJZ"
      },
      "execution_count": null,
      "outputs": []
    },
    {
      "cell_type": "code",
      "source": [
        "normal = ['클래식음악회', \n",
        "          '스카이다이빙',\n",
        "          '대중콘서트',\n",
        "          'MTB',\n",
        "          '뮤지컬',\n",
        "          '발전소',\n",
        "          '카지노',\n",
        "          '영화관',\n",
        "          '번지점프',\n",
        "          '백화점',\n",
        "          '이색체험',\n",
        "          '전통공연',\n",
        "          '스키/스노보드',\n",
        "          '면세점',\n",
        "          '카트',\n",
        "          '외국문화원',\n",
        "          '스노쿨링/스킨스쿠버다이빙',\n",
        "          '분수',\n",
        "          '사격장',\n",
        "          '헹글라이딩/패러글라이딩',          \n",
        "          ]\n",
        "\n",
        "## abnormal은 이미지를 확인할 필요가 있다\n",
        "abnormal = {'빙벽등반-5113':'체험시설',\n",
        "            '빙벽등반-6992':'펜션 캠핑장, 글램핑',\n",
        "            '빙벽등반-8552':'클라이밍',\n",
        "            '빙벽등반-11338':'클라이밍',\n",
        "            'ATV-4958':'공룡 전시관',\n",
        "            '클럽-15876':'한식',\n",
        "            '터널-1210':'공원',\n",
        "            '학교-10715':'연구소',\n",
        "            '카약/카누-7021':'학교',\n",
        "            '식음료-10351':'이색체험',\n",
        "            '기타-886':'박물관',\n",
        "            '기타-4500':'전시관',\n",
        "            }"
      ],
      "metadata": {
        "id": "qV_m0OXjTcYQ"
      },
      "execution_count": null,
      "outputs": []
    },
    {
      "cell_type": "markdown",
      "source": [
        "`-` 한국어 불용어 리스트: https://deep.chulgil.me/hangugeo-bulyongeo-riseuteu/"
      ],
      "metadata": {
        "id": "nFa8v0vh9nFd"
      }
    },
    {
      "cell_type": "markdown",
      "source": [
        "`-` 토크나이저로 토큰화 후 `#`을 제거, 그리고 불용어 제거\n",
        "\n",
        "`-` 이를 가지고 빈도 분석하여 자기 class에선 적게 등장하면서 다른 class에서 많이 등장하는 단어를 포함하는 텍스트를 식별\n",
        "\n",
        "`-` 시도하지 못했다..."
      ],
      "metadata": {
        "id": "b2CBUUVQ_Q0G"
      }
    },
    {
      "cell_type": "markdown",
      "source": [
        "## 모델 학습 방법"
      ],
      "metadata": {
        "id": "-KgtTAmF710T"
      }
    },
    {
      "cell_type": "markdown",
      "source": [
        "`1.` 이미지만으로 카테고리를 구분할 수 있다\n",
        "\n",
        "`2.` 텍스트만으로 카테고리를 구분할 수 있다\n",
        "\n",
        "`3.` 이미지와 텍스트로 카테고리를 구분할 수 있다"
      ],
      "metadata": {
        "id": "R30nCuqz73wy"
      }
    },
    {
      "cell_type": "markdown",
      "source": [
        "`-` 만약 방법 1 또는 2가 성립한다면 모델을 각각 만들고 앙상블을 통해 예측해도 된다\n",
        "\n",
        "`-` 만약 오직 방법 3만 성립한다면 이미지와 텍스트를 같이 사용해 모델을 학습시켜야 한다 (예컨대 forward 에서 concat 하든지)\n",
        "\n",
        "`-` 방법 1은 성립하지 않는 것 같다......"
      ],
      "metadata": {
        "id": "UZhxt6Kf8C-K"
      }
    },
    {
      "cell_type": "markdown",
      "metadata": {
        "id": "8R8eEwVqa-Yw"
      },
      "source": [
        "## 모델 학습 준비"
      ]
    },
    {
      "cell_type": "code",
      "execution_count": null,
      "metadata": {
        "id": "n8LBsMPybBJx"
      },
      "outputs": [],
      "source": [
        "import torch\n",
        "import torch.nn as nn\n",
        "import torch.optim as optim\n",
        "import torch.nn.functional as F\n",
        "from torch import Tensor\n",
        "from torch.utils.data import Dataset, DataLoader\n",
        "from torch.optim.lr_scheduler import _LRScheduler\n",
        "from torch.nn.modules.loss import _WeightedLoss\n",
        "from torch.optim import Optimizer\n",
        "\n",
        "import albumentations as A\n",
        "from text_augmentation.transforms import RandomSwapWords, RandomSwapSentences, RandomDeletionWords, RandomDeletionSentences\n",
        "\n",
        "from transformers import AdamW\n",
        "from transformers.optimization import get_linear_schedule_with_warmup\n",
        "from transformers import AutoTokenizer, AutoModelForSequenceClassification"
      ]
    },
    {
      "cell_type": "code",
      "execution_count": null,
      "metadata": {
        "colab": {
          "base_uri": "https://localhost:8080/"
        },
        "id": "VHaG21kBKVPp",
        "outputId": "6712cc93-7c3d-4202-ce85-cbe714b9d5f9"
      },
      "outputs": [
        {
          "output_type": "stream",
          "name": "stdout",
          "text": [
            "현재 device는 cuda입니다\n"
          ]
        }
      ],
      "source": [
        "device = torch.device('cuda' if torch.cuda.is_available() else 'cpu')\n",
        "print(f'현재 device는 {device}입니다')"
      ]
    },
    {
      "cell_type": "code",
      "execution_count": null,
      "metadata": {
        "id": "Bs1K4etzcwE-"
      },
      "outputs": [],
      "source": [
        "def seed_everything(seed: int = 22) -> None:\n",
        "    random.seed(seed)\n",
        "    os.environ['PYTHONHASHSEED'] = str(seed)\n",
        "    np.random.seed(seed)\n",
        "    torch.manual_seed(seed)\n",
        "    torch.cuda.manual_seed(seed)\n",
        "    torch.backends.cudnn.deterministic = True\n",
        "    torch.backends.cudnn.benchmark = True"
      ]
    },
    {
      "cell_type": "code",
      "execution_count": null,
      "metadata": {
        "id": "Ts-GMlTEn_YX"
      },
      "outputs": [],
      "source": [
        "def clear_gpu() -> None:\n",
        "    gc.collect()\n",
        "    torch.cuda.empty_cache()"
      ]
    },
    {
      "cell_type": "markdown",
      "source": [
        "- 훈련 텍스트 불러오기"
      ],
      "metadata": {
        "id": "kJ5dIzUNu-PV"
      }
    },
    {
      "cell_type": "code",
      "source": [
        "def preprocessing(\n",
        "    texts: NDArray[np.str_], \n",
        "    minor2major_dict: Dict[str, str], \n",
        "    major2minor_dict: Dict[str, str]\n",
        ") -> NDArray[np.str_]:\n",
        "    texts = minor2major(texts, minor2major_dict)\n",
        "    texts = delete_duplicate_fullstops(texts)\n",
        "    texts = delete_first_fullstops(texts)\n",
        "    texts = delete_last_fullstops(texts)\n",
        "    texts = clean_texts(texts)\n",
        "    texts = major2minor(texts, major2minor_dict)\n",
        "    texts = delete_valueless_fullstops(texts)\n",
        "    texts = add_last_fullstop(texts)\n",
        "    texts = cut_texts(texts, max_len=550)\n",
        "    # texts = delete_fullstops(texts)\n",
        "    texts = np.array(texts)\n",
        "    return texts"
      ],
      "metadata": {
        "id": "qko5btRs_8P6"
      },
      "execution_count": null,
      "outputs": []
    },
    {
      "cell_type": "code",
      "source": [
        "train_texts = preprocessing(df['overview'].values, minor2major_dict, major2minor_dict)"
      ],
      "metadata": {
        "id": "NHMCaGWxAeAi"
      },
      "execution_count": null,
      "outputs": []
    },
    {
      "cell_type": "markdown",
      "metadata": {
        "id": "VqF9HjyEEelg"
      },
      "source": [
        "- 데이터 셋과 데이터 로더"
      ]
    },
    {
      "cell_type": "code",
      "source": [
        "class TextDataset(Dataset):\n",
        "    def __init__(\n",
        "        self, \n",
        "        tokenizer: AutoTokenizer,\n",
        "        texts: Sequence[NDArray], \n",
        "        labels: Optional[Sequence[int]] = None,\n",
        "        max_len: int = 512,\n",
        "        transforms: Optional[Callable[[str], Dict[str, str]]] = None\n",
        "    ) -> None:\n",
        "        self.texts = texts\n",
        "        self.labels = labels\n",
        "        self.tokenizer = tokenizer\n",
        "        self.max_len = max_len\n",
        "        self.transforms = transforms\n",
        "    \n",
        "    def __getitem__(self, idx: int) -> Union[Tuple[Tensor, Tensor, int], Tuple[Tensor, Tensor]]:\n",
        "        text = self.texts[idx]\n",
        "        if self.transforms is not None:\n",
        "            text = self.transforms(text=text)['text']\n",
        "            # if self.labels[idx] in MINORITY_CLASSES:\n",
        "            #     text = self.transforms(text=text)['text']\n",
        "\n",
        "        inputs = self.tokenizer(\n",
        "            text, \n",
        "            return_tensors='pt',\n",
        "            truncation=True,\n",
        "            max_length=self.max_len,\n",
        "            pad_to_max_length=True,\n",
        "            add_special_tokens=True\n",
        "        )\n",
        "        \n",
        "        input_ids = inputs['input_ids'][0]\n",
        "        attention_mask = inputs['attention_mask'][0]\n",
        "\n",
        "        if self.labels is not None:\n",
        "            label = self.labels[idx]\n",
        "            return input_ids, attention_mask, label\n",
        "        return input_ids, attention_mask  ## test는 라벨이 없다\n",
        "\n",
        "    def __len__(self) -> int:\n",
        "        return len(self.texts)"
      ],
      "metadata": {
        "id": "qrr0GvDNjB_6"
      },
      "execution_count": null,
      "outputs": []
    },
    {
      "cell_type": "code",
      "source": [
        "def get_text_dataloader(\n",
        "        tokenizer: AutoTokenizer, \n",
        "        X: Sequence[NDArray],  \n",
        "        y: Optional[Sequence[int]] = None,\n",
        "        max_len: int = 512,\n",
        "        transforms: Optional[Callable[[str], Dict[str, str]]] = None,\n",
        "        shuffle_dataloader: bool = True,\n",
        "        drop_last: bool = False\n",
        "    ) -> DataLoader:\n",
        "    dataset = TextDataset(tokenizer, X, y, max_len, transforms)    \n",
        "    dataloader = DataLoader(dataset, batch_size=BATCH_SIZE, shuffle=shuffle_dataloader, drop_last=drop_last)\n",
        "    return dataloader"
      ],
      "metadata": {
        "id": "OEXLjxCIniwJ"
      },
      "execution_count": null,
      "outputs": []
    },
    {
      "cell_type": "markdown",
      "metadata": {
        "id": "rlEnL4U7EZ1o"
      },
      "source": [
        "- 데이터 변환"
      ]
    },
    {
      "cell_type": "code",
      "source": [
        "wcnt = []\n",
        "for t in train_texts:\n",
        "     for tt in t.split('.'):\n",
        "        wcnt.append(len(tt.split()))\n",
        "\n",
        "plt.boxplot(wcnt)\n",
        "plt.show()"
      ],
      "metadata": {
        "id": "BOfpdtGJODRE",
        "colab": {
          "base_uri": "https://localhost:8080/",
          "height": 265
        },
        "outputId": "b066319a-7193-4379-ac8b-cffe584ecb47"
      },
      "execution_count": null,
      "outputs": [
        {
          "output_type": "display_data",
          "data": {
            "text/plain": [
              "<Figure size 432x288 with 1 Axes>"
            ],
            "image/png": "[encoded data removed]"
          },
          "metadata": {
            "needs_background": "light"
          }
        }
      ]
    },
    {
      "cell_type": "code",
      "source": [
        "scnt = []\n",
        "for t in train_texts:\n",
        "    scnt.append(len(t.split('.')))\n",
        "\n",
        "plt.boxplot(scnt)\n",
        "plt.show()"
      ],
      "metadata": {
        "id": "QXpNaj-wK5o4",
        "colab": {
          "base_uri": "https://localhost:8080/",
          "height": 265
        },
        "outputId": "80210b75-e58d-4a9e-9386-2111cf54cc8b"
      },
      "execution_count": null,
      "outputs": [
        {
          "output_type": "display_data",
          "data": {
            "text/plain": [
              "<Figure size 432x288 with 1 Axes>"
            ],
            "image/png": "[encoded data removed]"
          },
          "metadata": {
            "needs_background": "light"
          }
        }
      ]
    },
    {
      "cell_type": "code",
      "source": [
        "## 데이터 변환 방식을 정의 (Agumentation)\n",
        "def get_transforms(phase: str) -> A.Compose:\n",
        "    if phase == 'train':\n",
        "        transforms = A.Compose([\n",
        "            # RandomSwapSentences(p=0.5),\n",
        "            RandomDeletionSentences(min_sentences=4, deletion_prob=0.1, p=0.75),\n",
        "            RandomDeletionWords(min_words_each_sentence=8, deletion_prob=0.15, p=0.5),\n",
        "            RandomSwapWords(p=0.5),\n",
        "        ])\n",
        "    elif phase == 'valid':\n",
        "        transforms = None\n",
        "    return transforms  ## 데이터 변환 방식을 반환"
      ],
      "metadata": {
        "id": "zcHBC0IoCDaD"
      },
      "execution_count": null,
      "outputs": []
    },
    {
      "cell_type": "markdown",
      "metadata": {
        "id": "IYPBhwtgKQJZ"
      },
      "source": [
        "- 조기 중단"
      ]
    },
    {
      "cell_type": "code",
      "execution_count": null,
      "metadata": {
        "id": "5iBTSeFgKSop"
      },
      "outputs": [],
      "source": [
        "## Copyright (c) 2018 Bjarte Mehus Sunde\n",
        "## ref: https://github.com/Bjarten/early-stopping-pytorch/blob/master/pytorchtools.py\n",
        "class EarlyStopping:\n",
        "    \"\"\"주어진 patience 횟수 이후로 validation score가 개선되지 않으면 학습을 조기 중단\"\"\"\n",
        "    mode_dict = {'min':-1, 'max':1}\n",
        "    score_metrics = [\n",
        "        'accuracy',\n",
        "        'f1_score',\n",
        "    ]\n",
        "\n",
        "    def __init__(\n",
        "        self, \n",
        "        patience: int = 7, \n",
        "        monitor: str = 'loss', \n",
        "        mode: str = 'min', \n",
        "        min_delta: float = 0.0, \n",
        "        path: str = './weight', \n",
        "        model_name: str = '', \n",
        "        current_fold: int = 1\n",
        "    ) -> None:\n",
        "        \"\"\"\n",
        "        Args:\n",
        "            patience (int): score가 개선될 때까지 기다리는 에폭\n",
        "                            Default: 7\n",
        "                          \n",
        "            monitor (str): 값의 변화를 모니터링할 수치(score)\n",
        "                            Default: 'loss'\n",
        "\n",
        "            mode (str): score를 개선시킬 방식\n",
        "                            Default: 'min'\n",
        "\n",
        "            min_delta (float): 개선되었다고 인정되는 score의 최소 변화\n",
        "                            Default: 0.0\n",
        "\n",
        "            path (str): checkpoint 공통 저장 경로\n",
        "                            Default: './weight'\n",
        "\n",
        "            model_name (str): 학습시킬 모델의 이름\n",
        "                            Default: ''\n",
        "\n",
        "            current_fold (int): 현재 학습을 진행하는 fold의 순서\n",
        "                            Default: 1\n",
        "        \"\"\"\n",
        "        self.patience = patience\n",
        "        self.counter = 0\n",
        "        self.mode = mode\n",
        "        self.direction = self.mode_dict[mode]\n",
        "        self.monitor = monitor\n",
        "        self.best_score = -np.Inf\n",
        "        self.valid_loss = np.Inf\n",
        "        self.valid_metric_score = None  ## 평가지표 (i.g. accuracy)\n",
        "        self.early_stop = False\n",
        "        self.min_delta = min_delta\n",
        "        self.path = path\n",
        "        self.model_name = model_name\n",
        "        self.current_fold = current_fold\n",
        "\n",
        "    def __call__(\n",
        "        self, \n",
        "        model: nn.Module, \n",
        "        valid_loss: float, \n",
        "        valid_metric_score: Optional[float] = None\n",
        "    ) -> None:\n",
        "        ## score는 클수록 좋다\n",
        "        if self.monitor == 'loss':\n",
        "            score = valid_loss * self.direction\n",
        "        elif self.monitor in self.score_metrics:\n",
        "            score = valid_metric_score * self.direction\n",
        "        else:\n",
        "            score = None\n",
        "\n",
        "        ## score가 개선되었는지 확인\n",
        "        if score <= self.best_score + self.min_delta: \n",
        "            self.counter += 1 \n",
        "            if self.counter > self.patience:  ## 만약 score가 개선되지 않은 에폭이 patience 횟수보다 크다면 조기 중단\n",
        "                self.early_stop = True\n",
        "        else: \n",
        "            self.best_score = score \n",
        "            self.save_checkpoint(model, valid_loss, valid_metric_score) \n",
        "            self.counter = 0  ## score가 개선되었으므로 0으로 변경\n",
        "\n",
        "    def save_checkpoint(\n",
        "        self, \n",
        "        model: nn.Module, \n",
        "        valid_loss: float, \n",
        "        valid_metric_score: Optional[float] = None\n",
        "    ) -> None:\n",
        "        \"\"\"validation score가 개선되면 모델을 저장\"\"\"\n",
        "        torch.save(model.state_dict(), self.path + f'/{self.model_name}_best_{self.current_fold}.pt') \n",
        "        self.valid_loss = valid_loss  ## 모델이 더 좋게 갱신되었으므로 이때의 valid loss를 기준치로 변경\n",
        "        self.valid_metric_score = valid_metric_score  ## 이때의 valid metric score도 변경해준다\n",
        "\n",
        "    def check_early_stop(self) -> bool:\n",
        "        return self.early_stop\n",
        "\n",
        "    def set_fold(self, current_fold: int) -> None:\n",
        "        self.current_fold = current_fold\n",
        "\n",
        "    def reset_score(self) -> None:\n",
        "        \"\"\"다음 fold 학습을 위해 score 관련 파라미터를 초기화\"\"\"\n",
        "        self.counter = 0\n",
        "        self.best_score = -np.Inf\n",
        "        self.valid_loss = np.Inf\n",
        "        self.valid_metric_score = None\n",
        "        self.early_stop = False"
      ]
    },
    {
      "cell_type": "markdown",
      "metadata": {
        "id": "3lq9uwAwJbZI"
      },
      "source": [
        "## 모델 K겹 교차검증"
      ]
    },
    {
      "cell_type": "markdown",
      "metadata": {
        "id": "OdJ4NrlutzeQ"
      },
      "source": [
        "- Kfold와 손실 함수"
      ]
    },
    {
      "cell_type": "code",
      "source": [
        "class FocalLoss(_Loss):\n",
        "    def __init__(\n",
        "        self,\n",
        "        gamma: float = 2.0,\n",
        "        alpha: Optional[Tensor] = None, \n",
        "        label_smoothing: float = 0.0,\n",
        "        reduction: str = 'mean'\n",
        "    ) -> None:\n",
        "        super(FocalLoss, self).__init__()\n",
        "        self.gamma = gamma\n",
        "        self.alpha = alpha\n",
        "        self.reduction = reduction\n",
        "        self.label_smoothing = label_smoothing\n",
        "\n",
        "    def forward(self, input: Tensor, target: Tensor) -> Tensor:\n",
        "        ce_loss = F.cross_entropy(input, target, \n",
        "                                  self.alpha,\n",
        "                                  label_smoothing=self.label_smoothing,\n",
        "                                  reduction='none')\n",
        "        p_t = torch.exp(-ce_loss)  \n",
        "        loss = ce_loss * (1 - p_t)**self.gamma\n",
        "\n",
        "        if self.reduction == 'mean':\n",
        "            loss = loss.mean()\n",
        "        elif self.reduction == 'sum':\n",
        "            loss = loss.sum()\n",
        "        return loss"
      ],
      "metadata": {
        "id": "zHTftRuqNGTX"
      },
      "execution_count": null,
      "outputs": []
    },
    {
      "cell_type": "code",
      "execution_count": null,
      "metadata": {
        "id": "pcwBZjJMKa9Z"
      },
      "outputs": [],
      "source": [
        "skfold = StratifiedKFold(n_splits=NUM_FOLDS, shuffle=True, random_state=SEED)\n",
        "loss_fn = FocalLoss(alpha=None, gamma=2.0, label_smoothing=LABEL_SMOOTHING)"
      ]
    },
    {
      "cell_type": "markdown",
      "metadata": {
        "id": "jugLYDOLuYcB"
      },
      "source": [
        "- early stopping"
      ]
    },
    {
      "cell_type": "code",
      "execution_count": null,
      "metadata": {
        "id": "Zyp4tzxKuZOI"
      },
      "outputs": [],
      "source": [
        "early_stopping = EarlyStopping(patience=10,\n",
        "                               monitor='f1_score',\n",
        "                               mode='max',\n",
        "                               path=SAVE_PATH,\n",
        "                               model_name=MODEL_NAME,\n",
        "                               current_fold=1)  ## patience 횟수 에폭 후에도 검증 손실이 작아지지 않으면 조기 중단"
      ]
    },
    {
      "cell_type": "markdown",
      "source": [
        "- over sampling"
      ],
      "metadata": {
        "id": "fasOW6POz-YC"
      }
    },
    {
      "cell_type": "markdown",
      "source": [
        "`-` 성능은 별로였음 (과적합이 문제인 듯)\n",
        "\n",
        "`-` 변형 확률을 높여보자"
      ],
      "metadata": {
        "id": "f0ILbSYahyBg"
      }
    },
    {
      "cell_type": "code",
      "source": [
        "def random_over_sampling(X, y, minority_classes, n_times=1, shuffle=True):\n",
        "    X, y = copy.deepcopy(X), copy.deepcopy(y)\n",
        "    idx = [i for i, yy in enumerate(y) if yy in minority_classes]\n",
        "    X = list(X) + list(X[idx])*n_times\n",
        "    y = list(y) + list(y[idx])*n_times\n",
        "    data = list(zip(X, y))\n",
        "\n",
        "    if shuffle:    \n",
        "        random.shuffle(data)\n",
        "        \n",
        "    data = np.array(data)\n",
        "    X, y = data[:, 0], data[:, 1].astype(np.int64)\n",
        "    return X, y"
      ],
      "metadata": {
        "id": "vhrpApuyz9gF"
      },
      "execution_count": null,
      "outputs": []
    },
    {
      "cell_type": "code",
      "source": [
        "MINORITY_CLASSES = le.transform(list(set(df['cat3'].unique()) - set(['한식', '야영장,오토캠핑장', '바/까페'])))"
      ],
      "metadata": {
        "id": "VIlOFZTC73KQ"
      },
      "execution_count": null,
      "outputs": []
    },
    {
      "cell_type": "markdown",
      "source": [
        "- 이미지 "
      ],
      "metadata": {
        "id": "Tu1bzNQXqdQw"
      }
    },
    {
      "cell_type": "markdown",
      "source": [
        "`-` 손절"
      ],
      "metadata": {
        "id": "lHdJMSpJgg48"
      }
    },
    {
      "cell_type": "markdown",
      "source": [
        "- 텍스트"
      ],
      "metadata": {
        "id": "6ykSMVKnqeo7"
      }
    },
    {
      "cell_type": "code",
      "source": [
        "def train(\n",
        "        model: nn.Module,\n",
        "        dataloader: DataLoader, \n",
        "        optimizer: Optimizer, \n",
        "        loss_fn: _WeightedLoss, \n",
        "        scheduler: Optional[_LRScheduler] = None,\n",
        "        use_amp: bool = False\n",
        "    ) -> Tuple[nn.Module, float]:\n",
        "    \"\"\"dataloader의 데이터로 모델을 학습시킨 후 학습된 모델과 평균 배치 훈련 오차를 반환\"\"\"  \n",
        "    train_loss = 0.0  ## mini-batch 평균 훈련 오차 \n",
        "    model.to(device)\n",
        "    model.train()\n",
        "    if use_amp:\n",
        "        scaler = torch.cuda.amp.GradScaler()\n",
        "\n",
        "    for input_ids, attention_masks, y in tqdm(dataloader):  ## 미니 배치 단위로 꺼내온다, X는 미니 배치, y는 레이블\n",
        "        input_ids = input_ids.to(device)\n",
        "        attention_masks = attention_masks.to(device)\n",
        "        y = y.to(device)\n",
        "        optimizer.zero_grad()  ## 그래디언트 초기화\n",
        "        \n",
        "        if use_amp:\n",
        "            with torch.cuda.amp.autocast():\n",
        "                y_hat = model(input_ids, attention_masks)[0]\n",
        "                loss = loss_fn(y_hat, y)  \n",
        "            scaler.scale(loss).backward()\n",
        "            scaler.step(optimizer)\n",
        "            scaler.update()\n",
        "        else:\n",
        "            y_hat = model(input_ids, attention_masks)[0]\n",
        "            loss = loss_fn(y_hat, y)  \n",
        "            loss.backward()   ## 미분\n",
        "            optimizer.step()  ## 업데이트\n",
        "        train_loss += (loss.item() / len(dataloader)) \n",
        "  \n",
        "        ## 배치마다 학습률 조절\n",
        "        if scheduler is not None:\n",
        "            scheduler.step()\n",
        "        \n",
        "    return model, train_loss"
      ],
      "metadata": {
        "id": "GxZoGYxft9iu"
      },
      "execution_count": null,
      "outputs": []
    },
    {
      "cell_type": "code",
      "source": [
        "def evaluate(\n",
        "        model: nn.Module, \n",
        "        dataloader: DataLoader, \n",
        "        loss_fn: _WeightedLoss,\n",
        "        use_amp: bool = False\n",
        "    ) -> Tuple[float, float, float]:\n",
        "    \"\"\"dataloader의 데이터를 모델이 평가한 후 평균 배치 검증 오차와 accuracy, f1 score를 반환\"\"\"\n",
        "    valid_loss, valid_acc, valid_f1 = 0.0, 0.0, 0.0  ## mini-batch 평균 검증 오차와 accuracy, f1 score\n",
        "    y_list, yhat_list = [], []\n",
        "    model.to(device)\n",
        "    model.eval()  \n",
        "\n",
        "    with torch.no_grad():  ## 역전파를 계산할 필요가 없으니까\n",
        "        for input_ids, attention_masks, y in dataloader:  ## 미니 배치 단위로 꺼내온다, X는 미니 배치, y는 레이블\n",
        "            input_ids = input_ids.to(device)\n",
        "            attention_masks = attention_masks.to(device)\n",
        "            y = y.to(device)\n",
        "            if use_amp:\n",
        "                with torch.cuda.amp.autocast():\n",
        "                    y_hat = model(input_ids, attention_masks)[0]\n",
        "                    loss = loss_fn(y_hat, y)  \n",
        "            else:\n",
        "                y_hat = model(input_ids, attention_masks)[0]\n",
        "                loss = loss_fn(y_hat, y)  \n",
        "\n",
        "            y_list.extend(y.detach().cpu().numpy().tolist())\n",
        "            yhat_list.extend(y_hat.argmax(-1).detach().cpu().numpy().tolist())\n",
        "            valid_loss += loss.item() / len(dataloader)\n",
        "            \n",
        "    valid_acc = accuracy_score(y_list, yhat_list)\n",
        "    valid_f1 = f1_score(y_list, yhat_list, average='weighted')\n",
        "    return valid_loss, valid_acc, valid_f1"
      ],
      "metadata": {
        "id": "IDntd-Gat9-d"
      },
      "execution_count": null,
      "outputs": []
    },
    {
      "cell_type": "code",
      "source": [
        "def kfold_cross_validate(\n",
        "        model: nn.Module, \n",
        "        X: NDArray[np.str_], \n",
        "        y: NDArray[np.int_], \n",
        "        tokenizer: AutoTokenizer,\n",
        "        skfold: StratifiedKFold, \n",
        "        loss_fn: _WeightedLoss, \n",
        "        early_stopping: EarlyStopping,\n",
        "        use_amp: bool = False\n",
        "    ) -> Tuple[nn.Module, List[List[float]], List[List[float]]]:\n",
        "    \"\"\"K겹 교차검증을 통해 모델의 성능을 평가하고 학습된 모델과 폴드별 훈련 손실, 폴드별 검증 손실을 반환\"\"\"\n",
        "    seed_everything(SEED)  ## 정확한 재현을 위함\n",
        "    num_folds = skfold.n_splits  ## 폴드의 개수\n",
        "    fold_valid_loss = []  ## 폴드별 가장 작은 검증 손실\n",
        "    fold_valid_f1 = []  ## 폴드별 가장 작은 검증 손실을 가질 때의 f1 score\n",
        "    fold_train_losses_per_epoch = [[] for _ in range(num_folds)]  ## 폴드별 1 에폭에 따른 훈련 배치 손실\n",
        "    fold_valid_losses_per_epoch = [[] for _ in range(num_folds)]  ## 폴드별 1 에폭에 따른 검증 배치 손실\n",
        "\n",
        "    for fold, (train_idx, valid_idx) in enumerate(skfold.split(X, y)):\n",
        "        print(f'[{fold + 1} / {num_folds}] Fold Training......')\n",
        "\n",
        "        ## 메모리 절약\n",
        "        clear_gpu()\n",
        "        \n",
        "        ## 훈련 데이터와 검증 데이터로 분할\n",
        "        X_train, y_train = X[train_idx], y[train_idx] \n",
        "        X_valid, y_valid = X[valid_idx], y[valid_idx]\n",
        "        # X_train, y_train = random_over_sampling(X_train, y_train, MINORITY_CLASSES)\n",
        "\n",
        "        ## Dataloader\n",
        "        train_dataloader = get_text_dataloader(tokenizer, X_train, y_train, MAX_LEN, get_transforms('train'), drop_last=True)\n",
        "        valid_dataloader = get_text_dataloader(tokenizer, X_valid, y_valid, MAX_LEN)\n",
        "\n",
        "        ## 딥러닝 모델의 기본 가중치 불러오기\n",
        "        model.load_state_dict(torch.load(MODEL_DEFAULT_WEIGHT_PATH, map_location=device))\n",
        "\n",
        "        ## optimizer\n",
        "        optimizer = AdamW(model.parameters(), lr=LEARNING_RATE) \n",
        "\n",
        "        ## scheduler\n",
        "        t_total = len(train_dataloader) * NUM_EPOCHS  ## The total number of training steps\n",
        "        warmup_step = t_total // 10  ## The number of steps for the warmup phase\n",
        "        scheduler = get_linear_schedule_with_warmup(optimizer, num_warmup_steps=warmup_step, num_training_steps=t_total)\n",
        "\n",
        "        ## early stop, 다음 폴드 학습을 위해 score 관련 파라미터 초기화\n",
        "        early_stopping.reset_score()\n",
        "        early_stopping.set_fold(fold + 1)  \n",
        "        \n",
        "        ## 폴드마다 모델 학습\n",
        "        for epoch in tqdm(range(1, NUM_EPOCHS+1)): ## (배치사이즈 X 에폭) 만큼 훈련시킴           \n",
        "            model, train_loss = train(model, train_dataloader, optimizer, loss_fn, scheduler, use_amp)  ## 모델 학습\n",
        "            valid_loss, valid_acc, valid_f1 = evaluate(model, valid_dataloader, loss_fn, use_amp)  ## 모델 평가\n",
        "            fold_train_losses_per_epoch[fold].append(train_loss) \n",
        "            fold_valid_losses_per_epoch[fold].append(valid_loss)  \n",
        "\n",
        "            print_score_condition = (epoch == 1 or epoch % 1 == 0 or epoch == NUM_EPOCHS)  \n",
        "            score_information = f'[Epoch: {epoch:>2}]  train loss = {train_loss:.5f}  valid loss = {valid_loss:.5f}  valid acc = {valid_acc:.5f}  valid f1 = {valid_f1:.5f}'\n",
        "\n",
        "            ## 평균 배치 훈련 오차와 검증 오차 출력\n",
        "            if print_score_condition:  \n",
        "                print(score_information)  \n",
        "                \n",
        "            ## 에폭마다 early stopping 실행\n",
        "            early_stopping(model, valid_loss, valid_f1)  ## __call__ function\n",
        "            if early_stopping.check_early_stop(): \n",
        "                if not print_score_condition:  ## 이미 출력한 에폭에 대해 중복으로 출력하지 않기 위함\n",
        "                    print(score_information) \n",
        "                print('Early Stopping!')\n",
        "                break \n",
        "\n",
        "        fold_valid_loss.append(early_stopping.valid_loss)  ## 폴드별 가장 작은 검증 손실\n",
        "        fold_valid_f1.append(early_stopping.valid_metric_score)  ## 폴드별 가장 작은 검증 손실일 때의 정확도\n",
        "         \n",
        "        ## 폴드별 학습 및 검증 종료시 가장 작은 검증 손실과 이때의 f1 score를 출력\n",
        "        print(f'{fold + 1} Fold -> Best Valid Loss: {early_stopping.valid_loss:.5f} Valid F1 score: {early_stopping.valid_metric_score:.5f}', end='\\n\\n')\n",
        "        \n",
        "    ## 폴드별 가장 손실이 작은 모델의 평균 검증 손실과 이때의 평균 정확도를 출력\n",
        "    print(f'{num_folds} Fold Mean Valid Best Loss: {np.mean(fold_valid_loss):.5f}')\n",
        "    print(f'{num_folds} Fold Mean Valid F1 score: {np.mean(fold_valid_f1):.5f}')\n",
        "    return model, fold_train_losses_per_epoch, fold_valid_losses_per_epoch"
      ],
      "metadata": {
        "id": "T73b5ykHqfhv"
      },
      "execution_count": null,
      "outputs": []
    },
    {
      "cell_type": "markdown",
      "metadata": {
        "id": "LyGMoqytkIDx"
      },
      "source": [
        "- 모델 선언 및 가중치 저장"
      ]
    },
    {
      "cell_type": "code",
      "source": [
        "model = AutoModelForSequenceClassification.from_pretrained(MODEL_PATHS[MODEL_NAME], num_labels=NUM_CLASSES)\n",
        "tokenizer = AutoTokenizer.from_pretrained(MODEL_PATHS[MODEL_NAME])  \n",
        "torch.save(model.state_dict(), MODEL_DEFAULT_WEIGHT_PATH) "
      ],
      "metadata": {
        "colab": {
          "base_uri": "https://localhost:8080/",
          "height": 256,
          "referenced_widgets": [
            "94c20026fec34218aa82ba2528d7ab31",
            "aa276bf5e3684f7a81aa0dcf863fe96b",
            "0ec154490283444faf209213dfe294c7",
            "f44d00800a694e4d9f56defd9ec3ddad",
            "fa3cbb47b3fe432fb813cd67ac8d440d",
            "660a73ec9349474db800368a9cf80596",
            "7ee6ce30a0ca41e9900f4cbb4d8e5251",
            "4d9571100b3c4dde842f40f3e6c70021",
            "5023bf327e9f4ac89f0b7b1a714f2252",
            "077e60f60c0246899d536885246b1fdb",
            "70f25205cdfc4af1a507c5e7df703b0e",
            "71111e6f4aaf4de1a1f6f3a8db25afea",
            "81cada886e4b4f6fbe4d8d12f77c5890",
            "ecca6f40ac654b10908936fe2147dc38",
            "cbf0930fa72246bd879372ebf74378f8",
            "99af1a6060984aaf873b54fde952ffd5",
            "7cfa034922da4412a16cfd7e7ffd448f",
            "64b0fc85584c45fd8a2a12c6c7694835",
            "15571f5e9c084517a683670948cbd8d7",
            "bc362136503c43ac898b3b56964124c7",
            "0cf5bc64919b4935b6249e7f5df61d23",
            "b42755f51fce4ad4b2cf963e6e0e28a1",
            "c36a72f0cdb84b0785bff6be56be5a38",
            "4c926f9b7d0849c2989e56377e4e2339",
            "383b61da84dc4e3b88118b306acff53b",
            "1f94050815e548dcb71c61f30e4a799f",
            "6fd99f80ef1e4978b5a3916316636fcd",
            "1cf4784b7a8e400389aa04e100cdb2fe",
            "ef5751f7c061459f934a2a4b8c0c3994",
            "03487c8a3adf4009b0e9d511e8832149",
            "d1969b4d24824e9098affc03b51cd1bb",
            "ec69c9391252477d81fa6b3d6e16de2d",
            "41bf2431bcd44f89ae957d56c0cc62b8",
            "43a0ec0317724f4992dacf9358de32f1",
            "103170de5fb441bab16aeca2be6528f2",
            "64c36280839343d3b84b41e643ad91d3",
            "6b7fba83fa3248739871d5d38c08ef24",
            "cad75b047607400ca948a07d9d1bcbe3",
            "edfcdbd594314b8992f90d0867c0210c",
            "8e74c0733051401590ce92cf05338c6d",
            "151e11cf46ec465899eff0f2e7d9db79",
            "897e89ab069c450db17ef4038930dfb3",
            "1d49fd3616124721b92099d9ff1d1b26",
            "1371e693d4014880bb50177ea83740af"
          ]
        },
        "id": "Bz9bELhQqoiP",
        "outputId": "ebc6939d-389c-4544-ef94-7799d0483efc"
      },
      "execution_count": null,
      "outputs": [
        {
          "output_type": "display_data",
          "data": {
            "text/plain": [
              "Downloading:   0%|          | 0.00/725 [00:00<?, ?B/s]"
            ],
            "application/vnd.jupyter.widget-view+json": {
              "version_major": 2,
              "version_minor": 0,
              "model_id": "94c20026fec34218aa82ba2528d7ab31"
            }
          },
          "metadata": {}
        },
        {
          "output_type": "display_data",
          "data": {
            "text/plain": [
              "Downloading:   0%|          | 0.00/476M [00:00<?, ?B/s]"
            ],
            "application/vnd.jupyter.widget-view+json": {
              "version_major": 2,
              "version_minor": 0,
              "model_id": "71111e6f4aaf4de1a1f6f3a8db25afea"
            }
          },
          "metadata": {}
        },
        {
          "output_type": "stream",
          "name": "stderr",
          "text": [
            "Some weights of the model checkpoint at kykim/bert-kor-base were not used when initializing BertForSequenceClassification: ['cls.predictions.transform.dense.bias', 'cls.predictions.transform.LayerNorm.weight', 'cls.predictions.decoder.bias', 'cls.seq_relationship.weight', 'cls.predictions.transform.LayerNorm.bias', 'cls.seq_relationship.bias', 'cls.predictions.bias', 'cls.predictions.decoder.weight', 'cls.predictions.transform.dense.weight']\n",
            "- This IS expected if you are initializing BertForSequenceClassification from the checkpoint of a model trained on another task or with another architecture (e.g. initializing a BertForSequenceClassification model from a BertForPreTraining model).\n",
            "- This IS NOT expected if you are initializing BertForSequenceClassification from the checkpoint of a model that you expect to be exactly identical (initializing a BertForSequenceClassification model from a BertForSequenceClassification model).\n",
            "Some weights of BertForSequenceClassification were not initialized from the model checkpoint at kykim/bert-kor-base and are newly initialized: ['classifier.bias', 'classifier.weight']\n",
            "You should probably TRAIN this model on a down-stream task to be able to use it for predictions and inference.\n"
          ]
        },
        {
          "output_type": "display_data",
          "data": {
            "text/plain": [
              "Downloading:   0%|          | 0.00/80.0 [00:00<?, ?B/s]"
            ],
            "application/vnd.jupyter.widget-view+json": {
              "version_major": 2,
              "version_minor": 0,
              "model_id": "c36a72f0cdb84b0785bff6be56be5a38"
            }
          },
          "metadata": {}
        },
        {
          "output_type": "display_data",
          "data": {
            "text/plain": [
              "Downloading:   0%|          | 0.00/344k [00:00<?, ?B/s]"
            ],
            "application/vnd.jupyter.widget-view+json": {
              "version_major": 2,
              "version_minor": 0,
              "model_id": "43a0ec0317724f4992dacf9358de32f1"
            }
          },
          "metadata": {}
        }
      ]
    },
    {
      "cell_type": "markdown",
      "metadata": {
        "id": "s0OMjmQ_t12g"
      },
      "source": [
        "- 모델 K겹 교차검증"
      ]
    },
    {
      "cell_type": "code",
      "source": [
        "model, fold_train_losses_per_epoch, fold_valid_losses_per_epoch = kfold_cross_validate(model, train_texts, target, tokenizer, skfold, loss_fn, early_stopping, use_amp=True)"
      ],
      "metadata": {
        "id": "8kan6bJLC0kT"
      },
      "execution_count": null,
      "outputs": []
    },
    {
      "cell_type": "markdown",
      "metadata": {
        "id": "dS896I7QumEp"
      },
      "source": [
        "- train loss와 valid loss의 변화를 시각화"
      ]
    },
    {
      "cell_type": "code",
      "execution_count": null,
      "metadata": {
        "id": "gcfLWSukuoQx"
      },
      "outputs": [],
      "source": [
        "def show_loss_plot(\n",
        "        fold_train_losses: List[List[float]],\n",
        "        fold_valid_losses: List[List[float]]\n",
        "    ) -> None:\n",
        "    \"\"\"폴드별로 에폭에 따른 모델의 훈련 손실과 검증 손실의 변화를 시각화\"\"\"\n",
        "    assert len(fold_train_losses) == len(fold_valid_losses)\n",
        "    num_folds = len(fold_train_losses)\n",
        "    ncols = 3\n",
        "    nrows = 1 + (num_folds - 1)//ncols\n",
        "    fig, axes = plt.subplots(nrows, ncols, figsize=(ncols*4, nrows*4)) \n",
        "\n",
        "    ## 폴드마다 에폭에 따른 훈련 손실과 검증 손실의 변화를 시각화\n",
        "    for fold, (ax, train_losses, valid_losses) in enumerate(zip(axes.flatten(), fold_train_losses, fold_valid_losses), start=1):\n",
        "        assert len(train_losses) == len(valid_losses) \n",
        "        if fold > num_folds:\n",
        "            break\n",
        "\n",
        "        num_epochs = len(train_losses)\n",
        "        ax.set_title(f'{fold} Fold')\n",
        "        ax.plot(range(1, num_epochs+1), train_losses, label='Train')\n",
        "        ax.plot(range(1, num_epochs+1), valid_losses, label='Valid')\n",
        "        ax.set_xlabel('Epoch')\n",
        "        ax.set_ylabel('Loss')\n",
        "        ax.legend()\n",
        "\n",
        "    fig.suptitle('Train Loss and Valid Loss', x=0.51, y=1.05, fontsize=15)\n",
        "    fig.tight_layout()\n",
        "\n",
        "    ## 남는 서브 플랏 제거\n",
        "    for ax in axes.flatten():\n",
        "        if not ax.has_data():\n",
        "            fig.delaxes(ax)"
      ]
    },
    {
      "cell_type": "code",
      "source": [
        "show_loss_plot(fold_train_losses_per_epoch, fold_valid_losses_per_epoch)"
      ],
      "metadata": {
        "id": "8sKhc5vLC2cV"
      },
      "execution_count": null,
      "outputs": []
    },
    {
      "cell_type": "markdown",
      "metadata": {
        "id": "2F1rlPmIPpvL"
      },
      "source": [
        "## Test 예측"
      ]
    },
    {
      "cell_type": "code",
      "source": [
        "test_texts = preprocessing(test['overview'].values, minor2major_dict, major2minor_dict)"
      ],
      "metadata": {
        "id": "gWSz0RR1BgI8"
      },
      "execution_count": null,
      "outputs": []
    },
    {
      "cell_type": "code",
      "execution_count": null,
      "metadata": {
        "id": "WLjeqtyqur_R"
      },
      "outputs": [],
      "source": [
        "def predict(\n",
        "        model: nn.Module, \n",
        "        dataloader: DataLoader, \n",
        "        weight_save_path: str, \n",
        "        return_prob: bool = False\n",
        "    ) -> Tensor:\n",
        "    \"\"\"저장된 모델의 가중치를 불러와서 dataloader의 데이터를 예측하여 반환\"\"\"\n",
        "    model.to(device) \n",
        "    weight_path_list = glob(weight_save_path + '/*.pt')\n",
        "    num_folds = len(weight_path_list)\n",
        "    test_probs = np.zeros(shape=(len(dataloader.dataset), NUM_CLASSES))  \n",
        "\n",
        "    for weight_path in tqdm(weight_path_list):\n",
        "        probs = None\n",
        "        model.load_state_dict(torch.load(weight_path, map_location=device))\n",
        "        model.eval()\n",
        "        \n",
        "        with torch.no_grad(): \n",
        "            for input_ids, attention_masks in dataloader:  ## test 데이터는 라벨(y)이 없다\n",
        "                input_ids = input_ids.to(device) \n",
        "                attention_masks = attention_masks.to(device) \n",
        "                y_hat = model(input_ids, attention_masks)[0].detach().cpu().numpy()\n",
        "\n",
        "                if probs is None:\n",
        "                    probs = y_hat\n",
        "                else:\n",
        "                    probs = np.concatenate([probs, y_hat])\n",
        "\n",
        "        test_probs += (probs / num_folds) \n",
        "    test_probs = torch.softmax(torch.from_numpy(test_probs), dim=-1)  ## 각 컬럼별 확률\n",
        "    _, test_preds = torch.max(test_probs, dim=-1)  ## 최댓값과 인덱스\n",
        "\n",
        "    if return_prob:\n",
        "        return test_probs  ## 각 컬럼별 확률\n",
        "    return test_preds  ## 라벨"
      ]
    },
    {
      "cell_type": "code",
      "execution_count": null,
      "metadata": {
        "id": "b-H5lyYIbDrF"
      },
      "outputs": [],
      "source": [
        "test_dataloader = get_text_dataloader(tokenizer=tokenizer, X=test_texts, y=None, max_len=MAX_LEN, transforms=None, shuffle_dataloader=False)"
      ]
    },
    {
      "cell_type": "code",
      "execution_count": null,
      "metadata": {
        "id": "Jc0avJNn8Y3X"
      },
      "outputs": [],
      "source": [
        "preds = predict(model, test_dataloader, SAVE_PATH, return_prob=False)"
      ]
    },
    {
      "cell_type": "code",
      "execution_count": null,
      "metadata": {
        "colab": {
          "base_uri": "https://localhost:8080/",
          "height": 206
        },
        "id": "PoepzDgQSJFc",
        "outputId": "ca2a61f3-cd9f-4616-ea2c-babab245506f"
      },
      "outputs": [
        {
          "output_type": "execute_result",
          "data": {
            "text/plain": [
              "           id  cat3\n",
              "0  TEST_00000    한식\n",
              "1  TEST_00001    한식\n",
              "2  TEST_00002    한식\n",
              "3  TEST_00003  수련시설\n",
              "4  TEST_00004    공원"
            ],
            "text/html": [
              "\n",
              "  <div id=\"df-eb9428cf-bc32-4c08-b866-7fc286374609\">\n",
              "    <div class=\"colab-df-container\">\n",
              "      <div>\n",
              "<style scoped>\n",
              "    .dataframe tbody tr th:only-of-type {\n",
              "        vertical-align: middle;\n",
              "    }\n",
              "\n",
              "    .dataframe tbody tr th {\n",
              "        vertical-align: top;\n",
              "    }\n",
              "\n",
              "    .dataframe thead th {\n",
              "        text-align: right;\n",
              "    }\n",
              "</style>\n",
              "<table border=\"1\" class=\"dataframe\">\n",
              "  <thead>\n",
              "    <tr style=\"text-align: right;\">\n",
              "      <th></th>\n",
              "      <th>id</th>\n",
              "      <th>cat3</th>\n",
              "    </tr>\n",
              "  </thead>\n",
              "  <tbody>\n",
              "    <tr>\n",
              "      <th>0</th>\n",
              "      <td>TEST_00000</td>\n",
              "      <td>한식</td>\n",
              "    </tr>\n",
              "    <tr>\n",
              "      <th>1</th>\n",
              "      <td>TEST_00001</td>\n",
              "      <td>한식</td>\n",
              "    </tr>\n",
              "    <tr>\n",
              "      <th>2</th>\n",
              "      <td>TEST_00002</td>\n",
              "      <td>한식</td>\n",
              "    </tr>\n",
              "    <tr>\n",
              "      <th>3</th>\n",
              "      <td>TEST_00003</td>\n",
              "      <td>수련시설</td>\n",
              "    </tr>\n",
              "    <tr>\n",
              "      <th>4</th>\n",
              "      <td>TEST_00004</td>\n",
              "      <td>공원</td>\n",
              "    </tr>\n",
              "  </tbody>\n",
              "</table>\n",
              "</div>\n",
              "      <button class=\"colab-df-convert\" onclick=\"convertToInteractive('df-eb9428cf-bc32-4c08-b866-7fc286374609')\"\n",
              "              title=\"Convert this dataframe to an interactive table.\"\n",
              "              style=\"display:none;\">\n",
              "        \n",
              "  <svg xmlns=\"http://www.w3.org/2000/svg\" height=\"24px\"viewBox=\"0 0 24 24\"\n",
              "       width=\"24px\">\n",
              "    <path d=\"M0 0h24v24H0V0z\" fill=\"none\"/>\n",
              "    <path d=\"M18.56 5.44l.94 2.06.94-2.06 2.06-.94-2.06-.94-.94-2.06-.94 2.06-2.06.94zm-11 1L8.5 8.5l.94-2.06 2.06-.94-2.06-.94L8.5 2.5l-.94 2.06-2.06.94zm10 10l.94 2.06.94-2.06 2.06-.94-2.06-.94-.94-2.06-.94 2.06-2.06.94z\"/><path d=\"M17.41 7.96l-1.37-1.37c-.4-.4-.92-.59-1.43-.59-.52 0-1.04.2-1.43.59L10.3 9.45l-7.72 7.72c-.78.78-.78 2.05 0 2.83L4 21.41c.39.39.9.59 1.41.59.51 0 1.02-.2 1.41-.59l7.78-7.78 2.81-2.81c.8-.78.8-2.07 0-2.86zM5.41 20L4 18.59l7.72-7.72 1.47 1.35L5.41 20z\"/>\n",
              "  </svg>\n",
              "      </button>\n",
              "      \n",
              "  <style>\n",
              "    .colab-df-container {\n",
              "      display:flex;\n",
              "      flex-wrap:wrap;\n",
              "      gap: 12px;\n",
              "    }\n",
              "\n",
              "    .colab-df-convert {\n",
              "      background-color: #E8F0FE;\n",
              "      border: none;\n",
              "      border-radius: 50%;\n",
              "      cursor: pointer;\n",
              "      display: none;\n",
              "      fill: #1967D2;\n",
              "      height: 32px;\n",
              "      padding: 0 0 0 0;\n",
              "      width: 32px;\n",
              "    }\n",
              "\n",
              "    .colab-df-convert:hover {\n",
              "      background-color: #E2EBFA;\n",
              "      box-shadow: 0px 1px 2px rgba(60, 64, 67, 0.3), 0px 1px 3px 1px rgba(60, 64, 67, 0.15);\n",
              "      fill: #174EA6;\n",
              "    }\n",
              "\n",
              "    [theme=dark] .colab-df-convert {\n",
              "      background-color: #3B4455;\n",
              "      fill: #D2E3FC;\n",
              "    }\n",
              "\n",
              "    [theme=dark] .colab-df-convert:hover {\n",
              "      background-color: #434B5C;\n",
              "      box-shadow: 0px 1px 3px 1px rgba(0, 0, 0, 0.15);\n",
              "      filter: drop-shadow(0px 1px 2px rgba(0, 0, 0, 0.3));\n",
              "      fill: #FFFFFF;\n",
              "    }\n",
              "  </style>\n",
              "\n",
              "      <script>\n",
              "        const buttonEl =\n",
              "          document.querySelector('#df-eb9428cf-bc32-4c08-b866-7fc286374609 button.colab-df-convert');\n",
              "        buttonEl.style.display =\n",
              "          google.colab.kernel.accessAllowed ? 'block' : 'none';\n",
              "\n",
              "        async function convertToInteractive(key) {\n",
              "          const element = document.querySelector('#df-eb9428cf-bc32-4c08-b866-7fc286374609');\n",
              "          const dataTable =\n",
              "            await google.colab.kernel.invokeFunction('convertToInteractive',\n",
              "                                                     [key], {});\n",
              "          if (!dataTable) return;\n",
              "\n",
              "          const docLinkHtml = 'Like what you see? Visit the ' +\n",
              "            '<a target=\"_blank\" href=https://colab.research.google.com/notebooks/data_table.ipynb>data table notebook</a>'\n",
              "            + ' to learn more about interactive tables.';\n",
              "          element.innerHTML = '';\n",
              "          dataTable['output_type'] = 'display_data';\n",
              "          await google.colab.output.renderOutput(dataTable, element);\n",
              "          const docLink = document.createElement('div');\n",
              "          docLink.innerHTML = docLinkHtml;\n",
              "          element.appendChild(docLink);\n",
              "        }\n",
              "      </script>\n",
              "    </div>\n",
              "  </div>\n",
              "  "
            ]
          },
          "metadata": {},
          "execution_count": 51
        }
      ],
      "source": [
        "submission['cat3'] = le.inverse_transform(preds)\n",
        "submission.head()"
      ]
    },
    {
      "cell_type": "code",
      "execution_count": null,
      "metadata": {
        "id": "nDlAjiwbSQ-M"
      },
      "outputs": [],
      "source": [
        "submission.to_csv(f'submission-{MODEL_NAME}-final.csv', index=False)"
      ]
    },
    {
      "cell_type": "code",
      "source": [],
      "metadata": {
        "id": "MPrew532MAP1"
      },
      "execution_count": null,
      "outputs": []
    }
  ],
  "metadata": {
    "colab": {
      "collapsed_sections": [],
      "provenance": [],
      "toc_visible": true,
      "include_colab_link": true
    },
    "gpuClass": "standard",
    "kernelspec": {
      "display_name": "Python 3 (ipykernel)",
      "language": "python",
      "name": "python3"
    },
    "language_info": {
      "codemirror_mode": {
        "name": "ipython",
        "version": 3
      },
      "file_extension": ".py",
      "mimetype": "text/x-python",
      "name": "python",
      "nbconvert_exporter": "python",
      "pygments_lexer": "ipython3",
      "version": "3.8.11"
    },
    "widgets": {
      "application/vnd.jupyter.widget-state+json": {
        "c034a9c46cb047389bc6acc890db12d6": {
          "model_module": "@jupyter-widgets/controls",
          "model_name": "HBoxModel",
          "model_module_version": "1.5.0",
          "state": {
            "_dom_classes": [],
            "_model_module": "@jupyter-widgets/controls",
            "_model_module_version": "1.5.0",
            "_model_name": "HBoxModel",
            "_view_count": null,
            "_view_module": "@jupyter-widgets/controls",
            "_view_module_version": "1.5.0",
            "_view_name": "HBoxView",
            "box_style": "",
            "children": [
              "IPY_MODEL_dba6412dc88d4e638663ac3495457550",
              "IPY_MODEL_1df3cf9a34ae47be9fa080f768997a74",
              "IPY_MODEL_86b7d523fb5e4b288b0e5cd4cf7b34dc"
            ],
            "layout": "IPY_MODEL_12bae567ed3e49d6b40136e07449b4b0"
          }
        },
        "dba6412dc88d4e638663ac3495457550": {
          "model_module": "@jupyter-widgets/controls",
          "model_name": "HTMLModel",
          "model_module_version": "1.5.0",
          "state": {
            "_dom_classes": [],
            "_model_module": "@jupyter-widgets/controls",
            "_model_module_version": "1.5.0",
            "_model_name": "HTMLModel",
            "_view_count": null,
            "_view_module": "@jupyter-widgets/controls",
            "_view_module_version": "1.5.0",
            "_view_name": "HTMLView",
            "description": "",
            "description_tooltip": null,
            "layout": "IPY_MODEL_3970203683ec4408911af2279e891d41",
            "placeholder": "​",
            "style": "IPY_MODEL_c7db4cfada1c4d2380da91ce0342d368",
            "value": "Downloading: 100%"
          }
        },
        "1df3cf9a34ae47be9fa080f768997a74": {
          "model_module": "@jupyter-widgets/controls",
          "model_name": "FloatProgressModel",
          "model_module_version": "1.5.0",
          "state": {
            "_dom_classes": [],
            "_model_module": "@jupyter-widgets/controls",
            "_model_module_version": "1.5.0",
            "_model_name": "FloatProgressModel",
            "_view_count": null,
            "_view_module": "@jupyter-widgets/controls",
            "_view_module_version": "1.5.0",
            "_view_name": "ProgressView",
            "bar_style": "success",
            "description": "",
            "description_tooltip": null,
            "layout": "IPY_MODEL_25ca35a9e9f3416ea4c5613f7ebd68ce",
            "max": 80,
            "min": 0,
            "orientation": "horizontal",
            "style": "IPY_MODEL_10110db5cc7b48acb5694bd215df5469",
            "value": 80
          }
        },
        "86b7d523fb5e4b288b0e5cd4cf7b34dc": {
          "model_module": "@jupyter-widgets/controls",
          "model_name": "HTMLModel",
          "model_module_version": "1.5.0",
          "state": {
            "_dom_classes": [],
            "_model_module": "@jupyter-widgets/controls",
            "_model_module_version": "1.5.0",
            "_model_name": "HTMLModel",
            "_view_count": null,
            "_view_module": "@jupyter-widgets/controls",
            "_view_module_version": "1.5.0",
            "_view_name": "HTMLView",
            "description": "",
            "description_tooltip": null,
            "layout": "IPY_MODEL_ff133e73c72840e594ac1dbd840568e8",
            "placeholder": "​",
            "style": "IPY_MODEL_4ff379b439c54c43820611d83594b50c",
            "value": " 80.0/80.0 [00:00&lt;00:00, 2.85kB/s]"
          }
        },
        "12bae567ed3e49d6b40136e07449b4b0": {
          "model_module": "@jupyter-widgets/base",
          "model_name": "LayoutModel",
          "model_module_version": "1.2.0",
          "state": {
            "_model_module": "@jupyter-widgets/base",
            "_model_module_version": "1.2.0",
            "_model_name": "LayoutModel",
            "_view_count": null,
            "_view_module": "@jupyter-widgets/base",
            "_view_module_version": "1.2.0",
            "_view_name": "LayoutView",
            "align_content": null,
            "align_items": null,
            "align_self": null,
            "border": null,
            "bottom": null,
            "display": null,
            "flex": null,
            "flex_flow": null,
            "grid_area": null,
            "grid_auto_columns": null,
            "grid_auto_flow": null,
            "grid_auto_rows": null,
            "grid_column": null,
            "grid_gap": null,
            "grid_row": null,
            "grid_template_areas": null,
            "grid_template_columns": null,
            "grid_template_rows": null,
            "height": null,
            "justify_content": null,
            "justify_items": null,
            "left": null,
            "margin": null,
            "max_height": null,
            "max_width": null,
            "min_height": null,
            "min_width": null,
            "object_fit": null,
            "object_position": null,
            "order": null,
            "overflow": null,
            "overflow_x": null,
            "overflow_y": null,
            "padding": null,
            "right": null,
            "top": null,
            "visibility": null,
            "width": null
          }
        },
        "3970203683ec4408911af2279e891d41": {
          "model_module": "@jupyter-widgets/base",
          "model_name": "LayoutModel",
          "model_module_version": "1.2.0",
          "state": {
            "_model_module": "@jupyter-widgets/base",
            "_model_module_version": "1.2.0",
            "_model_name": "LayoutModel",
            "_view_count": null,
            "_view_module": "@jupyter-widgets/base",
            "_view_module_version": "1.2.0",
            "_view_name": "LayoutView",
            "align_content": null,
            "align_items": null,
            "align_self": null,
            "border": null,
            "bottom": null,
            "display": null,
            "flex": null,
            "flex_flow": null,
            "grid_area": null,
            "grid_auto_columns": null,
            "grid_auto_flow": null,
            "grid_auto_rows": null,
            "grid_column": null,
            "grid_gap": null,
            "grid_row": null,
            "grid_template_areas": null,
            "grid_template_columns": null,
            "grid_template_rows": null,
            "height": null,
            "justify_content": null,
            "justify_items": null,
            "left": null,
            "margin": null,
            "max_height": null,
            "max_width": null,
            "min_height": null,
            "min_width": null,
            "object_fit": null,
            "object_position": null,
            "order": null,
            "overflow": null,
            "overflow_x": null,
            "overflow_y": null,
            "padding": null,
            "right": null,
            "top": null,
            "visibility": null,
            "width": null
          }
        },
        "c7db4cfada1c4d2380da91ce0342d368": {
          "model_module": "@jupyter-widgets/controls",
          "model_name": "DescriptionStyleModel",
          "model_module_version": "1.5.0",
          "state": {
            "_model_module": "@jupyter-widgets/controls",
            "_model_module_version": "1.5.0",
            "_model_name": "DescriptionStyleModel",
            "_view_count": null,
            "_view_module": "@jupyter-widgets/base",
            "_view_module_version": "1.2.0",
            "_view_name": "StyleView",
            "description_width": ""
          }
        },
        "25ca35a9e9f3416ea4c5613f7ebd68ce": {
          "model_module": "@jupyter-widgets/base",
          "model_name": "LayoutModel",
          "model_module_version": "1.2.0",
          "state": {
            "_model_module": "@jupyter-widgets/base",
            "_model_module_version": "1.2.0",
            "_model_name": "LayoutModel",
            "_view_count": null,
            "_view_module": "@jupyter-widgets/base",
            "_view_module_version": "1.2.0",
            "_view_name": "LayoutView",
            "align_content": null,
            "align_items": null,
            "align_self": null,
            "border": null,
            "bottom": null,
            "display": null,
            "flex": null,
            "flex_flow": null,
            "grid_area": null,
            "grid_auto_columns": null,
            "grid_auto_flow": null,
            "grid_auto_rows": null,
            "grid_column": null,
            "grid_gap": null,
            "grid_row": null,
            "grid_template_areas": null,
            "grid_template_columns": null,
            "grid_template_rows": null,
            "height": null,
            "justify_content": null,
            "justify_items": null,
            "left": null,
            "margin": null,
            "max_height": null,
            "max_width": null,
            "min_height": null,
            "min_width": null,
            "object_fit": null,
            "object_position": null,
            "order": null,
            "overflow": null,
            "overflow_x": null,
            "overflow_y": null,
            "padding": null,
            "right": null,
            "top": null,
            "visibility": null,
            "width": null
          }
        },
        "10110db5cc7b48acb5694bd215df5469": {
          "model_module": "@jupyter-widgets/controls",
          "model_name": "ProgressStyleModel",
          "model_module_version": "1.5.0",
          "state": {
            "_model_module": "@jupyter-widgets/controls",
            "_model_module_version": "1.5.0",
            "_model_name": "ProgressStyleModel",
            "_view_count": null,
            "_view_module": "@jupyter-widgets/base",
            "_view_module_version": "1.2.0",
            "_view_name": "StyleView",
            "bar_color": null,
            "description_width": ""
          }
        },
        "ff133e73c72840e594ac1dbd840568e8": {
          "model_module": "@jupyter-widgets/base",
          "model_name": "LayoutModel",
          "model_module_version": "1.2.0",
          "state": {
            "_model_module": "@jupyter-widgets/base",
            "_model_module_version": "1.2.0",
            "_model_name": "LayoutModel",
            "_view_count": null,
            "_view_module": "@jupyter-widgets/base",
            "_view_module_version": "1.2.0",
            "_view_name": "LayoutView",
            "align_content": null,
            "align_items": null,
            "align_self": null,
            "border": null,
            "bottom": null,
            "display": null,
            "flex": null,
            "flex_flow": null,
            "grid_area": null,
            "grid_auto_columns": null,
            "grid_auto_flow": null,
            "grid_auto_rows": null,
            "grid_column": null,
            "grid_gap": null,
            "grid_row": null,
            "grid_template_areas": null,
            "grid_template_columns": null,
            "grid_template_rows": null,
            "height": null,
            "justify_content": null,
            "justify_items": null,
            "left": null,
            "margin": null,
            "max_height": null,
            "max_width": null,
            "min_height": null,
            "min_width": null,
            "object_fit": null,
            "object_position": null,
            "order": null,
            "overflow": null,
            "overflow_x": null,
            "overflow_y": null,
            "padding": null,
            "right": null,
            "top": null,
            "visibility": null,
            "width": null
          }
        },
        "4ff379b439c54c43820611d83594b50c": {
          "model_module": "@jupyter-widgets/controls",
          "model_name": "DescriptionStyleModel",
          "model_module_version": "1.5.0",
          "state": {
            "_model_module": "@jupyter-widgets/controls",
            "_model_module_version": "1.5.0",
            "_model_name": "DescriptionStyleModel",
            "_view_count": null,
            "_view_module": "@jupyter-widgets/base",
            "_view_module_version": "1.2.0",
            "_view_name": "StyleView",
            "description_width": ""
          }
        },
        "0ccc8f7bdf4c4b3892e04ce90bf87007": {
          "model_module": "@jupyter-widgets/controls",
          "model_name": "HBoxModel",
          "model_module_version": "1.5.0",
          "state": {
            "_dom_classes": [],
            "_model_module": "@jupyter-widgets/controls",
            "_model_module_version": "1.5.0",
            "_model_name": "HBoxModel",
            "_view_count": null,
            "_view_module": "@jupyter-widgets/controls",
            "_view_module_version": "1.5.0",
            "_view_name": "HBoxView",
            "box_style": "",
            "children": [
              "IPY_MODEL_e1ee789d15744f628e77877c32672233",
              "IPY_MODEL_70c91835c60b40d19a5cf429e8ea7984",
              "IPY_MODEL_925202f0a50f417e897e6cd743aec722"
            ],
            "layout": "IPY_MODEL_6176d188244341f0ac0a442c9601b097"
          }
        },
        "e1ee789d15744f628e77877c32672233": {
          "model_module": "@jupyter-widgets/controls",
          "model_name": "HTMLModel",
          "model_module_version": "1.5.0",
          "state": {
            "_dom_classes": [],
            "_model_module": "@jupyter-widgets/controls",
            "_model_module_version": "1.5.0",
            "_model_name": "HTMLModel",
            "_view_count": null,
            "_view_module": "@jupyter-widgets/controls",
            "_view_module_version": "1.5.0",
            "_view_name": "HTMLView",
            "description": "",
            "description_tooltip": null,
            "layout": "IPY_MODEL_91a5348137f6470190f9981c9e11588b",
            "placeholder": "​",
            "style": "IPY_MODEL_7803180de0754d42a852bde40d4dab41",
            "value": "Downloading: 100%"
          }
        },
        "70c91835c60b40d19a5cf429e8ea7984": {
          "model_module": "@jupyter-widgets/controls",
          "model_name": "FloatProgressModel",
          "model_module_version": "1.5.0",
          "state": {
            "_dom_classes": [],
            "_model_module": "@jupyter-widgets/controls",
            "_model_module_version": "1.5.0",
            "_model_name": "FloatProgressModel",
            "_view_count": null,
            "_view_module": "@jupyter-widgets/controls",
            "_view_module_version": "1.5.0",
            "_view_name": "ProgressView",
            "bar_style": "success",
            "description": "",
            "description_tooltip": null,
            "layout": "IPY_MODEL_d34e5840c6bb4523ad3ba678b2172d61",
            "max": 725,
            "min": 0,
            "orientation": "horizontal",
            "style": "IPY_MODEL_337b61b7aa84436bb01269013e3bdc2b",
            "value": 725
          }
        },
        "925202f0a50f417e897e6cd743aec722": {
          "model_module": "@jupyter-widgets/controls",
          "model_name": "HTMLModel",
          "model_module_version": "1.5.0",
          "state": {
            "_dom_classes": [],
            "_model_module": "@jupyter-widgets/controls",
            "_model_module_version": "1.5.0",
            "_model_name": "HTMLModel",
            "_view_count": null,
            "_view_module": "@jupyter-widgets/controls",
            "_view_module_version": "1.5.0",
            "_view_name": "HTMLView",
            "description": "",
            "description_tooltip": null,
            "layout": "IPY_MODEL_8a32938de27d488391592257f5554cd5",
            "placeholder": "​",
            "style": "IPY_MODEL_a12dffb7cd1b4143b3ee24b157910764",
            "value": " 725/725 [00:00&lt;00:00, 26.3kB/s]"
          }
        },
        "6176d188244341f0ac0a442c9601b097": {
          "model_module": "@jupyter-widgets/base",
          "model_name": "LayoutModel",
          "model_module_version": "1.2.0",
          "state": {
            "_model_module": "@jupyter-widgets/base",
            "_model_module_version": "1.2.0",
            "_model_name": "LayoutModel",
            "_view_count": null,
            "_view_module": "@jupyter-widgets/base",
            "_view_module_version": "1.2.0",
            "_view_name": "LayoutView",
            "align_content": null,
            "align_items": null,
            "align_self": null,
            "border": null,
            "bottom": null,
            "display": null,
            "flex": null,
            "flex_flow": null,
            "grid_area": null,
            "grid_auto_columns": null,
            "grid_auto_flow": null,
            "grid_auto_rows": null,
            "grid_column": null,
            "grid_gap": null,
            "grid_row": null,
            "grid_template_areas": null,
            "grid_template_columns": null,
            "grid_template_rows": null,
            "height": null,
            "justify_content": null,
            "justify_items": null,
            "left": null,
            "margin": null,
            "max_height": null,
            "max_width": null,
            "min_height": null,
            "min_width": null,
            "object_fit": null,
            "object_position": null,
            "order": null,
            "overflow": null,
            "overflow_x": null,
            "overflow_y": null,
            "padding": null,
            "right": null,
            "top": null,
            "visibility": null,
            "width": null
          }
        },
        "91a5348137f6470190f9981c9e11588b": {
          "model_module": "@jupyter-widgets/base",
          "model_name": "LayoutModel",
          "model_module_version": "1.2.0",
          "state": {
            "_model_module": "@jupyter-widgets/base",
            "_model_module_version": "1.2.0",
            "_model_name": "LayoutModel",
            "_view_count": null,
            "_view_module": "@jupyter-widgets/base",
            "_view_module_version": "1.2.0",
            "_view_name": "LayoutView",
            "align_content": null,
            "align_items": null,
            "align_self": null,
            "border": null,
            "bottom": null,
            "display": null,
            "flex": null,
            "flex_flow": null,
            "grid_area": null,
            "grid_auto_columns": null,
            "grid_auto_flow": null,
            "grid_auto_rows": null,
            "grid_column": null,
            "grid_gap": null,
            "grid_row": null,
            "grid_template_areas": null,
            "grid_template_columns": null,
            "grid_template_rows": null,
            "height": null,
            "justify_content": null,
            "justify_items": null,
            "left": null,
            "margin": null,
            "max_height": null,
            "max_width": null,
            "min_height": null,
            "min_width": null,
            "object_fit": null,
            "object_position": null,
            "order": null,
            "overflow": null,
            "overflow_x": null,
            "overflow_y": null,
            "padding": null,
            "right": null,
            "top": null,
            "visibility": null,
            "width": null
          }
        },
        "7803180de0754d42a852bde40d4dab41": {
          "model_module": "@jupyter-widgets/controls",
          "model_name": "DescriptionStyleModel",
          "model_module_version": "1.5.0",
          "state": {
            "_model_module": "@jupyter-widgets/controls",
            "_model_module_version": "1.5.0",
            "_model_name": "DescriptionStyleModel",
            "_view_count": null,
            "_view_module": "@jupyter-widgets/base",
            "_view_module_version": "1.2.0",
            "_view_name": "StyleView",
            "description_width": ""
          }
        },
        "d34e5840c6bb4523ad3ba678b2172d61": {
          "model_module": "@jupyter-widgets/base",
          "model_name": "LayoutModel",
          "model_module_version": "1.2.0",
          "state": {
            "_model_module": "@jupyter-widgets/base",
            "_model_module_version": "1.2.0",
            "_model_name": "LayoutModel",
            "_view_count": null,
            "_view_module": "@jupyter-widgets/base",
            "_view_module_version": "1.2.0",
            "_view_name": "LayoutView",
            "align_content": null,
            "align_items": null,
            "align_self": null,
            "border": null,
            "bottom": null,
            "display": null,
            "flex": null,
            "flex_flow": null,
            "grid_area": null,
            "grid_auto_columns": null,
            "grid_auto_flow": null,
            "grid_auto_rows": null,
            "grid_column": null,
            "grid_gap": null,
            "grid_row": null,
            "grid_template_areas": null,
            "grid_template_columns": null,
            "grid_template_rows": null,
            "height": null,
            "justify_content": null,
            "justify_items": null,
            "left": null,
            "margin": null,
            "max_height": null,
            "max_width": null,
            "min_height": null,
            "min_width": null,
            "object_fit": null,
            "object_position": null,
            "order": null,
            "overflow": null,
            "overflow_x": null,
            "overflow_y": null,
            "padding": null,
            "right": null,
            "top": null,
            "visibility": null,
            "width": null
          }
        },
        "337b61b7aa84436bb01269013e3bdc2b": {
          "model_module": "@jupyter-widgets/controls",
          "model_name": "ProgressStyleModel",
          "model_module_version": "1.5.0",
          "state": {
            "_model_module": "@jupyter-widgets/controls",
            "_model_module_version": "1.5.0",
            "_model_name": "ProgressStyleModel",
            "_view_count": null,
            "_view_module": "@jupyter-widgets/base",
            "_view_module_version": "1.2.0",
            "_view_name": "StyleView",
            "bar_color": null,
            "description_width": ""
          }
        },
        "8a32938de27d488391592257f5554cd5": {
          "model_module": "@jupyter-widgets/base",
          "model_name": "LayoutModel",
          "model_module_version": "1.2.0",
          "state": {
            "_model_module": "@jupyter-widgets/base",
            "_model_module_version": "1.2.0",
            "_model_name": "LayoutModel",
            "_view_count": null,
            "_view_module": "@jupyter-widgets/base",
            "_view_module_version": "1.2.0",
            "_view_name": "LayoutView",
            "align_content": null,
            "align_items": null,
            "align_self": null,
            "border": null,
            "bottom": null,
            "display": null,
            "flex": null,
            "flex_flow": null,
            "grid_area": null,
            "grid_auto_columns": null,
            "grid_auto_flow": null,
            "grid_auto_rows": null,
            "grid_column": null,
            "grid_gap": null,
            "grid_row": null,
            "grid_template_areas": null,
            "grid_template_columns": null,
            "grid_template_rows": null,
            "height": null,
            "justify_content": null,
            "justify_items": null,
            "left": null,
            "margin": null,
            "max_height": null,
            "max_width": null,
            "min_height": null,
            "min_width": null,
            "object_fit": null,
            "object_position": null,
            "order": null,
            "overflow": null,
            "overflow_x": null,
            "overflow_y": null,
            "padding": null,
            "right": null,
            "top": null,
            "visibility": null,
            "width": null
          }
        },
        "a12dffb7cd1b4143b3ee24b157910764": {
          "model_module": "@jupyter-widgets/controls",
          "model_name": "DescriptionStyleModel",
          "model_module_version": "1.5.0",
          "state": {
            "_model_module": "@jupyter-widgets/controls",
            "_model_module_version": "1.5.0",
            "_model_name": "DescriptionStyleModel",
            "_view_count": null,
            "_view_module": "@jupyter-widgets/base",
            "_view_module_version": "1.2.0",
            "_view_name": "StyleView",
            "description_width": ""
          }
        },
        "482751de3b31443bb5bfef56d8f31207": {
          "model_module": "@jupyter-widgets/controls",
          "model_name": "HBoxModel",
          "model_module_version": "1.5.0",
          "state": {
            "_dom_classes": [],
            "_model_module": "@jupyter-widgets/controls",
            "_model_module_version": "1.5.0",
            "_model_name": "HBoxModel",
            "_view_count": null,
            "_view_module": "@jupyter-widgets/controls",
            "_view_module_version": "1.5.0",
            "_view_name": "HBoxView",
            "box_style": "",
            "children": [
              "IPY_MODEL_9413668019f0450dbd0b4cb69794d184",
              "IPY_MODEL_ff1842dc47e444a58d58d6f42215ea80",
              "IPY_MODEL_642c3408855d42fe90ac2b2eed33a468"
            ],
            "layout": "IPY_MODEL_1a58ba90278e4a1ea3b916b215a7fee2"
          }
        },
        "9413668019f0450dbd0b4cb69794d184": {
          "model_module": "@jupyter-widgets/controls",
          "model_name": "HTMLModel",
          "model_module_version": "1.5.0",
          "state": {
            "_dom_classes": [],
            "_model_module": "@jupyter-widgets/controls",
            "_model_module_version": "1.5.0",
            "_model_name": "HTMLModel",
            "_view_count": null,
            "_view_module": "@jupyter-widgets/controls",
            "_view_module_version": "1.5.0",
            "_view_name": "HTMLView",
            "description": "",
            "description_tooltip": null,
            "layout": "IPY_MODEL_47a97a8fc1c246cc8ebb1684cf211a59",
            "placeholder": "​",
            "style": "IPY_MODEL_be1c12f475a3423491f65f2cedf4f907",
            "value": "Downloading: 100%"
          }
        },
        "ff1842dc47e444a58d58d6f42215ea80": {
          "model_module": "@jupyter-widgets/controls",
          "model_name": "FloatProgressModel",
          "model_module_version": "1.5.0",
          "state": {
            "_dom_classes": [],
            "_model_module": "@jupyter-widgets/controls",
            "_model_module_version": "1.5.0",
            "_model_name": "FloatProgressModel",
            "_view_count": null,
            "_view_module": "@jupyter-widgets/controls",
            "_view_module_version": "1.5.0",
            "_view_name": "ProgressView",
            "bar_style": "success",
            "description": "",
            "description_tooltip": null,
            "layout": "IPY_MODEL_2bcbf322fe114e6dbade00a67c9d19fc",
            "max": 344259,
            "min": 0,
            "orientation": "horizontal",
            "style": "IPY_MODEL_2c1c518359b749e58e97a79f66c30039",
            "value": 344259
          }
        },
        "642c3408855d42fe90ac2b2eed33a468": {
          "model_module": "@jupyter-widgets/controls",
          "model_name": "HTMLModel",
          "model_module_version": "1.5.0",
          "state": {
            "_dom_classes": [],
            "_model_module": "@jupyter-widgets/controls",
            "_model_module_version": "1.5.0",
            "_model_name": "HTMLModel",
            "_view_count": null,
            "_view_module": "@jupyter-widgets/controls",
            "_view_module_version": "1.5.0",
            "_view_name": "HTMLView",
            "description": "",
            "description_tooltip": null,
            "layout": "IPY_MODEL_b327238be98048439357f1de0a8d4203",
            "placeholder": "​",
            "style": "IPY_MODEL_66edd8cf19c94372ae5a71090b20603d",
            "value": " 344k/344k [00:00&lt;00:00, 7.19MB/s]"
          }
        },
        "1a58ba90278e4a1ea3b916b215a7fee2": {
          "model_module": "@jupyter-widgets/base",
          "model_name": "LayoutModel",
          "model_module_version": "1.2.0",
          "state": {
            "_model_module": "@jupyter-widgets/base",
            "_model_module_version": "1.2.0",
            "_model_name": "LayoutModel",
            "_view_count": null,
            "_view_module": "@jupyter-widgets/base",
            "_view_module_version": "1.2.0",
            "_view_name": "LayoutView",
            "align_content": null,
            "align_items": null,
            "align_self": null,
            "border": null,
            "bottom": null,
            "display": null,
            "flex": null,
            "flex_flow": null,
            "grid_area": null,
            "grid_auto_columns": null,
            "grid_auto_flow": null,
            "grid_auto_rows": null,
            "grid_column": null,
            "grid_gap": null,
            "grid_row": null,
            "grid_template_areas": null,
            "grid_template_columns": null,
            "grid_template_rows": null,
            "height": null,
            "justify_content": null,
            "justify_items": null,
            "left": null,
            "margin": null,
            "max_height": null,
            "max_width": null,
            "min_height": null,
            "min_width": null,
            "object_fit": null,
            "object_position": null,
            "order": null,
            "overflow": null,
            "overflow_x": null,
            "overflow_y": null,
            "padding": null,
            "right": null,
            "top": null,
            "visibility": null,
            "width": null
          }
        },
        "47a97a8fc1c246cc8ebb1684cf211a59": {
          "model_module": "@jupyter-widgets/base",
          "model_name": "LayoutModel",
          "model_module_version": "1.2.0",
          "state": {
            "_model_module": "@jupyter-widgets/base",
            "_model_module_version": "1.2.0",
            "_model_name": "LayoutModel",
            "_view_count": null,
            "_view_module": "@jupyter-widgets/base",
            "_view_module_version": "1.2.0",
            "_view_name": "LayoutView",
            "align_content": null,
            "align_items": null,
            "align_self": null,
            "border": null,
            "bottom": null,
            "display": null,
            "flex": null,
            "flex_flow": null,
            "grid_area": null,
            "grid_auto_columns": null,
            "grid_auto_flow": null,
            "grid_auto_rows": null,
            "grid_column": null,
            "grid_gap": null,
            "grid_row": null,
            "grid_template_areas": null,
            "grid_template_columns": null,
            "grid_template_rows": null,
            "height": null,
            "justify_content": null,
            "justify_items": null,
            "left": null,
            "margin": null,
            "max_height": null,
            "max_width": null,
            "min_height": null,
            "min_width": null,
            "object_fit": null,
            "object_position": null,
            "order": null,
            "overflow": null,
            "overflow_x": null,
            "overflow_y": null,
            "padding": null,
            "right": null,
            "top": null,
            "visibility": null,
            "width": null
          }
        },
        "be1c12f475a3423491f65f2cedf4f907": {
          "model_module": "@jupyter-widgets/controls",
          "model_name": "DescriptionStyleModel",
          "model_module_version": "1.5.0",
          "state": {
            "_model_module": "@jupyter-widgets/controls",
            "_model_module_version": "1.5.0",
            "_model_name": "DescriptionStyleModel",
            "_view_count": null,
            "_view_module": "@jupyter-widgets/base",
            "_view_module_version": "1.2.0",
            "_view_name": "StyleView",
            "description_width": ""
          }
        },
        "2bcbf322fe114e6dbade00a67c9d19fc": {
          "model_module": "@jupyter-widgets/base",
          "model_name": "LayoutModel",
          "model_module_version": "1.2.0",
          "state": {
            "_model_module": "@jupyter-widgets/base",
            "_model_module_version": "1.2.0",
            "_model_name": "LayoutModel",
            "_view_count": null,
            "_view_module": "@jupyter-widgets/base",
            "_view_module_version": "1.2.0",
            "_view_name": "LayoutView",
            "align_content": null,
            "align_items": null,
            "align_self": null,
            "border": null,
            "bottom": null,
            "display": null,
            "flex": null,
            "flex_flow": null,
            "grid_area": null,
            "grid_auto_columns": null,
            "grid_auto_flow": null,
            "grid_auto_rows": null,
            "grid_column": null,
            "grid_gap": null,
            "grid_row": null,
            "grid_template_areas": null,
            "grid_template_columns": null,
            "grid_template_rows": null,
            "height": null,
            "justify_content": null,
            "justify_items": null,
            "left": null,
            "margin": null,
            "max_height": null,
            "max_width": null,
            "min_height": null,
            "min_width": null,
            "object_fit": null,
            "object_position": null,
            "order": null,
            "overflow": null,
            "overflow_x": null,
            "overflow_y": null,
            "padding": null,
            "right": null,
            "top": null,
            "visibility": null,
            "width": null
          }
        },
        "2c1c518359b749e58e97a79f66c30039": {
          "model_module": "@jupyter-widgets/controls",
          "model_name": "ProgressStyleModel",
          "model_module_version": "1.5.0",
          "state": {
            "_model_module": "@jupyter-widgets/controls",
            "_model_module_version": "1.5.0",
            "_model_name": "ProgressStyleModel",
            "_view_count": null,
            "_view_module": "@jupyter-widgets/base",
            "_view_module_version": "1.2.0",
            "_view_name": "StyleView",
            "bar_color": null,
            "description_width": ""
          }
        },
        "b327238be98048439357f1de0a8d4203": {
          "model_module": "@jupyter-widgets/base",
          "model_name": "LayoutModel",
          "model_module_version": "1.2.0",
          "state": {
            "_model_module": "@jupyter-widgets/base",
            "_model_module_version": "1.2.0",
            "_model_name": "LayoutModel",
            "_view_count": null,
            "_view_module": "@jupyter-widgets/base",
            "_view_module_version": "1.2.0",
            "_view_name": "LayoutView",
            "align_content": null,
            "align_items": null,
            "align_self": null,
            "border": null,
            "bottom": null,
            "display": null,
            "flex": null,
            "flex_flow": null,
            "grid_area": null,
            "grid_auto_columns": null,
            "grid_auto_flow": null,
            "grid_auto_rows": null,
            "grid_column": null,
            "grid_gap": null,
            "grid_row": null,
            "grid_template_areas": null,
            "grid_template_columns": null,
            "grid_template_rows": null,
            "height": null,
            "justify_content": null,
            "justify_items": null,
            "left": null,
            "margin": null,
            "max_height": null,
            "max_width": null,
            "min_height": null,
            "min_width": null,
            "object_fit": null,
            "object_position": null,
            "order": null,
            "overflow": null,
            "overflow_x": null,
            "overflow_y": null,
            "padding": null,
            "right": null,
            "top": null,
            "visibility": null,
            "width": null
          }
        },
        "66edd8cf19c94372ae5a71090b20603d": {
          "model_module": "@jupyter-widgets/controls",
          "model_name": "DescriptionStyleModel",
          "model_module_version": "1.5.0",
          "state": {
            "_model_module": "@jupyter-widgets/controls",
            "_model_module_version": "1.5.0",
            "_model_name": "DescriptionStyleModel",
            "_view_count": null,
            "_view_module": "@jupyter-widgets/base",
            "_view_module_version": "1.2.0",
            "_view_name": "StyleView",
            "description_width": ""
          }
        },
        "c59043e7d73b4bc4875d96a2bed0bd33": {
          "model_module": "@jupyter-widgets/controls",
          "model_name": "HBoxModel",
          "model_module_version": "1.5.0",
          "state": {
            "_dom_classes": [],
            "_model_module": "@jupyter-widgets/controls",
            "_model_module_version": "1.5.0",
            "_model_name": "HBoxModel",
            "_view_count": null,
            "_view_module": "@jupyter-widgets/controls",
            "_view_module_version": "1.5.0",
            "_view_name": "HBoxView",
            "box_style": "",
            "children": [
              "IPY_MODEL_c35342c51aee49439a8aa02bfd27c3e3",
              "IPY_MODEL_e504695b9f03442fb1c4cacb48956892",
              "IPY_MODEL_81f7b3632bfa4f62adfb30658286130a"
            ],
            "layout": "IPY_MODEL_2a5fe151b4954ba3810328a368af6a1d"
          }
        },
        "c35342c51aee49439a8aa02bfd27c3e3": {
          "model_module": "@jupyter-widgets/controls",
          "model_name": "HTMLModel",
          "model_module_version": "1.5.0",
          "state": {
            "_dom_classes": [],
            "_model_module": "@jupyter-widgets/controls",
            "_model_module_version": "1.5.0",
            "_model_name": "HTMLModel",
            "_view_count": null,
            "_view_module": "@jupyter-widgets/controls",
            "_view_module_version": "1.5.0",
            "_view_name": "HTMLView",
            "description": "",
            "description_tooltip": null,
            "layout": "IPY_MODEL_63d66fe09b8240c1984d90443c0acc3b",
            "placeholder": "​",
            "style": "IPY_MODEL_a74f2a37686d49558072b5a3f6094b41",
            "value": "100%"
          }
        },
        "e504695b9f03442fb1c4cacb48956892": {
          "model_module": "@jupyter-widgets/controls",
          "model_name": "FloatProgressModel",
          "model_module_version": "1.5.0",
          "state": {
            "_dom_classes": [],
            "_model_module": "@jupyter-widgets/controls",
            "_model_module_version": "1.5.0",
            "_model_name": "FloatProgressModel",
            "_view_count": null,
            "_view_module": "@jupyter-widgets/controls",
            "_view_module_version": "1.5.0",
            "_view_name": "ProgressView",
            "bar_style": "success",
            "description": "",
            "description_tooltip": null,
            "layout": "IPY_MODEL_0aabe352a2974790a31781427206f382",
            "max": 16986,
            "min": 0,
            "orientation": "horizontal",
            "style": "IPY_MODEL_4ba786b63ffb450eb9a3ccd87e8eec6b",
            "value": 16986
          }
        },
        "81f7b3632bfa4f62adfb30658286130a": {
          "model_module": "@jupyter-widgets/controls",
          "model_name": "HTMLModel",
          "model_module_version": "1.5.0",
          "state": {
            "_dom_classes": [],
            "_model_module": "@jupyter-widgets/controls",
            "_model_module_version": "1.5.0",
            "_model_name": "HTMLModel",
            "_view_count": null,
            "_view_module": "@jupyter-widgets/controls",
            "_view_module_version": "1.5.0",
            "_view_name": "HTMLView",
            "description": "",
            "description_tooltip": null,
            "layout": "IPY_MODEL_b2e846545b3d49f7916c2eaf2be3d1f8",
            "placeholder": "​",
            "style": "IPY_MODEL_bfaafb85fab943d2a9562e6c35aefdb5",
            "value": " 16986/16986 [00:13&lt;00:00, 1307.28it/s]"
          }
        },
        "2a5fe151b4954ba3810328a368af6a1d": {
          "model_module": "@jupyter-widgets/base",
          "model_name": "LayoutModel",
          "model_module_version": "1.2.0",
          "state": {
            "_model_module": "@jupyter-widgets/base",
            "_model_module_version": "1.2.0",
            "_model_name": "LayoutModel",
            "_view_count": null,
            "_view_module": "@jupyter-widgets/base",
            "_view_module_version": "1.2.0",
            "_view_name": "LayoutView",
            "align_content": null,
            "align_items": null,
            "align_self": null,
            "border": null,
            "bottom": null,
            "display": null,
            "flex": null,
            "flex_flow": null,
            "grid_area": null,
            "grid_auto_columns": null,
            "grid_auto_flow": null,
            "grid_auto_rows": null,
            "grid_column": null,
            "grid_gap": null,
            "grid_row": null,
            "grid_template_areas": null,
            "grid_template_columns": null,
            "grid_template_rows": null,
            "height": null,
            "justify_content": null,
            "justify_items": null,
            "left": null,
            "margin": null,
            "max_height": null,
            "max_width": null,
            "min_height": null,
            "min_width": null,
            "object_fit": null,
            "object_position": null,
            "order": null,
            "overflow": null,
            "overflow_x": null,
            "overflow_y": null,
            "padding": null,
            "right": null,
            "top": null,
            "visibility": null,
            "width": null
          }
        },
        "63d66fe09b8240c1984d90443c0acc3b": {
          "model_module": "@jupyter-widgets/base",
          "model_name": "LayoutModel",
          "model_module_version": "1.2.0",
          "state": {
            "_model_module": "@jupyter-widgets/base",
            "_model_module_version": "1.2.0",
            "_model_name": "LayoutModel",
            "_view_count": null,
            "_view_module": "@jupyter-widgets/base",
            "_view_module_version": "1.2.0",
            "_view_name": "LayoutView",
            "align_content": null,
            "align_items": null,
            "align_self": null,
            "border": null,
            "bottom": null,
            "display": null,
            "flex": null,
            "flex_flow": null,
            "grid_area": null,
            "grid_auto_columns": null,
            "grid_auto_flow": null,
            "grid_auto_rows": null,
            "grid_column": null,
            "grid_gap": null,
            "grid_row": null,
            "grid_template_areas": null,
            "grid_template_columns": null,
            "grid_template_rows": null,
            "height": null,
            "justify_content": null,
            "justify_items": null,
            "left": null,
            "margin": null,
            "max_height": null,
            "max_width": null,
            "min_height": null,
            "min_width": null,
            "object_fit": null,
            "object_position": null,
            "order": null,
            "overflow": null,
            "overflow_x": null,
            "overflow_y": null,
            "padding": null,
            "right": null,
            "top": null,
            "visibility": null,
            "width": null
          }
        },
        "a74f2a37686d49558072b5a3f6094b41": {
          "model_module": "@jupyter-widgets/controls",
          "model_name": "DescriptionStyleModel",
          "model_module_version": "1.5.0",
          "state": {
            "_model_module": "@jupyter-widgets/controls",
            "_model_module_version": "1.5.0",
            "_model_name": "DescriptionStyleModel",
            "_view_count": null,
            "_view_module": "@jupyter-widgets/base",
            "_view_module_version": "1.2.0",
            "_view_name": "StyleView",
            "description_width": ""
          }
        },
        "0aabe352a2974790a31781427206f382": {
          "model_module": "@jupyter-widgets/base",
          "model_name": "LayoutModel",
          "model_module_version": "1.2.0",
          "state": {
            "_model_module": "@jupyter-widgets/base",
            "_model_module_version": "1.2.0",
            "_model_name": "LayoutModel",
            "_view_count": null,
            "_view_module": "@jupyter-widgets/base",
            "_view_module_version": "1.2.0",
            "_view_name": "LayoutView",
            "align_content": null,
            "align_items": null,
            "align_self": null,
            "border": null,
            "bottom": null,
            "display": null,
            "flex": null,
            "flex_flow": null,
            "grid_area": null,
            "grid_auto_columns": null,
            "grid_auto_flow": null,
            "grid_auto_rows": null,
            "grid_column": null,
            "grid_gap": null,
            "grid_row": null,
            "grid_template_areas": null,
            "grid_template_columns": null,
            "grid_template_rows": null,
            "height": null,
            "justify_content": null,
            "justify_items": null,
            "left": null,
            "margin": null,
            "max_height": null,
            "max_width": null,
            "min_height": null,
            "min_width": null,
            "object_fit": null,
            "object_position": null,
            "order": null,
            "overflow": null,
            "overflow_x": null,
            "overflow_y": null,
            "padding": null,
            "right": null,
            "top": null,
            "visibility": null,
            "width": null
          }
        },
        "4ba786b63ffb450eb9a3ccd87e8eec6b": {
          "model_module": "@jupyter-widgets/controls",
          "model_name": "ProgressStyleModel",
          "model_module_version": "1.5.0",
          "state": {
            "_model_module": "@jupyter-widgets/controls",
            "_model_module_version": "1.5.0",
            "_model_name": "ProgressStyleModel",
            "_view_count": null,
            "_view_module": "@jupyter-widgets/base",
            "_view_module_version": "1.2.0",
            "_view_name": "StyleView",
            "bar_color": null,
            "description_width": ""
          }
        },
        "b2e846545b3d49f7916c2eaf2be3d1f8": {
          "model_module": "@jupyter-widgets/base",
          "model_name": "LayoutModel",
          "model_module_version": "1.2.0",
          "state": {
            "_model_module": "@jupyter-widgets/base",
            "_model_module_version": "1.2.0",
            "_model_name": "LayoutModel",
            "_view_count": null,
            "_view_module": "@jupyter-widgets/base",
            "_view_module_version": "1.2.0",
            "_view_name": "LayoutView",
            "align_content": null,
            "align_items": null,
            "align_self": null,
            "border": null,
            "bottom": null,
            "display": null,
            "flex": null,
            "flex_flow": null,
            "grid_area": null,
            "grid_auto_columns": null,
            "grid_auto_flow": null,
            "grid_auto_rows": null,
            "grid_column": null,
            "grid_gap": null,
            "grid_row": null,
            "grid_template_areas": null,
            "grid_template_columns": null,
            "grid_template_rows": null,
            "height": null,
            "justify_content": null,
            "justify_items": null,
            "left": null,
            "margin": null,
            "max_height": null,
            "max_width": null,
            "min_height": null,
            "min_width": null,
            "object_fit": null,
            "object_position": null,
            "order": null,
            "overflow": null,
            "overflow_x": null,
            "overflow_y": null,
            "padding": null,
            "right": null,
            "top": null,
            "visibility": null,
            "width": null
          }
        },
        "bfaafb85fab943d2a9562e6c35aefdb5": {
          "model_module": "@jupyter-widgets/controls",
          "model_name": "DescriptionStyleModel",
          "model_module_version": "1.5.0",
          "state": {
            "_model_module": "@jupyter-widgets/controls",
            "_model_module_version": "1.5.0",
            "_model_name": "DescriptionStyleModel",
            "_view_count": null,
            "_view_module": "@jupyter-widgets/base",
            "_view_module_version": "1.2.0",
            "_view_name": "StyleView",
            "description_width": ""
          }
        },
        "da42aa9771624bb9b8f84e9cf23d844f": {
          "model_module": "@jupyter-widgets/controls",
          "model_name": "HBoxModel",
          "model_module_version": "1.5.0",
          "state": {
            "_dom_classes": [],
            "_model_module": "@jupyter-widgets/controls",
            "_model_module_version": "1.5.0",
            "_model_name": "HBoxModel",
            "_view_count": null,
            "_view_module": "@jupyter-widgets/controls",
            "_view_module_version": "1.5.0",
            "_view_name": "HBoxView",
            "box_style": "",
            "children": [
              "IPY_MODEL_c71e757ffcd7438385df2a0d0543b3c5",
              "IPY_MODEL_bf2fa2b919e1468b9caa0be9b1632ff5",
              "IPY_MODEL_f10a10eb6e8541ffb6a5bf9a58636739"
            ],
            "layout": "IPY_MODEL_d5550961afc141558996096f594e0f18"
          }
        },
        "c71e757ffcd7438385df2a0d0543b3c5": {
          "model_module": "@jupyter-widgets/controls",
          "model_name": "HTMLModel",
          "model_module_version": "1.5.0",
          "state": {
            "_dom_classes": [],
            "_model_module": "@jupyter-widgets/controls",
            "_model_module_version": "1.5.0",
            "_model_name": "HTMLModel",
            "_view_count": null,
            "_view_module": "@jupyter-widgets/controls",
            "_view_module_version": "1.5.0",
            "_view_name": "HTMLView",
            "description": "",
            "description_tooltip": null,
            "layout": "IPY_MODEL_59b8d1c6daf445b1b949eb91c14846de",
            "placeholder": "​",
            "style": "IPY_MODEL_c9c915c2396946fcadfbc9ff18007d84",
            "value": "100%"
          }
        },
        "bf2fa2b919e1468b9caa0be9b1632ff5": {
          "model_module": "@jupyter-widgets/controls",
          "model_name": "FloatProgressModel",
          "model_module_version": "1.5.0",
          "state": {
            "_dom_classes": [],
            "_model_module": "@jupyter-widgets/controls",
            "_model_module_version": "1.5.0",
            "_model_name": "FloatProgressModel",
            "_view_count": null,
            "_view_module": "@jupyter-widgets/controls",
            "_view_module_version": "1.5.0",
            "_view_name": "ProgressView",
            "bar_style": "success",
            "description": "",
            "description_tooltip": null,
            "layout": "IPY_MODEL_f29ce8949c8d4db7adf3692322454514",
            "max": 16986,
            "min": 0,
            "orientation": "horizontal",
            "style": "IPY_MODEL_03859a86381a4a5a84ef5bbd52484688",
            "value": 16986
          }
        },
        "f10a10eb6e8541ffb6a5bf9a58636739": {
          "model_module": "@jupyter-widgets/controls",
          "model_name": "HTMLModel",
          "model_module_version": "1.5.0",
          "state": {
            "_dom_classes": [],
            "_model_module": "@jupyter-widgets/controls",
            "_model_module_version": "1.5.0",
            "_model_name": "HTMLModel",
            "_view_count": null,
            "_view_module": "@jupyter-widgets/controls",
            "_view_module_version": "1.5.0",
            "_view_name": "HTMLView",
            "description": "",
            "description_tooltip": null,
            "layout": "IPY_MODEL_80c47c6837ec4720ac3d4c41368ba9c7",
            "placeholder": "​",
            "style": "IPY_MODEL_f8645a2e419f48d3b36fbaec0b9ec7b7",
            "value": " 16986/16986 [00:22&lt;00:00, 880.67it/s]"
          }
        },
        "d5550961afc141558996096f594e0f18": {
          "model_module": "@jupyter-widgets/base",
          "model_name": "LayoutModel",
          "model_module_version": "1.2.0",
          "state": {
            "_model_module": "@jupyter-widgets/base",
            "_model_module_version": "1.2.0",
            "_model_name": "LayoutModel",
            "_view_count": null,
            "_view_module": "@jupyter-widgets/base",
            "_view_module_version": "1.2.0",
            "_view_name": "LayoutView",
            "align_content": null,
            "align_items": null,
            "align_self": null,
            "border": null,
            "bottom": null,
            "display": null,
            "flex": null,
            "flex_flow": null,
            "grid_area": null,
            "grid_auto_columns": null,
            "grid_auto_flow": null,
            "grid_auto_rows": null,
            "grid_column": null,
            "grid_gap": null,
            "grid_row": null,
            "grid_template_areas": null,
            "grid_template_columns": null,
            "grid_template_rows": null,
            "height": null,
            "justify_content": null,
            "justify_items": null,
            "left": null,
            "margin": null,
            "max_height": null,
            "max_width": null,
            "min_height": null,
            "min_width": null,
            "object_fit": null,
            "object_position": null,
            "order": null,
            "overflow": null,
            "overflow_x": null,
            "overflow_y": null,
            "padding": null,
            "right": null,
            "top": null,
            "visibility": null,
            "width": null
          }
        },
        "59b8d1c6daf445b1b949eb91c14846de": {
          "model_module": "@jupyter-widgets/base",
          "model_name": "LayoutModel",
          "model_module_version": "1.2.0",
          "state": {
            "_model_module": "@jupyter-widgets/base",
            "_model_module_version": "1.2.0",
            "_model_name": "LayoutModel",
            "_view_count": null,
            "_view_module": "@jupyter-widgets/base",
            "_view_module_version": "1.2.0",
            "_view_name": "LayoutView",
            "align_content": null,
            "align_items": null,
            "align_self": null,
            "border": null,
            "bottom": null,
            "display": null,
            "flex": null,
            "flex_flow": null,
            "grid_area": null,
            "grid_auto_columns": null,
            "grid_auto_flow": null,
            "grid_auto_rows": null,
            "grid_column": null,
            "grid_gap": null,
            "grid_row": null,
            "grid_template_areas": null,
            "grid_template_columns": null,
            "grid_template_rows": null,
            "height": null,
            "justify_content": null,
            "justify_items": null,
            "left": null,
            "margin": null,
            "max_height": null,
            "max_width": null,
            "min_height": null,
            "min_width": null,
            "object_fit": null,
            "object_position": null,
            "order": null,
            "overflow": null,
            "overflow_x": null,
            "overflow_y": null,
            "padding": null,
            "right": null,
            "top": null,
            "visibility": null,
            "width": null
          }
        },
        "c9c915c2396946fcadfbc9ff18007d84": {
          "model_module": "@jupyter-widgets/controls",
          "model_name": "DescriptionStyleModel",
          "model_module_version": "1.5.0",
          "state": {
            "_model_module": "@jupyter-widgets/controls",
            "_model_module_version": "1.5.0",
            "_model_name": "DescriptionStyleModel",
            "_view_count": null,
            "_view_module": "@jupyter-widgets/base",
            "_view_module_version": "1.2.0",
            "_view_name": "StyleView",
            "description_width": ""
          }
        },
        "f29ce8949c8d4db7adf3692322454514": {
          "model_module": "@jupyter-widgets/base",
          "model_name": "LayoutModel",
          "model_module_version": "1.2.0",
          "state": {
            "_model_module": "@jupyter-widgets/base",
            "_model_module_version": "1.2.0",
            "_model_name": "LayoutModel",
            "_view_count": null,
            "_view_module": "@jupyter-widgets/base",
            "_view_module_version": "1.2.0",
            "_view_name": "LayoutView",
            "align_content": null,
            "align_items": null,
            "align_self": null,
            "border": null,
            "bottom": null,
            "display": null,
            "flex": null,
            "flex_flow": null,
            "grid_area": null,
            "grid_auto_columns": null,
            "grid_auto_flow": null,
            "grid_auto_rows": null,
            "grid_column": null,
            "grid_gap": null,
            "grid_row": null,
            "grid_template_areas": null,
            "grid_template_columns": null,
            "grid_template_rows": null,
            "height": null,
            "justify_content": null,
            "justify_items": null,
            "left": null,
            "margin": null,
            "max_height": null,
            "max_width": null,
            "min_height": null,
            "min_width": null,
            "object_fit": null,
            "object_position": null,
            "order": null,
            "overflow": null,
            "overflow_x": null,
            "overflow_y": null,
            "padding": null,
            "right": null,
            "top": null,
            "visibility": null,
            "width": null
          }
        },
        "03859a86381a4a5a84ef5bbd52484688": {
          "model_module": "@jupyter-widgets/controls",
          "model_name": "ProgressStyleModel",
          "model_module_version": "1.5.0",
          "state": {
            "_model_module": "@jupyter-widgets/controls",
            "_model_module_version": "1.5.0",
            "_model_name": "ProgressStyleModel",
            "_view_count": null,
            "_view_module": "@jupyter-widgets/base",
            "_view_module_version": "1.2.0",
            "_view_name": "StyleView",
            "bar_color": null,
            "description_width": ""
          }
        },
        "80c47c6837ec4720ac3d4c41368ba9c7": {
          "model_module": "@jupyter-widgets/base",
          "model_name": "LayoutModel",
          "model_module_version": "1.2.0",
          "state": {
            "_model_module": "@jupyter-widgets/base",
            "_model_module_version": "1.2.0",
            "_model_name": "LayoutModel",
            "_view_count": null,
            "_view_module": "@jupyter-widgets/base",
            "_view_module_version": "1.2.0",
            "_view_name": "LayoutView",
            "align_content": null,
            "align_items": null,
            "align_self": null,
            "border": null,
            "bottom": null,
            "display": null,
            "flex": null,
            "flex_flow": null,
            "grid_area": null,
            "grid_auto_columns": null,
            "grid_auto_flow": null,
            "grid_auto_rows": null,
            "grid_column": null,
            "grid_gap": null,
            "grid_row": null,
            "grid_template_areas": null,
            "grid_template_columns": null,
            "grid_template_rows": null,
            "height": null,
            "justify_content": null,
            "justify_items": null,
            "left": null,
            "margin": null,
            "max_height": null,
            "max_width": null,
            "min_height": null,
            "min_width": null,
            "object_fit": null,
            "object_position": null,
            "order": null,
            "overflow": null,
            "overflow_x": null,
            "overflow_y": null,
            "padding": null,
            "right": null,
            "top": null,
            "visibility": null,
            "width": null
          }
        },
        "f8645a2e419f48d3b36fbaec0b9ec7b7": {
          "model_module": "@jupyter-widgets/controls",
          "model_name": "DescriptionStyleModel",
          "model_module_version": "1.5.0",
          "state": {
            "_model_module": "@jupyter-widgets/controls",
            "_model_module_version": "1.5.0",
            "_model_name": "DescriptionStyleModel",
            "_view_count": null,
            "_view_module": "@jupyter-widgets/base",
            "_view_module_version": "1.2.0",
            "_view_name": "StyleView",
            "description_width": ""
          }
        },
        "94c20026fec34218aa82ba2528d7ab31": {
          "model_module": "@jupyter-widgets/controls",
          "model_name": "HBoxModel",
          "model_module_version": "1.5.0",
          "state": {
            "_dom_classes": [],
            "_model_module": "@jupyter-widgets/controls",
            "_model_module_version": "1.5.0",
            "_model_name": "HBoxModel",
            "_view_count": null,
            "_view_module": "@jupyter-widgets/controls",
            "_view_module_version": "1.5.0",
            "_view_name": "HBoxView",
            "box_style": "",
            "children": [
              "IPY_MODEL_aa276bf5e3684f7a81aa0dcf863fe96b",
              "IPY_MODEL_0ec154490283444faf209213dfe294c7",
              "IPY_MODEL_f44d00800a694e4d9f56defd9ec3ddad"
            ],
            "layout": "IPY_MODEL_fa3cbb47b3fe432fb813cd67ac8d440d"
          }
        },
        "aa276bf5e3684f7a81aa0dcf863fe96b": {
          "model_module": "@jupyter-widgets/controls",
          "model_name": "HTMLModel",
          "model_module_version": "1.5.0",
          "state": {
            "_dom_classes": [],
            "_model_module": "@jupyter-widgets/controls",
            "_model_module_version": "1.5.0",
            "_model_name": "HTMLModel",
            "_view_count": null,
            "_view_module": "@jupyter-widgets/controls",
            "_view_module_version": "1.5.0",
            "_view_name": "HTMLView",
            "description": "",
            "description_tooltip": null,
            "layout": "IPY_MODEL_660a73ec9349474db800368a9cf80596",
            "placeholder": "​",
            "style": "IPY_MODEL_7ee6ce30a0ca41e9900f4cbb4d8e5251",
            "value": "Downloading: 100%"
          }
        },
        "0ec154490283444faf209213dfe294c7": {
          "model_module": "@jupyter-widgets/controls",
          "model_name": "FloatProgressModel",
          "model_module_version": "1.5.0",
          "state": {
            "_dom_classes": [],
            "_model_module": "@jupyter-widgets/controls",
            "_model_module_version": "1.5.0",
            "_model_name": "FloatProgressModel",
            "_view_count": null,
            "_view_module": "@jupyter-widgets/controls",
            "_view_module_version": "1.5.0",
            "_view_name": "ProgressView",
            "bar_style": "success",
            "description": "",
            "description_tooltip": null,
            "layout": "IPY_MODEL_4d9571100b3c4dde842f40f3e6c70021",
            "max": 725,
            "min": 0,
            "orientation": "horizontal",
            "style": "IPY_MODEL_5023bf327e9f4ac89f0b7b1a714f2252",
            "value": 725
          }
        },
        "f44d00800a694e4d9f56defd9ec3ddad": {
          "model_module": "@jupyter-widgets/controls",
          "model_name": "HTMLModel",
          "model_module_version": "1.5.0",
          "state": {
            "_dom_classes": [],
            "_model_module": "@jupyter-widgets/controls",
            "_model_module_version": "1.5.0",
            "_model_name": "HTMLModel",
            "_view_count": null,
            "_view_module": "@jupyter-widgets/controls",
            "_view_module_version": "1.5.0",
            "_view_name": "HTMLView",
            "description": "",
            "description_tooltip": null,
            "layout": "IPY_MODEL_077e60f60c0246899d536885246b1fdb",
            "placeholder": "​",
            "style": "IPY_MODEL_70f25205cdfc4af1a507c5e7df703b0e",
            "value": " 725/725 [00:00&lt;00:00, 16.6kB/s]"
          }
        },
        "fa3cbb47b3fe432fb813cd67ac8d440d": {
          "model_module": "@jupyter-widgets/base",
          "model_name": "LayoutModel",
          "model_module_version": "1.2.0",
          "state": {
            "_model_module": "@jupyter-widgets/base",
            "_model_module_version": "1.2.0",
            "_model_name": "LayoutModel",
            "_view_count": null,
            "_view_module": "@jupyter-widgets/base",
            "_view_module_version": "1.2.0",
            "_view_name": "LayoutView",
            "align_content": null,
            "align_items": null,
            "align_self": null,
            "border": null,
            "bottom": null,
            "display": null,
            "flex": null,
            "flex_flow": null,
            "grid_area": null,
            "grid_auto_columns": null,
            "grid_auto_flow": null,
            "grid_auto_rows": null,
            "grid_column": null,
            "grid_gap": null,
            "grid_row": null,
            "grid_template_areas": null,
            "grid_template_columns": null,
            "grid_template_rows": null,
            "height": null,
            "justify_content": null,
            "justify_items": null,
            "left": null,
            "margin": null,
            "max_height": null,
            "max_width": null,
            "min_height": null,
            "min_width": null,
            "object_fit": null,
            "object_position": null,
            "order": null,
            "overflow": null,
            "overflow_x": null,
            "overflow_y": null,
            "padding": null,
            "right": null,
            "top": null,
            "visibility": null,
            "width": null
          }
        },
        "660a73ec9349474db800368a9cf80596": {
          "model_module": "@jupyter-widgets/base",
          "model_name": "LayoutModel",
          "model_module_version": "1.2.0",
          "state": {
            "_model_module": "@jupyter-widgets/base",
            "_model_module_version": "1.2.0",
            "_model_name": "LayoutModel",
            "_view_count": null,
            "_view_module": "@jupyter-widgets/base",
            "_view_module_version": "1.2.0",
            "_view_name": "LayoutView",
            "align_content": null,
            "align_items": null,
            "align_self": null,
            "border": null,
            "bottom": null,
            "display": null,
            "flex": null,
            "flex_flow": null,
            "grid_area": null,
            "grid_auto_columns": null,
            "grid_auto_flow": null,
            "grid_auto_rows": null,
            "grid_column": null,
            "grid_gap": null,
            "grid_row": null,
            "grid_template_areas": null,
            "grid_template_columns": null,
            "grid_template_rows": null,
            "height": null,
            "justify_content": null,
            "justify_items": null,
            "left": null,
            "margin": null,
            "max_height": null,
            "max_width": null,
            "min_height": null,
            "min_width": null,
            "object_fit": null,
            "object_position": null,
            "order": null,
            "overflow": null,
            "overflow_x": null,
            "overflow_y": null,
            "padding": null,
            "right": null,
            "top": null,
            "visibility": null,
            "width": null
          }
        },
        "7ee6ce30a0ca41e9900f4cbb4d8e5251": {
          "model_module": "@jupyter-widgets/controls",
          "model_name": "DescriptionStyleModel",
          "model_module_version": "1.5.0",
          "state": {
            "_model_module": "@jupyter-widgets/controls",
            "_model_module_version": "1.5.0",
            "_model_name": "DescriptionStyleModel",
            "_view_count": null,
            "_view_module": "@jupyter-widgets/base",
            "_view_module_version": "1.2.0",
            "_view_name": "StyleView",
            "description_width": ""
          }
        },
        "4d9571100b3c4dde842f40f3e6c70021": {
          "model_module": "@jupyter-widgets/base",
          "model_name": "LayoutModel",
          "model_module_version": "1.2.0",
          "state": {
            "_model_module": "@jupyter-widgets/base",
            "_model_module_version": "1.2.0",
            "_model_name": "LayoutModel",
            "_view_count": null,
            "_view_module": "@jupyter-widgets/base",
            "_view_module_version": "1.2.0",
            "_view_name": "LayoutView",
            "align_content": null,
            "align_items": null,
            "align_self": null,
            "border": null,
            "bottom": null,
            "display": null,
            "flex": null,
            "flex_flow": null,
            "grid_area": null,
            "grid_auto_columns": null,
            "grid_auto_flow": null,
            "grid_auto_rows": null,
            "grid_column": null,
            "grid_gap": null,
            "grid_row": null,
            "grid_template_areas": null,
            "grid_template_columns": null,
            "grid_template_rows": null,
            "height": null,
            "justify_content": null,
            "justify_items": null,
            "left": null,
            "margin": null,
            "max_height": null,
            "max_width": null,
            "min_height": null,
            "min_width": null,
            "object_fit": null,
            "object_position": null,
            "order": null,
            "overflow": null,
            "overflow_x": null,
            "overflow_y": null,
            "padding": null,
            "right": null,
            "top": null,
            "visibility": null,
            "width": null
          }
        },
        "5023bf327e9f4ac89f0b7b1a714f2252": {
          "model_module": "@jupyter-widgets/controls",
          "model_name": "ProgressStyleModel",
          "model_module_version": "1.5.0",
          "state": {
            "_model_module": "@jupyter-widgets/controls",
            "_model_module_version": "1.5.0",
            "_model_name": "ProgressStyleModel",
            "_view_count": null,
            "_view_module": "@jupyter-widgets/base",
            "_view_module_version": "1.2.0",
            "_view_name": "StyleView",
            "bar_color": null,
            "description_width": ""
          }
        },
        "077e60f60c0246899d536885246b1fdb": {
          "model_module": "@jupyter-widgets/base",
          "model_name": "LayoutModel",
          "model_module_version": "1.2.0",
          "state": {
            "_model_module": "@jupyter-widgets/base",
            "_model_module_version": "1.2.0",
            "_model_name": "LayoutModel",
            "_view_count": null,
            "_view_module": "@jupyter-widgets/base",
            "_view_module_version": "1.2.0",
            "_view_name": "LayoutView",
            "align_content": null,
            "align_items": null,
            "align_self": null,
            "border": null,
            "bottom": null,
            "display": null,
            "flex": null,
            "flex_flow": null,
            "grid_area": null,
            "grid_auto_columns": null,
            "grid_auto_flow": null,
            "grid_auto_rows": null,
            "grid_column": null,
            "grid_gap": null,
            "grid_row": null,
            "grid_template_areas": null,
            "grid_template_columns": null,
            "grid_template_rows": null,
            "height": null,
            "justify_content": null,
            "justify_items": null,
            "left": null,
            "margin": null,
            "max_height": null,
            "max_width": null,
            "min_height": null,
            "min_width": null,
            "object_fit": null,
            "object_position": null,
            "order": null,
            "overflow": null,
            "overflow_x": null,
            "overflow_y": null,
            "padding": null,
            "right": null,
            "top": null,
            "visibility": null,
            "width": null
          }
        },
        "70f25205cdfc4af1a507c5e7df703b0e": {
          "model_module": "@jupyter-widgets/controls",
          "model_name": "DescriptionStyleModel",
          "model_module_version": "1.5.0",
          "state": {
            "_model_module": "@jupyter-widgets/controls",
            "_model_module_version": "1.5.0",
            "_model_name": "DescriptionStyleModel",
            "_view_count": null,
            "_view_module": "@jupyter-widgets/base",
            "_view_module_version": "1.2.0",
            "_view_name": "StyleView",
            "description_width": ""
          }
        },
        "71111e6f4aaf4de1a1f6f3a8db25afea": {
          "model_module": "@jupyter-widgets/controls",
          "model_name": "HBoxModel",
          "model_module_version": "1.5.0",
          "state": {
            "_dom_classes": [],
            "_model_module": "@jupyter-widgets/controls",
            "_model_module_version": "1.5.0",
            "_model_name": "HBoxModel",
            "_view_count": null,
            "_view_module": "@jupyter-widgets/controls",
            "_view_module_version": "1.5.0",
            "_view_name": "HBoxView",
            "box_style": "",
            "children": [
              "IPY_MODEL_81cada886e4b4f6fbe4d8d12f77c5890",
              "IPY_MODEL_ecca6f40ac654b10908936fe2147dc38",
              "IPY_MODEL_cbf0930fa72246bd879372ebf74378f8"
            ],
            "layout": "IPY_MODEL_99af1a6060984aaf873b54fde952ffd5"
          }
        },
        "81cada886e4b4f6fbe4d8d12f77c5890": {
          "model_module": "@jupyter-widgets/controls",
          "model_name": "HTMLModel",
          "model_module_version": "1.5.0",
          "state": {
            "_dom_classes": [],
            "_model_module": "@jupyter-widgets/controls",
            "_model_module_version": "1.5.0",
            "_model_name": "HTMLModel",
            "_view_count": null,
            "_view_module": "@jupyter-widgets/controls",
            "_view_module_version": "1.5.0",
            "_view_name": "HTMLView",
            "description": "",
            "description_tooltip": null,
            "layout": "IPY_MODEL_7cfa034922da4412a16cfd7e7ffd448f",
            "placeholder": "​",
            "style": "IPY_MODEL_64b0fc85584c45fd8a2a12c6c7694835",
            "value": "Downloading: 100%"
          }
        },
        "ecca6f40ac654b10908936fe2147dc38": {
          "model_module": "@jupyter-widgets/controls",
          "model_name": "FloatProgressModel",
          "model_module_version": "1.5.0",
          "state": {
            "_dom_classes": [],
            "_model_module": "@jupyter-widgets/controls",
            "_model_module_version": "1.5.0",
            "_model_name": "FloatProgressModel",
            "_view_count": null,
            "_view_module": "@jupyter-widgets/controls",
            "_view_module_version": "1.5.0",
            "_view_name": "ProgressView",
            "bar_style": "success",
            "description": "",
            "description_tooltip": null,
            "layout": "IPY_MODEL_15571f5e9c084517a683670948cbd8d7",
            "max": 475782997,
            "min": 0,
            "orientation": "horizontal",
            "style": "IPY_MODEL_bc362136503c43ac898b3b56964124c7",
            "value": 475782997
          }
        },
        "cbf0930fa72246bd879372ebf74378f8": {
          "model_module": "@jupyter-widgets/controls",
          "model_name": "HTMLModel",
          "model_module_version": "1.5.0",
          "state": {
            "_dom_classes": [],
            "_model_module": "@jupyter-widgets/controls",
            "_model_module_version": "1.5.0",
            "_model_name": "HTMLModel",
            "_view_count": null,
            "_view_module": "@jupyter-widgets/controls",
            "_view_module_version": "1.5.0",
            "_view_name": "HTMLView",
            "description": "",
            "description_tooltip": null,
            "layout": "IPY_MODEL_0cf5bc64919b4935b6249e7f5df61d23",
            "placeholder": "​",
            "style": "IPY_MODEL_b42755f51fce4ad4b2cf963e6e0e28a1",
            "value": " 476M/476M [00:08&lt;00:00, 58.1MB/s]"
          }
        },
        "99af1a6060984aaf873b54fde952ffd5": {
          "model_module": "@jupyter-widgets/base",
          "model_name": "LayoutModel",
          "model_module_version": "1.2.0",
          "state": {
            "_model_module": "@jupyter-widgets/base",
            "_model_module_version": "1.2.0",
            "_model_name": "LayoutModel",
            "_view_count": null,
            "_view_module": "@jupyter-widgets/base",
            "_view_module_version": "1.2.0",
            "_view_name": "LayoutView",
            "align_content": null,
            "align_items": null,
            "align_self": null,
            "border": null,
            "bottom": null,
            "display": null,
            "flex": null,
            "flex_flow": null,
            "grid_area": null,
            "grid_auto_columns": null,
            "grid_auto_flow": null,
            "grid_auto_rows": null,
            "grid_column": null,
            "grid_gap": null,
            "grid_row": null,
            "grid_template_areas": null,
            "grid_template_columns": null,
            "grid_template_rows": null,
            "height": null,
            "justify_content": null,
            "justify_items": null,
            "left": null,
            "margin": null,
            "max_height": null,
            "max_width": null,
            "min_height": null,
            "min_width": null,
            "object_fit": null,
            "object_position": null,
            "order": null,
            "overflow": null,
            "overflow_x": null,
            "overflow_y": null,
            "padding": null,
            "right": null,
            "top": null,
            "visibility": null,
            "width": null
          }
        },
        "7cfa034922da4412a16cfd7e7ffd448f": {
          "model_module": "@jupyter-widgets/base",
          "model_name": "LayoutModel",
          "model_module_version": "1.2.0",
          "state": {
            "_model_module": "@jupyter-widgets/base",
            "_model_module_version": "1.2.0",
            "_model_name": "LayoutModel",
            "_view_count": null,
            "_view_module": "@jupyter-widgets/base",
            "_view_module_version": "1.2.0",
            "_view_name": "LayoutView",
            "align_content": null,
            "align_items": null,
            "align_self": null,
            "border": null,
            "bottom": null,
            "display": null,
            "flex": null,
            "flex_flow": null,
            "grid_area": null,
            "grid_auto_columns": null,
            "grid_auto_flow": null,
            "grid_auto_rows": null,
            "grid_column": null,
            "grid_gap": null,
            "grid_row": null,
            "grid_template_areas": null,
            "grid_template_columns": null,
            "grid_template_rows": null,
            "height": null,
            "justify_content": null,
            "justify_items": null,
            "left": null,
            "margin": null,
            "max_height": null,
            "max_width": null,
            "min_height": null,
            "min_width": null,
            "object_fit": null,
            "object_position": null,
            "order": null,
            "overflow": null,
            "overflow_x": null,
            "overflow_y": null,
            "padding": null,
            "right": null,
            "top": null,
            "visibility": null,
            "width": null
          }
        },
        "64b0fc85584c45fd8a2a12c6c7694835": {
          "model_module": "@jupyter-widgets/controls",
          "model_name": "DescriptionStyleModel",
          "model_module_version": "1.5.0",
          "state": {
            "_model_module": "@jupyter-widgets/controls",
            "_model_module_version": "1.5.0",
            "_model_name": "DescriptionStyleModel",
            "_view_count": null,
            "_view_module": "@jupyter-widgets/base",
            "_view_module_version": "1.2.0",
            "_view_name": "StyleView",
            "description_width": ""
          }
        },
        "15571f5e9c084517a683670948cbd8d7": {
          "model_module": "@jupyter-widgets/base",
          "model_name": "LayoutModel",
          "model_module_version": "1.2.0",
          "state": {
            "_model_module": "@jupyter-widgets/base",
            "_model_module_version": "1.2.0",
            "_model_name": "LayoutModel",
            "_view_count": null,
            "_view_module": "@jupyter-widgets/base",
            "_view_module_version": "1.2.0",
            "_view_name": "LayoutView",
            "align_content": null,
            "align_items": null,
            "align_self": null,
            "border": null,
            "bottom": null,
            "display": null,
            "flex": null,
            "flex_flow": null,
            "grid_area": null,
            "grid_auto_columns": null,
            "grid_auto_flow": null,
            "grid_auto_rows": null,
            "grid_column": null,
            "grid_gap": null,
            "grid_row": null,
            "grid_template_areas": null,
            "grid_template_columns": null,
            "grid_template_rows": null,
            "height": null,
            "justify_content": null,
            "justify_items": null,
            "left": null,
            "margin": null,
            "max_height": null,
            "max_width": null,
            "min_height": null,
            "min_width": null,
            "object_fit": null,
            "object_position": null,
            "order": null,
            "overflow": null,
            "overflow_x": null,
            "overflow_y": null,
            "padding": null,
            "right": null,
            "top": null,
            "visibility": null,
            "width": null
          }
        },
        "bc362136503c43ac898b3b56964124c7": {
          "model_module": "@jupyter-widgets/controls",
          "model_name": "ProgressStyleModel",
          "model_module_version": "1.5.0",
          "state": {
            "_model_module": "@jupyter-widgets/controls",
            "_model_module_version": "1.5.0",
            "_model_name": "ProgressStyleModel",
            "_view_count": null,
            "_view_module": "@jupyter-widgets/base",
            "_view_module_version": "1.2.0",
            "_view_name": "StyleView",
            "bar_color": null,
            "description_width": ""
          }
        },
        "0cf5bc64919b4935b6249e7f5df61d23": {
          "model_module": "@jupyter-widgets/base",
          "model_name": "LayoutModel",
          "model_module_version": "1.2.0",
          "state": {
            "_model_module": "@jupyter-widgets/base",
            "_model_module_version": "1.2.0",
            "_model_name": "LayoutModel",
            "_view_count": null,
            "_view_module": "@jupyter-widgets/base",
            "_view_module_version": "1.2.0",
            "_view_name": "LayoutView",
            "align_content": null,
            "align_items": null,
            "align_self": null,
            "border": null,
            "bottom": null,
            "display": null,
            "flex": null,
            "flex_flow": null,
            "grid_area": null,
            "grid_auto_columns": null,
            "grid_auto_flow": null,
            "grid_auto_rows": null,
            "grid_column": null,
            "grid_gap": null,
            "grid_row": null,
            "grid_template_areas": null,
            "grid_template_columns": null,
            "grid_template_rows": null,
            "height": null,
            "justify_content": null,
            "justify_items": null,
            "left": null,
            "margin": null,
            "max_height": null,
            "max_width": null,
            "min_height": null,
            "min_width": null,
            "object_fit": null,
            "object_position": null,
            "order": null,
            "overflow": null,
            "overflow_x": null,
            "overflow_y": null,
            "padding": null,
            "right": null,
            "top": null,
            "visibility": null,
            "width": null
          }
        },
        "b42755f51fce4ad4b2cf963e6e0e28a1": {
          "model_module": "@jupyter-widgets/controls",
          "model_name": "DescriptionStyleModel",
          "model_module_version": "1.5.0",
          "state": {
            "_model_module": "@jupyter-widgets/controls",
            "_model_module_version": "1.5.0",
            "_model_name": "DescriptionStyleModel",
            "_view_count": null,
            "_view_module": "@jupyter-widgets/base",
            "_view_module_version": "1.2.0",
            "_view_name": "StyleView",
            "description_width": ""
          }
        },
        "c36a72f0cdb84b0785bff6be56be5a38": {
          "model_module": "@jupyter-widgets/controls",
          "model_name": "HBoxModel",
          "model_module_version": "1.5.0",
          "state": {
            "_dom_classes": [],
            "_model_module": "@jupyter-widgets/controls",
            "_model_module_version": "1.5.0",
            "_model_name": "HBoxModel",
            "_view_count": null,
            "_view_module": "@jupyter-widgets/controls",
            "_view_module_version": "1.5.0",
            "_view_name": "HBoxView",
            "box_style": "",
            "children": [
              "IPY_MODEL_4c926f9b7d0849c2989e56377e4e2339",
              "IPY_MODEL_383b61da84dc4e3b88118b306acff53b",
              "IPY_MODEL_1f94050815e548dcb71c61f30e4a799f"
            ],
            "layout": "IPY_MODEL_6fd99f80ef1e4978b5a3916316636fcd"
          }
        },
        "4c926f9b7d0849c2989e56377e4e2339": {
          "model_module": "@jupyter-widgets/controls",
          "model_name": "HTMLModel",
          "model_module_version": "1.5.0",
          "state": {
            "_dom_classes": [],
            "_model_module": "@jupyter-widgets/controls",
            "_model_module_version": "1.5.0",
            "_model_name": "HTMLModel",
            "_view_count": null,
            "_view_module": "@jupyter-widgets/controls",
            "_view_module_version": "1.5.0",
            "_view_name": "HTMLView",
            "description": "",
            "description_tooltip": null,
            "layout": "IPY_MODEL_1cf4784b7a8e400389aa04e100cdb2fe",
            "placeholder": "​",
            "style": "IPY_MODEL_ef5751f7c061459f934a2a4b8c0c3994",
            "value": "Downloading: 100%"
          }
        },
        "383b61da84dc4e3b88118b306acff53b": {
          "model_module": "@jupyter-widgets/controls",
          "model_name": "FloatProgressModel",
          "model_module_version": "1.5.0",
          "state": {
            "_dom_classes": [],
            "_model_module": "@jupyter-widgets/controls",
            "_model_module_version": "1.5.0",
            "_model_name": "FloatProgressModel",
            "_view_count": null,
            "_view_module": "@jupyter-widgets/controls",
            "_view_module_version": "1.5.0",
            "_view_name": "ProgressView",
            "bar_style": "success",
            "description": "",
            "description_tooltip": null,
            "layout": "IPY_MODEL_03487c8a3adf4009b0e9d511e8832149",
            "max": 80,
            "min": 0,
            "orientation": "horizontal",
            "style": "IPY_MODEL_d1969b4d24824e9098affc03b51cd1bb",
            "value": 80
          }
        },
        "1f94050815e548dcb71c61f30e4a799f": {
          "model_module": "@jupyter-widgets/controls",
          "model_name": "HTMLModel",
          "model_module_version": "1.5.0",
          "state": {
            "_dom_classes": [],
            "_model_module": "@jupyter-widgets/controls",
            "_model_module_version": "1.5.0",
            "_model_name": "HTMLModel",
            "_view_count": null,
            "_view_module": "@jupyter-widgets/controls",
            "_view_module_version": "1.5.0",
            "_view_name": "HTMLView",
            "description": "",
            "description_tooltip": null,
            "layout": "IPY_MODEL_ec69c9391252477d81fa6b3d6e16de2d",
            "placeholder": "​",
            "style": "IPY_MODEL_41bf2431bcd44f89ae957d56c0cc62b8",
            "value": " 80.0/80.0 [00:00&lt;00:00, 2.45kB/s]"
          }
        },
        "6fd99f80ef1e4978b5a3916316636fcd": {
          "model_module": "@jupyter-widgets/base",
          "model_name": "LayoutModel",
          "model_module_version": "1.2.0",
          "state": {
            "_model_module": "@jupyter-widgets/base",
            "_model_module_version": "1.2.0",
            "_model_name": "LayoutModel",
            "_view_count": null,
            "_view_module": "@jupyter-widgets/base",
            "_view_module_version": "1.2.0",
            "_view_name": "LayoutView",
            "align_content": null,
            "align_items": null,
            "align_self": null,
            "border": null,
            "bottom": null,
            "display": null,
            "flex": null,
            "flex_flow": null,
            "grid_area": null,
            "grid_auto_columns": null,
            "grid_auto_flow": null,
            "grid_auto_rows": null,
            "grid_column": null,
            "grid_gap": null,
            "grid_row": null,
            "grid_template_areas": null,
            "grid_template_columns": null,
            "grid_template_rows": null,
            "height": null,
            "justify_content": null,
            "justify_items": null,
            "left": null,
            "margin": null,
            "max_height": null,
            "max_width": null,
            "min_height": null,
            "min_width": null,
            "object_fit": null,
            "object_position": null,
            "order": null,
            "overflow": null,
            "overflow_x": null,
            "overflow_y": null,
            "padding": null,
            "right": null,
            "top": null,
            "visibility": null,
            "width": null
          }
        },
        "1cf4784b7a8e400389aa04e100cdb2fe": {
          "model_module": "@jupyter-widgets/base",
          "model_name": "LayoutModel",
          "model_module_version": "1.2.0",
          "state": {
            "_model_module": "@jupyter-widgets/base",
            "_model_module_version": "1.2.0",
            "_model_name": "LayoutModel",
            "_view_count": null,
            "_view_module": "@jupyter-widgets/base",
            "_view_module_version": "1.2.0",
            "_view_name": "LayoutView",
            "align_content": null,
            "align_items": null,
            "align_self": null,
            "border": null,
            "bottom": null,
            "display": null,
            "flex": null,
            "flex_flow": null,
            "grid_area": null,
            "grid_auto_columns": null,
            "grid_auto_flow": null,
            "grid_auto_rows": null,
            "grid_column": null,
            "grid_gap": null,
            "grid_row": null,
            "grid_template_areas": null,
            "grid_template_columns": null,
            "grid_template_rows": null,
            "height": null,
            "justify_content": null,
            "justify_items": null,
            "left": null,
            "margin": null,
            "max_height": null,
            "max_width": null,
            "min_height": null,
            "min_width": null,
            "object_fit": null,
            "object_position": null,
            "order": null,
            "overflow": null,
            "overflow_x": null,
            "overflow_y": null,
            "padding": null,
            "right": null,
            "top": null,
            "visibility": null,
            "width": null
          }
        },
        "ef5751f7c061459f934a2a4b8c0c3994": {
          "model_module": "@jupyter-widgets/controls",
          "model_name": "DescriptionStyleModel",
          "model_module_version": "1.5.0",
          "state": {
            "_model_module": "@jupyter-widgets/controls",
            "_model_module_version": "1.5.0",
            "_model_name": "DescriptionStyleModel",
            "_view_count": null,
            "_view_module": "@jupyter-widgets/base",
            "_view_module_version": "1.2.0",
            "_view_name": "StyleView",
            "description_width": ""
          }
        },
        "03487c8a3adf4009b0e9d511e8832149": {
          "model_module": "@jupyter-widgets/base",
          "model_name": "LayoutModel",
          "model_module_version": "1.2.0",
          "state": {
            "_model_module": "@jupyter-widgets/base",
            "_model_module_version": "1.2.0",
            "_model_name": "LayoutModel",
            "_view_count": null,
            "_view_module": "@jupyter-widgets/base",
            "_view_module_version": "1.2.0",
            "_view_name": "LayoutView",
            "align_content": null,
            "align_items": null,
            "align_self": null,
            "border": null,
            "bottom": null,
            "display": null,
            "flex": null,
            "flex_flow": null,
            "grid_area": null,
            "grid_auto_columns": null,
            "grid_auto_flow": null,
            "grid_auto_rows": null,
            "grid_column": null,
            "grid_gap": null,
            "grid_row": null,
            "grid_template_areas": null,
            "grid_template_columns": null,
            "grid_template_rows": null,
            "height": null,
            "justify_content": null,
            "justify_items": null,
            "left": null,
            "margin": null,
            "max_height": null,
            "max_width": null,
            "min_height": null,
            "min_width": null,
            "object_fit": null,
            "object_position": null,
            "order": null,
            "overflow": null,
            "overflow_x": null,
            "overflow_y": null,
            "padding": null,
            "right": null,
            "top": null,
            "visibility": null,
            "width": null
          }
        },
        "d1969b4d24824e9098affc03b51cd1bb": {
          "model_module": "@jupyter-widgets/controls",
          "model_name": "ProgressStyleModel",
          "model_module_version": "1.5.0",
          "state": {
            "_model_module": "@jupyter-widgets/controls",
            "_model_module_version": "1.5.0",
            "_model_name": "ProgressStyleModel",
            "_view_count": null,
            "_view_module": "@jupyter-widgets/base",
            "_view_module_version": "1.2.0",
            "_view_name": "StyleView",
            "bar_color": null,
            "description_width": ""
          }
        },
        "ec69c9391252477d81fa6b3d6e16de2d": {
          "model_module": "@jupyter-widgets/base",
          "model_name": "LayoutModel",
          "model_module_version": "1.2.0",
          "state": {
            "_model_module": "@jupyter-widgets/base",
            "_model_module_version": "1.2.0",
            "_model_name": "LayoutModel",
            "_view_count": null,
            "_view_module": "@jupyter-widgets/base",
            "_view_module_version": "1.2.0",
            "_view_name": "LayoutView",
            "align_content": null,
            "align_items": null,
            "align_self": null,
            "border": null,
            "bottom": null,
            "display": null,
            "flex": null,
            "flex_flow": null,
            "grid_area": null,
            "grid_auto_columns": null,
            "grid_auto_flow": null,
            "grid_auto_rows": null,
            "grid_column": null,
            "grid_gap": null,
            "grid_row": null,
            "grid_template_areas": null,
            "grid_template_columns": null,
            "grid_template_rows": null,
            "height": null,
            "justify_content": null,
            "justify_items": null,
            "left": null,
            "margin": null,
            "max_height": null,
            "max_width": null,
            "min_height": null,
            "min_width": null,
            "object_fit": null,
            "object_position": null,
            "order": null,
            "overflow": null,
            "overflow_x": null,
            "overflow_y": null,
            "padding": null,
            "right": null,
            "top": null,
            "visibility": null,
            "width": null
          }
        },
        "41bf2431bcd44f89ae957d56c0cc62b8": {
          "model_module": "@jupyter-widgets/controls",
          "model_name": "DescriptionStyleModel",
          "model_module_version": "1.5.0",
          "state": {
            "_model_module": "@jupyter-widgets/controls",
            "_model_module_version": "1.5.0",
            "_model_name": "DescriptionStyleModel",
            "_view_count": null,
            "_view_module": "@jupyter-widgets/base",
            "_view_module_version": "1.2.0",
            "_view_name": "StyleView",
            "description_width": ""
          }
        },
        "43a0ec0317724f4992dacf9358de32f1": {
          "model_module": "@jupyter-widgets/controls",
          "model_name": "HBoxModel",
          "model_module_version": "1.5.0",
          "state": {
            "_dom_classes": [],
            "_model_module": "@jupyter-widgets/controls",
            "_model_module_version": "1.5.0",
            "_model_name": "HBoxModel",
            "_view_count": null,
            "_view_module": "@jupyter-widgets/controls",
            "_view_module_version": "1.5.0",
            "_view_name": "HBoxView",
            "box_style": "",
            "children": [
              "IPY_MODEL_103170de5fb441bab16aeca2be6528f2",
              "IPY_MODEL_64c36280839343d3b84b41e643ad91d3",
              "IPY_MODEL_6b7fba83fa3248739871d5d38c08ef24"
            ],
            "layout": "IPY_MODEL_cad75b047607400ca948a07d9d1bcbe3"
          }
        },
        "103170de5fb441bab16aeca2be6528f2": {
          "model_module": "@jupyter-widgets/controls",
          "model_name": "HTMLModel",
          "model_module_version": "1.5.0",
          "state": {
            "_dom_classes": [],
            "_model_module": "@jupyter-widgets/controls",
            "_model_module_version": "1.5.0",
            "_model_name": "HTMLModel",
            "_view_count": null,
            "_view_module": "@jupyter-widgets/controls",
            "_view_module_version": "1.5.0",
            "_view_name": "HTMLView",
            "description": "",
            "description_tooltip": null,
            "layout": "IPY_MODEL_edfcdbd594314b8992f90d0867c0210c",
            "placeholder": "​",
            "style": "IPY_MODEL_8e74c0733051401590ce92cf05338c6d",
            "value": "Downloading: 100%"
          }
        },
        "64c36280839343d3b84b41e643ad91d3": {
          "model_module": "@jupyter-widgets/controls",
          "model_name": "FloatProgressModel",
          "model_module_version": "1.5.0",
          "state": {
            "_dom_classes": [],
            "_model_module": "@jupyter-widgets/controls",
            "_model_module_version": "1.5.0",
            "_model_name": "FloatProgressModel",
            "_view_count": null,
            "_view_module": "@jupyter-widgets/controls",
            "_view_module_version": "1.5.0",
            "_view_name": "ProgressView",
            "bar_style": "success",
            "description": "",
            "description_tooltip": null,
            "layout": "IPY_MODEL_151e11cf46ec465899eff0f2e7d9db79",
            "max": 344259,
            "min": 0,
            "orientation": "horizontal",
            "style": "IPY_MODEL_897e89ab069c450db17ef4038930dfb3",
            "value": 344259
          }
        },
        "6b7fba83fa3248739871d5d38c08ef24": {
          "model_module": "@jupyter-widgets/controls",
          "model_name": "HTMLModel",
          "model_module_version": "1.5.0",
          "state": {
            "_dom_classes": [],
            "_model_module": "@jupyter-widgets/controls",
            "_model_module_version": "1.5.0",
            "_model_name": "HTMLModel",
            "_view_count": null,
            "_view_module": "@jupyter-widgets/controls",
            "_view_module_version": "1.5.0",
            "_view_name": "HTMLView",
            "description": "",
            "description_tooltip": null,
            "layout": "IPY_MODEL_1d49fd3616124721b92099d9ff1d1b26",
            "placeholder": "​",
            "style": "IPY_MODEL_1371e693d4014880bb50177ea83740af",
            "value": " 344k/344k [00:00&lt;00:00, 253kB/s]"
          }
        },
        "cad75b047607400ca948a07d9d1bcbe3": {
          "model_module": "@jupyter-widgets/base",
          "model_name": "LayoutModel",
          "model_module_version": "1.2.0",
          "state": {
            "_model_module": "@jupyter-widgets/base",
            "_model_module_version": "1.2.0",
            "_model_name": "LayoutModel",
            "_view_count": null,
            "_view_module": "@jupyter-widgets/base",
            "_view_module_version": "1.2.0",
            "_view_name": "LayoutView",
            "align_content": null,
            "align_items": null,
            "align_self": null,
            "border": null,
            "bottom": null,
            "display": null,
            "flex": null,
            "flex_flow": null,
            "grid_area": null,
            "grid_auto_columns": null,
            "grid_auto_flow": null,
            "grid_auto_rows": null,
            "grid_column": null,
            "grid_gap": null,
            "grid_row": null,
            "grid_template_areas": null,
            "grid_template_columns": null,
            "grid_template_rows": null,
            "height": null,
            "justify_content": null,
            "justify_items": null,
            "left": null,
            "margin": null,
            "max_height": null,
            "max_width": null,
            "min_height": null,
            "min_width": null,
            "object_fit": null,
            "object_position": null,
            "order": null,
            "overflow": null,
            "overflow_x": null,
            "overflow_y": null,
            "padding": null,
            "right": null,
            "top": null,
            "visibility": null,
            "width": null
          }
        },
        "edfcdbd594314b8992f90d0867c0210c": {
          "model_module": "@jupyter-widgets/base",
          "model_name": "LayoutModel",
          "model_module_version": "1.2.0",
          "state": {
            "_model_module": "@jupyter-widgets/base",
            "_model_module_version": "1.2.0",
            "_model_name": "LayoutModel",
            "_view_count": null,
            "_view_module": "@jupyter-widgets/base",
            "_view_module_version": "1.2.0",
            "_view_name": "LayoutView",
            "align_content": null,
            "align_items": null,
            "align_self": null,
            "border": null,
            "bottom": null,
            "display": null,
            "flex": null,
            "flex_flow": null,
            "grid_area": null,
            "grid_auto_columns": null,
            "grid_auto_flow": null,
            "grid_auto_rows": null,
            "grid_column": null,
            "grid_gap": null,
            "grid_row": null,
            "grid_template_areas": null,
            "grid_template_columns": null,
            "grid_template_rows": null,
            "height": null,
            "justify_content": null,
            "justify_items": null,
            "left": null,
            "margin": null,
            "max_height": null,
            "max_width": null,
            "min_height": null,
            "min_width": null,
            "object_fit": null,
            "object_position": null,
            "order": null,
            "overflow": null,
            "overflow_x": null,
            "overflow_y": null,
            "padding": null,
            "right": null,
            "top": null,
            "visibility": null,
            "width": null
          }
        },
        "8e74c0733051401590ce92cf05338c6d": {
          "model_module": "@jupyter-widgets/controls",
          "model_name": "DescriptionStyleModel",
          "model_module_version": "1.5.0",
          "state": {
            "_model_module": "@jupyter-widgets/controls",
            "_model_module_version": "1.5.0",
            "_model_name": "DescriptionStyleModel",
            "_view_count": null,
            "_view_module": "@jupyter-widgets/base",
            "_view_module_version": "1.2.0",
            "_view_name": "StyleView",
            "description_width": ""
          }
        },
        "151e11cf46ec465899eff0f2e7d9db79": {
          "model_module": "@jupyter-widgets/base",
          "model_name": "LayoutModel",
          "model_module_version": "1.2.0",
          "state": {
            "_model_module": "@jupyter-widgets/base",
            "_model_module_version": "1.2.0",
            "_model_name": "LayoutModel",
            "_view_count": null,
            "_view_module": "@jupyter-widgets/base",
            "_view_module_version": "1.2.0",
            "_view_name": "LayoutView",
            "align_content": null,
            "align_items": null,
            "align_self": null,
            "border": null,
            "bottom": null,
            "display": null,
            "flex": null,
            "flex_flow": null,
            "grid_area": null,
            "grid_auto_columns": null,
            "grid_auto_flow": null,
            "grid_auto_rows": null,
            "grid_column": null,
            "grid_gap": null,
            "grid_row": null,
            "grid_template_areas": null,
            "grid_template_columns": null,
            "grid_template_rows": null,
            "height": null,
            "justify_content": null,
            "justify_items": null,
            "left": null,
            "margin": null,
            "max_height": null,
            "max_width": null,
            "min_height": null,
            "min_width": null,
            "object_fit": null,
            "object_position": null,
            "order": null,
            "overflow": null,
            "overflow_x": null,
            "overflow_y": null,
            "padding": null,
            "right": null,
            "top": null,
            "visibility": null,
            "width": null
          }
        },
        "897e89ab069c450db17ef4038930dfb3": {
          "model_module": "@jupyter-widgets/controls",
          "model_name": "ProgressStyleModel",
          "model_module_version": "1.5.0",
          "state": {
            "_model_module": "@jupyter-widgets/controls",
            "_model_module_version": "1.5.0",
            "_model_name": "ProgressStyleModel",
            "_view_count": null,
            "_view_module": "@jupyter-widgets/base",
            "_view_module_version": "1.2.0",
            "_view_name": "StyleView",
            "bar_color": null,
            "description_width": ""
          }
        },
        "1d49fd3616124721b92099d9ff1d1b26": {
          "model_module": "@jupyter-widgets/base",
          "model_name": "LayoutModel",
          "model_module_version": "1.2.0",
          "state": {
            "_model_module": "@jupyter-widgets/base",
            "_model_module_version": "1.2.0",
            "_model_name": "LayoutModel",
            "_view_count": null,
            "_view_module": "@jupyter-widgets/base",
            "_view_module_version": "1.2.0",
            "_view_name": "LayoutView",
            "align_content": null,
            "align_items": null,
            "align_self": null,
            "border": null,
            "bottom": null,
            "display": null,
            "flex": null,
            "flex_flow": null,
            "grid_area": null,
            "grid_auto_columns": null,
            "grid_auto_flow": null,
            "grid_auto_rows": null,
            "grid_column": null,
            "grid_gap": null,
            "grid_row": null,
            "grid_template_areas": null,
            "grid_template_columns": null,
            "grid_template_rows": null,
            "height": null,
            "justify_content": null,
            "justify_items": null,
            "left": null,
            "margin": null,
            "max_height": null,
            "max_width": null,
            "min_height": null,
            "min_width": null,
            "object_fit": null,
            "object_position": null,
            "order": null,
            "overflow": null,
            "overflow_x": null,
            "overflow_y": null,
            "padding": null,
            "right": null,
            "top": null,
            "visibility": null,
            "width": null
          }
        },
        "1371e693d4014880bb50177ea83740af": {
          "model_module": "@jupyter-widgets/controls",
          "model_name": "DescriptionStyleModel",
          "model_module_version": "1.5.0",
          "state": {
            "_model_module": "@jupyter-widgets/controls",
            "_model_module_version": "1.5.0",
            "_model_name": "DescriptionStyleModel",
            "_view_count": null,
            "_view_module": "@jupyter-widgets/base",
            "_view_module_version": "1.2.0",
            "_view_name": "StyleView",
            "description_width": ""
          }
        }
      }
    },
    "accelerator": "GPU"
  },
  "nbformat": 4,
  "nbformat_minor": 0
}